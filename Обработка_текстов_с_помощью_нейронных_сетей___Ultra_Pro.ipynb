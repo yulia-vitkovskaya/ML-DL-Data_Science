{
  "cells": [
    {
      "cell_type": "markdown",
      "metadata": {
        "id": "3hahJ-ONkfmR"
      },
      "source": [
        "Дорогой студент!\n",
        "\n",
        "В домашнем задании Ultra Pro занятия по обработке тектсов с помощью НС мы ставим задачу распознать уже не 6, как ранее, а целых 20 русских писателей! Это подразумевает и больший размер базы для обучения соответственно. Ячейка для скачивания базы уже включена в ноутбук задания.\n",
        "\n",
        "\n",
        " В задании необходимо выполнить следующие пункты:\n",
        "\n",
        "  1. Загрузить саму базу по ссылке и подговить файлы базы для обработки.\n",
        "  2. Создать обучающую и проверочную выборки, обратив особое внимание на балансировку базы: количество примеров каждого класса должно быть примерно одного порядка. При этом для разбивки необходимо применить цикл. Проверочная выборка должна быть 20% от общей выборки.\n",
        "  3. Подготовьте выборки для обучения и обучите сеть. Добейтесь результата точности сети не менее 95% на проверочной выборке модели Bag of Words и 75-80% - для модели Embedding.\n",
        "   \n"
      ]
    },
    {
      "cell_type": "markdown",
      "metadata": {
        "id": "33jfQBFi-MBe"
      },
      "source": [
        "# **Подключение библиотек**"
      ]
    },
    {
      "cell_type": "code",
      "execution_count": null,
      "metadata": {
        "id": "GvcFePTK951W"
      },
      "outputs": [],
      "source": [
        "import numpy as np\n",
        "import pandas as pd\n",
        "import matplotlib.pyplot as plt\n",
        "from tensorflow.keras import utils\n",
        "from tensorflow.keras.models import Sequential\n",
        "from tensorflow.keras.layers import Dense, Dropout, SpatialDropout1D, BatchNormalization, Embedding, Flatten, Activation\n",
        "from tensorflow.keras.preprocessing.text import Tokenizer\n",
        "from tensorflow.keras.preprocessing.sequence import pad_sequences\n",
        "import gdown\n",
        "import os\n",
        "%matplotlib inline"
      ]
    },
    {
      "cell_type": "markdown",
      "metadata": {
        "id": "QolTxRtFWm3r"
      },
      "source": [
        "# **Загрузка данных и обработка**"
      ]
    },
    {
      "cell_type": "code",
      "execution_count": null,
      "metadata": {
        "colab": {
          "base_uri": "https://localhost:8080/",
          "height": 36
        },
        "id": "pBys9ajOW43u",
        "outputId": "b0e2208e-201d-40ca-c636-af5cf7a098a8"
      },
      "outputs": [
        {
          "data": {
            "application/vnd.google.colaboratory.intrinsic+json": {
              "type": "string"
            },
            "text/plain": [
              "'20writers.zip'"
            ]
          },
          "execution_count": 2,
          "metadata": {},
          "output_type": "execute_result"
        }
      ],
      "source": [
        "gdown.download('https://storage.yandexcloud.net/aiueducation/Content/base/l7/20writers.zip', None, quiet=True)      # Скачивание файла"
      ]
    },
    {
      "cell_type": "markdown",
      "metadata": {
        "id": "IDDJhOVT-nCD"
      },
      "source": [
        "**Деление общей базы отзывов на данные для обучения и проверки.**"
      ]
    },
    {
      "cell_type": "code",
      "execution_count": null,
      "metadata": {
        "colab": {
          "base_uri": "https://localhost:8080/"
        },
        "id": "83eC5qhZ-T-L",
        "outputId": "d6a56c10-5620-4f82-cdc2-dc1c3dbbe350"
      },
      "outputs": [
        {
          "name": "stdout",
          "output_type": "stream",
          "text": [
            "Беляев.txt    Гончаров.txt     Каверин.txt    Лесков.txt     Толстой.txt\n",
            "Булгаков.txt  Горький.txt      Катаев.txt     Носов.txt      Тургенев.txt\n",
            "Васильев.txt  Грибоедов.txt    Куприн.txt     Пастернак.txt  Чехов.txt\n",
            "Гоголь.txt    Достоевский.txt  Лермонтов.txt  Пушкин.txt     Шолохов.txt\n"
          ]
        }
      ],
      "source": [
        "!unzip -qo 20writers.zip -d writers/\n",
        "\n",
        "!ls writers"
      ]
    },
    {
      "cell_type": "markdown",
      "metadata": {
        "id": "NhOKpnVP_h_r"
      },
      "source": [
        "**Загрузка текста из файлов, преобразование в одну строку.**"
      ]
    },
    {
      "cell_type": "code",
      "execution_count": null,
      "metadata": {
        "colab": {
          "background_save": true
        },
        "id": "vK_LvMkm_ihC"
      },
      "outputs": [],
      "source": [
        "def read_text(file_name):\n",
        "  read_file = open(file_name, 'r')\n",
        "  text = read_file.read()\n",
        "  text = text.replace(\"\\n\", \" \")\n",
        "  return text\n",
        "\n",
        "class_names = ['Беляев', 'Булгаков', 'Васильев', ' Гоголь', 'Гончаров', 'Горький',\n",
        "               'Грибоедов', 'Достоевский', 'Каверин', 'Катаев', 'Куприн', 'Лермонтов',\n",
        "               'Лесков', 'Носов', 'Пастернак', 'Пушкин', 'Толстой', '']\n",
        "\n",
        "# Считаем количество классов\n",
        "num_classes = len(class_names)"
      ]
    }
  ],
  "metadata": {
    "accelerator": "GPU",
    "colab": {
      "provenance": []
    },
    "kernelspec": {
      "display_name": "Python 3",
      "name": "python3"
    },
    "language_info": {
      "name": "python"
    }
  },
  "nbformat": 4,
  "nbformat_minor": 0
}