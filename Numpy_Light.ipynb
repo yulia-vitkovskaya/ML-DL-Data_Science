{
  "nbformat": 4,
  "nbformat_minor": 0,
  "metadata": {
    "colab": {
      "provenance": []
    },
    "kernelspec": {
      "name": "python3",
      "display_name": "Python 3"
    }
  },
  "cells": [
    {
      "cell_type": "markdown",
      "metadata": {
        "id": "Bt0uOkpAxRw1"
      },
      "source": [
        "# Numpy. Домашнее Задание. Light\n",
        "\n"
      ]
    },
    {
      "cell_type": "code",
      "source": [
        "import numpy as np"
      ],
      "metadata": {
        "id": "bGn9UNVr72zv"
      },
      "execution_count": null,
      "outputs": []
    },
    {
      "cell_type": "markdown",
      "metadata": {
        "id": "x3viGq298SYv"
      },
      "source": [
        "## Задача 1\n",
        "\n",
        "\n",
        "1. Поместите в переменную `my_array` файл **train_vector_1.csv** с помощью функции **np.loadtxt**.\n",
        "\n",
        "2. Убедитесь, что подгруженный массив имеет тип np.ndarray (выведите тип переменной my_array).\n",
        "\n",
        "Ссылка на файл: https://drive.google.com/open?id=1ngnrhmoMInequrA6JyAe90lEPhcbi0iH"
      ]
    },
    {
      "cell_type": "code",
      "metadata": {
        "id": "yHrMnJAr_e7c",
        "outputId": "c58da77c-12ff-425b-cc6d-12f437a9f8d2",
        "colab": {
          "base_uri": "https://localhost:8080/"
        }
      },
      "source": [
        "fname = 'train_vector_1.csv'\n",
        "my_array = np.loadtxt(fname, delimiter=',')\n",
        "print(type(my_array))"
      ],
      "execution_count": null,
      "outputs": [
        {
          "output_type": "stream",
          "name": "stdout",
          "text": [
            "<class 'numpy.ndarray'>\n"
          ]
        }
      ]
    },
    {
      "cell_type": "markdown",
      "metadata": {
        "id": "Sa06XNJq8SY4"
      },
      "source": [
        "## Задача 2\n",
        "\n",
        "Напишите код, который считает среднее значение всех элементов массива (без использования встроенных функций np.mean и т. д.). Для решения задачи воспользуйтесь циклом.\n",
        "* С помощью команды %%timeit отобразите время выполнения написанного кода.\n",
        "* Преобразуйте массив my_array в список (с помощью метода list()), сохраните его в переменной my_list.\n",
        "* В новой ячейке посчитайте среднее значение всех элементов списка (воспользуйтесь тем же кодом, что и для массива).\n",
        "* Командой %%timeit отобразите время выполнения и этой ячейки."
      ]
    },
    {
      "cell_type": "code",
      "source": [
        "my_list = list(my_array)"
      ],
      "metadata": {
        "id": "c7n1rjsIuLu-"
      },
      "execution_count": null,
      "outputs": []
    },
    {
      "cell_type": "code",
      "metadata": {
        "id": "iEPsnBqUBc9s",
        "colab": {
          "base_uri": "https://localhost:8080/"
        },
        "outputId": "fe9676f5-3045-47bf-8cbf-677526f4302d"
      },
      "source": [
        "%%timeit -n 3\n",
        "sum = 0\n",
        "for el in my_list:\n",
        "  sum += el\n",
        "aver = sum / len(my_list)\n",
        "print(aver)\n"
      ],
      "execution_count": null,
      "outputs": [
        {
          "output_type": "stream",
          "name": "stdout",
          "text": [
            "3.057333333333334\n",
            "3.057333333333334\n",
            "3.057333333333334\n",
            "3.057333333333334\n",
            "3.057333333333334\n",
            "3.057333333333334\n",
            "3.057333333333334\n",
            "3.057333333333334\n",
            "3.057333333333334\n",
            "3.057333333333334\n",
            "3.057333333333334\n",
            "3.057333333333334\n",
            "3.057333333333334\n",
            "3.057333333333334\n",
            "3.057333333333334\n",
            "3.057333333333334\n",
            "3.057333333333334\n",
            "3.057333333333334\n",
            "3.057333333333334\n",
            "3.057333333333334\n",
            "3.057333333333334\n",
            "The slowest run took 30.87 times longer than the fastest. This could mean that an intermediate result is being cached.\n",
            "307 µs ± 341 µs per loop (mean ± std. dev. of 7 runs, 3 loops each)\n"
          ]
        }
      ]
    },
    {
      "cell_type": "markdown",
      "metadata": {
        "id": "Z7JZ-m918SZA"
      },
      "source": [
        "## Задача 3\n",
        "\n",
        "Подгрузите файл **iris.csv** с помощью встроенной функции **np.loadtxt**. Назовите его my_2d_array. Напишите код, который считает сумму элементов массива по столбцам (для решения данной задачи воспользуйтесь разделом ноутбук \"Операции с двумерными массивами и встроенные методы\")."
      ]
    },
    {
      "cell_type": "code",
      "metadata": {
        "id": "G-Rk1MlfBdR6",
        "colab": {
          "base_uri": "https://localhost:8080/"
        },
        "outputId": "adc986d3-6930-48ec-b3f7-4a1ec8552227"
      },
      "source": [
        "my_file = 'iris.csv'\n",
        "my_2d_array = np.loadtxt(my_file, delimiter=',', skiprows=1)\n",
        "print(my_2d_array.sum(axis=0))"
      ],
      "execution_count": null,
      "outputs": [
        {
          "output_type": "stream",
          "name": "stdout",
          "text": [
            "[11175.    876.5   458.6   563.7   179.9]\n"
          ]
        }
      ]
    },
    {
      "cell_type": "markdown",
      "metadata": {
        "id": "5lm0wgbRzVSA"
      },
      "source": [
        "## Задача 4\n",
        "\n",
        "* Используя библиотеку numpy, создайте массив 3x3, значения которого находятся в диапазоне от 11 до 40 (раздел \"Семплирование из распределений\").\n",
        "\n",
        "* Не используя цикл for,  выведите на экран список элементов, которые меньше 20 (раздел \"Индексация\").\n",
        "\n",
        "* Просуммируйте все элементы, не используя цикл for (раздел \"Встроенные методы\").\n"
      ]
    },
    {
      "cell_type": "code",
      "metadata": {
        "id": "BRzqyQTtBdm_",
        "colab": {
          "base_uri": "https://localhost:8080/"
        },
        "outputId": "b23f8f38-02bb-4a49-8ecd-ea9bcb8ef5ac"
      },
      "source": [
        "rr = np.random.randint(11, 40, (3, 3))\n",
        "print(f'Элементы меньше 20: {rr[ rr < 20 ]}')\n",
        "print(f'Сумма элементов: {rr.sum()}')"
      ],
      "execution_count": null,
      "outputs": [
        {
          "output_type": "stream",
          "name": "stdout",
          "text": [
            "Элементы меньше 20: [19 18 17 12]\n",
            "Сумма элементов: 210\n"
          ]
        }
      ]
    },
    {
      "cell_type": "markdown",
      "metadata": {
        "id": "4t6Yrs7Vj80p"
      },
      "source": [
        "## Задача 5\n",
        "\n",
        "\n",
        "* Создайте массив, который будет содержать списки с именем студента(str), его возрастом(int) и средней оценкой(float) (обратите внимание на пример с занятия со списком автомобильных регионов).\n",
        "* Отсортируйте такой массив (обратите внимание на параметр order метода sort()).\n",
        "* Замените значение, отвечающее за возраст, у всех студентов на одно и то же, например, 10. Отсортируйте такой массив."
      ]
    },
    {
      "cell_type": "code",
      "metadata": {
        "id": "f0_qzDy3Bd2f",
        "colab": {
          "base_uri": "https://localhost:8080/"
        },
        "outputId": "67874912-f796-4f27-d7ae-3a146f55021c"
      },
      "source": [
        "example = [('Name', '<U8'), ('Age', np.int32), ('Average rating', np.float32)]\n",
        "students = [('Маша', 18, 5), ('Игорь', 20, 3.8), ('Соня', 19, 4.3), ('Витя', 18, 2.9)]\n",
        "array = np.array(students, dtype=example)\n",
        "print(array)\n",
        "\n",
        "array.sort(order = 'Name')\n",
        "print(array)\n",
        "\n",
        "array['Age'] = 20\n",
        "array.sort(order = 'Average rating')\n",
        "\n",
        "print(array)"
      ],
      "execution_count": null,
      "outputs": [
        {
          "output_type": "stream",
          "name": "stdout",
          "text": [
            "[('Маша', 18, 5. ) ('Игорь', 20, 3.8) ('Соня', 19, 4.3) ('Витя', 18, 2.9)]\n",
            "[('Витя', 18, 2.9) ('Игорь', 20, 3.8) ('Маша', 18, 5. ) ('Соня', 19, 4.3)]\n",
            "[('Витя', 20, 2.9) ('Игорь', 20, 3.8) ('Соня', 20, 4.3) ('Маша', 20, 5. )]\n"
          ]
        }
      ]
    }
  ]
}