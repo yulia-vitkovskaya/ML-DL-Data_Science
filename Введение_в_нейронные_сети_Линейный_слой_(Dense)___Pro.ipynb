{
  "nbformat": 4,
  "nbformat_minor": 0,
  "metadata": {
    "colab": {
      "provenance": []
    },
    "kernelspec": {
      "name": "python3",
      "display_name": "Python 3"
    },
    "language_info": {
      "name": "python"
    },
    "accelerator": "GPU"
  },
  "cells": [
    {
      "cell_type": "markdown",
      "metadata": {
        "id": "d_qXycKuUA51"
      },
      "source": [
        "### Задание"
      ]
    },
    {
      "cell_type": "markdown",
      "metadata": {
        "id": "aUMmCXubUHEb"
      },
      "source": [
        "Самостоятельно напишите нейронную сеть, которая может стать составной частью системы бота для игры в \"Крестики-нолики\". Используя подготовленную базу изображений, создайте и обучите нейронную сеть, распознающую две категории изображений: крестики и нолики. Добейтесь точности распознавания более 95% (accuracy)\n"
      ]
    },
    {
      "cell_type": "code",
      "metadata": {
        "id": "LvOL2h3EdC9y"
      },
      "source": [
        "# Подключение класса для создания нейронной сети прямого распространения\n",
        "from tensorflow.keras.models import Sequential\n",
        "# Подключение класса для создания полносвязного слоя\n",
        "from tensorflow.keras.layers import Dense\n",
        "# Подключение оптимизатора\n",
        "from tensorflow.keras.optimizers import Adam\n",
        "# Подключение утилит для to_categorical\n",
        "from tensorflow.keras import utils\n",
        "# Подключение библиотеки для загрузки изображений\n",
        "from tensorflow.keras.preprocessing import image\n",
        "# Подключение библиотеки для работы с массивами\n",
        "import numpy as np\n",
        "# Подключение модуля для работы с файлами\n",
        "import os\n",
        "# Подключение библиотек для отрисовки изображений\n",
        "import matplotlib.pyplot as plt\n",
        "from PIL import Image\n",
        "# Вывод изображения в ноутбуке, а не в консоли или файле\n",
        "%matplotlib inline"
      ],
      "execution_count": null,
      "outputs": []
    },
    {
      "cell_type": "code",
      "metadata": {
        "colab": {
          "base_uri": "https://localhost:8080/",
          "height": 35
        },
        "id": "lJSH41rM12IE",
        "outputId": "e26d2291-c92d-4a4d-889a-06c908822458"
      },
      "source": [
        "# Загрузка датасета из облака\n",
        "import gdown\n",
        "gdown.download('https://storage.yandexcloud.net/aiueducation/Content/base/l3/hw_pro.zip', None, quiet=True)"
      ],
      "execution_count": null,
      "outputs": [
        {
          "output_type": "execute_result",
          "data": {
            "text/plain": [
              "'hw_pro.zip'"
            ],
            "application/vnd.google.colaboratory.intrinsic+json": {
              "type": "string"
            }
          },
          "metadata": {},
          "execution_count": 2
        }
      ]
    },
    {
      "cell_type": "code",
      "metadata": {
        "id": "5HAhCsCJ1_hJ"
      },
      "source": [
        "# Распаковываем архив hw_light.zip в папку hw_light\n",
        "!unzip -q hw_pro.zip"
      ],
      "execution_count": null,
      "outputs": []
    },
    {
      "cell_type": "code",
      "metadata": {
        "colab": {
          "base_uri": "https://localhost:8080/"
        },
        "id": "HhHbCet01zmG",
        "outputId": "e5a8f0c5-3af5-4b7b-9d12-73f44bfa02ec"
      },
      "source": [
        "# Путь к директории с базой\n",
        "base_dir = '/content/hw_pro'\n",
        "# Создание пустого списка для загрузки изображений обучающей выборки\n",
        "x_train = []\n",
        "# Создание списка для меток классов\n",
        "y_train = []\n",
        "# Задание высоты и ширины загружаемых изображений\n",
        "img_height = 20\n",
        "img_width = 20\n",
        "# Перебор папок в директории базы\n",
        "for patch in os.listdir(base_dir):\n",
        "    # Перебор файлов в папках\n",
        "    for img in os.listdir(base_dir + '/' + patch):\n",
        "        # Добавление в список изображений текущей картинки\n",
        "        x_train.append(image.img_to_array(image.load_img(base_dir + '/' + patch + '/' + img,\n",
        "                                                         target_size=(img_height, img_width),\n",
        "                                                         color_mode='grayscale')))\n",
        "        # Добавление в массив меток, соответствующих классам\n",
        "        if patch == '0':\n",
        "            y_train.append(0)\n",
        "        else:\n",
        "            y_train.append(1)\n",
        "# Преобразование в numpy-массив загруженных изображений и меток классов\n",
        "x_train = np.array(x_train)\n",
        "y_train = np.array(y_train)\n",
        "# Вывод размерностей\n",
        "print('Размер массива x_train', x_train.shape)\n",
        "print('Размер массива y_train', y_train.shape)"
      ],
      "execution_count": null,
      "outputs": [
        {
          "output_type": "stream",
          "name": "stdout",
          "text": [
            "Размер массива x_train (102, 20, 20, 1)\n",
            "Размер массива y_train (102,)\n"
          ]
        }
      ]
    },
    {
      "cell_type": "markdown",
      "source": [
        "### **Подготовка данных**"
      ],
      "metadata": {
        "id": "eItt2eLRWZSy"
      }
    },
    {
      "cell_type": "code",
      "metadata": {
        "id": "TJLh3F3N2DCD",
        "outputId": "79a01532-83bc-460b-9ac5-6e4481194bd3",
        "colab": {
          "base_uri": "https://localhost:8080/"
        }
      },
      "source": [
        "x_train = x_train.reshape(102, 400)\n",
        "print(x_train.shape)\n",
        "x_train = x_train.astype('float32')\n",
        "x_train = x_train / 255\n",
        "y_train = utils.to_categorical(y_train, 2)\n",
        "print(y_train.shape)\n",
        "print(y_train[12])"
      ],
      "execution_count": null,
      "outputs": [
        {
          "output_type": "stream",
          "name": "stdout",
          "text": [
            "(102, 400)\n",
            "(102, 2)\n",
            "[1. 0.]\n"
          ]
        }
      ]
    },
    {
      "cell_type": "markdown",
      "source": [
        "### **Создание нейронной сети**"
      ],
      "metadata": {
        "id": "MjvVxbtoWmJa"
      }
    },
    {
      "cell_type": "code",
      "source": [
        "model = Sequential()\n",
        "model.add(Dense(32, input_dim = 400, activation = 'relu'))\n",
        "model.add(Dense(2, activation = 'sigmoid'))\n",
        "model.compile(loss=\"categorical_crossentropy\", optimizer=Adam(learning_rate=0.001), metrics=[\"accuracy\"])\n",
        "model.fit(x_train, y_train, batch_size=10, epochs=12, verbose=1, shuffle=True)"
      ],
      "metadata": {
        "id": "Usnj39apWpBf",
        "outputId": "2c70fc85-6b1f-4308-a26c-73cd9ebfbeca",
        "colab": {
          "base_uri": "https://localhost:8080/"
        }
      },
      "execution_count": null,
      "outputs": [
        {
          "output_type": "stream",
          "name": "stdout",
          "text": [
            "Epoch 1/12\n",
            "11/11 [==============================] - 1s 4ms/step - loss: 0.7034 - accuracy: 0.5686\n",
            "Epoch 2/12\n",
            "11/11 [==============================] - 0s 3ms/step - loss: 0.5300 - accuracy: 0.8137\n",
            "Epoch 3/12\n",
            "11/11 [==============================] - 0s 3ms/step - loss: 0.4838 - accuracy: 0.8039\n",
            "Epoch 4/12\n",
            "11/11 [==============================] - 0s 3ms/step - loss: 0.4501 - accuracy: 0.8039\n",
            "Epoch 5/12\n",
            "11/11 [==============================] - 0s 3ms/step - loss: 0.3514 - accuracy: 0.9314\n",
            "Epoch 6/12\n",
            "11/11 [==============================] - 0s 3ms/step - loss: 0.3254 - accuracy: 0.9510\n",
            "Epoch 7/12\n",
            "11/11 [==============================] - 0s 3ms/step - loss: 0.2657 - accuracy: 0.9804\n",
            "Epoch 8/12\n",
            "11/11 [==============================] - 0s 4ms/step - loss: 0.2542 - accuracy: 0.9510\n",
            "Epoch 9/12\n",
            "11/11 [==============================] - 0s 3ms/step - loss: 0.1886 - accuracy: 1.0000\n",
            "Epoch 10/12\n",
            "11/11 [==============================] - 0s 3ms/step - loss: 0.1719 - accuracy: 0.9902\n",
            "Epoch 11/12\n",
            "11/11 [==============================] - 0s 3ms/step - loss: 0.1387 - accuracy: 1.0000\n",
            "Epoch 12/12\n",
            "11/11 [==============================] - 0s 3ms/step - loss: 0.1266 - accuracy: 1.0000\n"
          ]
        },
        {
          "output_type": "execute_result",
          "data": {
            "text/plain": [
              "<keras.callbacks.History at 0x7f45a0d2c910>"
            ]
          },
          "metadata": {},
          "execution_count": 10
        }
      ]
    }
  ]
}