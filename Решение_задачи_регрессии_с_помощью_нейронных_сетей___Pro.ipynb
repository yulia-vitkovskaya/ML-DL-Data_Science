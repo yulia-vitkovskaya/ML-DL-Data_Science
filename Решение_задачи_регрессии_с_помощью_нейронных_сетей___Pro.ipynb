{
  "nbformat": 4,
  "nbformat_minor": 0,
  "metadata": {
    "colab": {
      "provenance": []
    },
    "kernelspec": {
      "name": "python3",
      "display_name": "Python 3"
    },
    "language_info": {
      "name": "python"
    },
    "accelerator": "GPU"
  },
  "cells": [
    {
      "cell_type": "markdown",
      "metadata": {
        "id": "31cbeZ-A5L3N"
      },
      "source": [
        "На базе баскетбольных матчей добейтесь средней абсолютной ошибки 17 и менее очков."
      ]
    },
    {
      "cell_type": "markdown",
      "source": [
        "## **Подключение библиотек**"
      ],
      "metadata": {
        "id": "c2zRR03MVwMX"
      }
    },
    {
      "cell_type": "code",
      "source": [
        "# Работа с массивами данных\n",
        "import numpy as np\n",
        "\n",
        "# Работа с табличными данными\n",
        "import pandas as pd\n",
        "\n",
        "# Функции-утилиты для работы с категориальными данными\n",
        "from tensorflow.keras import utils\n",
        "\n",
        "# Класс для конструирования последовательной модели нейронной сети\n",
        "from tensorflow.keras.models import Sequential, Model\n",
        "\n",
        "# Основные слои\n",
        "from tensorflow.keras.layers import Dense, Dropout, SpatialDropout1D, BatchNormalization, Embedding, Flatten, Activation, Input, concatenate\n",
        "from tensorflow.keras.layers import SimpleRNN, GRU, LSTM, Bidirectional, Conv1D, MaxPooling1D, GlobalMaxPooling1D\n",
        "\n",
        "# Оптимизаторы\n",
        "from tensorflow.keras.optimizers import Adam, Adadelta, SGD, Adagrad, RMSprop\n",
        "\n",
        "# Токенизатор для преобразование текстов в последовательности\n",
        "from tensorflow.keras.preprocessing.text import Tokenizer\n",
        "\n",
        "# Масштабирование данных\n",
        "from sklearn.preprocessing import StandardScaler\n",
        "\n",
        "from tensorflow.keras.callbacks import ReduceLROnPlateau\n",
        "#from tensorflow.keras.utils import plot_history\n",
        "\n",
        "# Загрузка датасетов из облака google\n",
        "import gdown\n",
        "\n",
        "# Регулярные выражения\n",
        "import re\n",
        "\n",
        "# Отрисовка графиков\n",
        "import matplotlib.pyplot as plt\n",
        "\n",
        "# Метрики для расчета ошибок\n",
        "from sklearn.metrics import mean_squared_error, mean_absolute_error\n",
        "\n",
        "%matplotlib inline"
      ],
      "metadata": {
        "id": "AYCi_oZJVvWz"
      },
      "execution_count": null,
      "outputs": []
    },
    {
      "cell_type": "markdown",
      "metadata": {
        "id": "C5L189Dd1jHp"
      },
      "source": [
        "##**Подготовка**"
      ]
    },
    {
      "cell_type": "code",
      "metadata": {
        "id": "HPU6-yDKisB2",
        "colab": {
          "base_uri": "https://localhost:8080/",
          "height": 676
        },
        "outputId": "32d7f4c0-13c7-4a0b-a076-920617f2c2e1"
      },
      "source": [
        "# Загрузка из google облака\n",
        "gdown.download('https://storage.yandexcloud.net/aiueducation/Content/base/l10/basketball.csv', None, quiet=True)\n",
        "\n",
        "df = pd.read_csv('basketball.csv', encoding= 'cp1251', sep=';', header=0, index_col=0) # Загружаем базу\n",
        "df.head(20)"
      ],
      "execution_count": null,
      "outputs": [
        {
          "output_type": "execute_result",
          "data": {
            "text/plain": [
              "    TOTAL                                               info  Ком. 1  Ком. 2  \\\n",
              "0    98,5  4081445 Новая Зеландия. Женщины. WBC. Регулярн...       2     0.0   \n",
              "1   100,5  4081445 Новая Зеландия. Женщины. WBC. Регулярн...       2     2.0   \n",
              "2    99,5  4081445 Новая Зеландия. Женщины. WBC. Регулярн...       2     2.0   \n",
              "3    98,5  4081445 Новая Зеландия. Женщины. WBC. Регулярн...       2     2.0   \n",
              "4    95,5  4081445 Новая Зеландия. Женщины. WBC. Регулярн...       2     2.0   \n",
              "5    91,5  4081445 Новая Зеландия. Женщины. WBC. Регулярн...       2     2.0   \n",
              "6    93,5  4081445 Новая Зеландия. Женщины. WBC. Регулярн...       4     4.0   \n",
              "7    90,5  4081445 Новая Зеландия. Женщины. WBC. Регулярн...       4     4.0   \n",
              "8    91,5  4081445 Новая Зеландия. Женщины. WBC. Регулярн...       5     4.0   \n",
              "9    92,5  4081445 Новая Зеландия. Женщины. WBC. Регулярн...       5     5.0   \n",
              "10   93,5  4081445 Новая Зеландия. Женщины. WBC. Регулярн...       5     5.0   \n",
              "11   93,5  4081445 Новая Зеландия. Женщины. WBC. Регулярн...       7     5.0   \n",
              "12   92,5  4081445 Новая Зеландия. Женщины. WBC. Регулярн...       7     5.0   \n",
              "13   93,5  4081445 Новая Зеландия. Женщины. WBC. Регулярн...       7     5.0   \n",
              "14   92,5  4081445 Новая Зеландия. Женщины. WBC. Регулярн...       7     5.0   \n",
              "15   92,5  4081445 Новая Зеландия. Женщины. WBC. Регулярн...       7     6.0   \n",
              "16   92,5  4081445 Новая Зеландия. Женщины. WBC. Регулярн...       7     6.0   \n",
              "17   93,5  4081445 Новая Зеландия. Женщины. WBC. Регулярн...       7     8.0   \n",
              "18   93,5  4081445 Новая Зеландия. Женщины. WBC. Регулярн...       7     8.0   \n",
              "19   92,5  4081445 Новая Зеландия. Женщины. WBC. Регулярн...       7     8.0   \n",
              "\n",
              "    Минута  Общая минута  Секунда  fcount  ftime  \n",
              "0        1           1.0       30      81   90.0  \n",
              "1        1           1.0       45      81  105.0  \n",
              "2        2           2.0        0      81  120.0  \n",
              "3        2           2.0       30      81  150.0  \n",
              "4        3           3.0        0      81  180.0  \n",
              "5        4           4.0        0      81  240.0  \n",
              "6        4           4.0       30      81  270.0  \n",
              "7        6           6.0        0      81  360.0  \n",
              "8        6           6.0        0      81  360.0  \n",
              "9        6           6.0        0      81  360.0  \n",
              "10       6           6.0       15      81  375.0  \n",
              "11       6           6.0       15      81  375.0  \n",
              "12       6           6.0       30      81  390.0  \n",
              "13       6           6.0       30      81  390.0  \n",
              "14       7           7.0        0      81  420.0  \n",
              "15       7           7.0        0      81  420.0  \n",
              "16       7           7.0       15      81  435.0  \n",
              "17       7           7.0       30      81  450.0  \n",
              "18       7           7.0       45      81  465.0  \n",
              "19       8           8.0        0      81  480.0  "
            ],
            "text/html": [
              "\n",
              "\n",
              "  <div id=\"df-f6888f39-d260-41b6-92ef-c2a15d9e4d5f\">\n",
              "    <div class=\"colab-df-container\">\n",
              "      <div>\n",
              "<style scoped>\n",
              "    .dataframe tbody tr th:only-of-type {\n",
              "        vertical-align: middle;\n",
              "    }\n",
              "\n",
              "    .dataframe tbody tr th {\n",
              "        vertical-align: top;\n",
              "    }\n",
              "\n",
              "    .dataframe thead th {\n",
              "        text-align: right;\n",
              "    }\n",
              "</style>\n",
              "<table border=\"1\" class=\"dataframe\">\n",
              "  <thead>\n",
              "    <tr style=\"text-align: right;\">\n",
              "      <th></th>\n",
              "      <th>TOTAL</th>\n",
              "      <th>info</th>\n",
              "      <th>Ком. 1</th>\n",
              "      <th>Ком. 2</th>\n",
              "      <th>Минута</th>\n",
              "      <th>Общая минута</th>\n",
              "      <th>Секунда</th>\n",
              "      <th>fcount</th>\n",
              "      <th>ftime</th>\n",
              "    </tr>\n",
              "  </thead>\n",
              "  <tbody>\n",
              "    <tr>\n",
              "      <th>0</th>\n",
              "      <td>98,5</td>\n",
              "      <td>4081445 Новая Зеландия. Женщины. WBC. Регулярн...</td>\n",
              "      <td>2</td>\n",
              "      <td>0.0</td>\n",
              "      <td>1</td>\n",
              "      <td>1.0</td>\n",
              "      <td>30</td>\n",
              "      <td>81</td>\n",
              "      <td>90.0</td>\n",
              "    </tr>\n",
              "    <tr>\n",
              "      <th>1</th>\n",
              "      <td>100,5</td>\n",
              "      <td>4081445 Новая Зеландия. Женщины. WBC. Регулярн...</td>\n",
              "      <td>2</td>\n",
              "      <td>2.0</td>\n",
              "      <td>1</td>\n",
              "      <td>1.0</td>\n",
              "      <td>45</td>\n",
              "      <td>81</td>\n",
              "      <td>105.0</td>\n",
              "    </tr>\n",
              "    <tr>\n",
              "      <th>2</th>\n",
              "      <td>99,5</td>\n",
              "      <td>4081445 Новая Зеландия. Женщины. WBC. Регулярн...</td>\n",
              "      <td>2</td>\n",
              "      <td>2.0</td>\n",
              "      <td>2</td>\n",
              "      <td>2.0</td>\n",
              "      <td>0</td>\n",
              "      <td>81</td>\n",
              "      <td>120.0</td>\n",
              "    </tr>\n",
              "    <tr>\n",
              "      <th>3</th>\n",
              "      <td>98,5</td>\n",
              "      <td>4081445 Новая Зеландия. Женщины. WBC. Регулярн...</td>\n",
              "      <td>2</td>\n",
              "      <td>2.0</td>\n",
              "      <td>2</td>\n",
              "      <td>2.0</td>\n",
              "      <td>30</td>\n",
              "      <td>81</td>\n",
              "      <td>150.0</td>\n",
              "    </tr>\n",
              "    <tr>\n",
              "      <th>4</th>\n",
              "      <td>95,5</td>\n",
              "      <td>4081445 Новая Зеландия. Женщины. WBC. Регулярн...</td>\n",
              "      <td>2</td>\n",
              "      <td>2.0</td>\n",
              "      <td>3</td>\n",
              "      <td>3.0</td>\n",
              "      <td>0</td>\n",
              "      <td>81</td>\n",
              "      <td>180.0</td>\n",
              "    </tr>\n",
              "    <tr>\n",
              "      <th>5</th>\n",
              "      <td>91,5</td>\n",
              "      <td>4081445 Новая Зеландия. Женщины. WBC. Регулярн...</td>\n",
              "      <td>2</td>\n",
              "      <td>2.0</td>\n",
              "      <td>4</td>\n",
              "      <td>4.0</td>\n",
              "      <td>0</td>\n",
              "      <td>81</td>\n",
              "      <td>240.0</td>\n",
              "    </tr>\n",
              "    <tr>\n",
              "      <th>6</th>\n",
              "      <td>93,5</td>\n",
              "      <td>4081445 Новая Зеландия. Женщины. WBC. Регулярн...</td>\n",
              "      <td>4</td>\n",
              "      <td>4.0</td>\n",
              "      <td>4</td>\n",
              "      <td>4.0</td>\n",
              "      <td>30</td>\n",
              "      <td>81</td>\n",
              "      <td>270.0</td>\n",
              "    </tr>\n",
              "    <tr>\n",
              "      <th>7</th>\n",
              "      <td>90,5</td>\n",
              "      <td>4081445 Новая Зеландия. Женщины. WBC. Регулярн...</td>\n",
              "      <td>4</td>\n",
              "      <td>4.0</td>\n",
              "      <td>6</td>\n",
              "      <td>6.0</td>\n",
              "      <td>0</td>\n",
              "      <td>81</td>\n",
              "      <td>360.0</td>\n",
              "    </tr>\n",
              "    <tr>\n",
              "      <th>8</th>\n",
              "      <td>91,5</td>\n",
              "      <td>4081445 Новая Зеландия. Женщины. WBC. Регулярн...</td>\n",
              "      <td>5</td>\n",
              "      <td>4.0</td>\n",
              "      <td>6</td>\n",
              "      <td>6.0</td>\n",
              "      <td>0</td>\n",
              "      <td>81</td>\n",
              "      <td>360.0</td>\n",
              "    </tr>\n",
              "    <tr>\n",
              "      <th>9</th>\n",
              "      <td>92,5</td>\n",
              "      <td>4081445 Новая Зеландия. Женщины. WBC. Регулярн...</td>\n",
              "      <td>5</td>\n",
              "      <td>5.0</td>\n",
              "      <td>6</td>\n",
              "      <td>6.0</td>\n",
              "      <td>0</td>\n",
              "      <td>81</td>\n",
              "      <td>360.0</td>\n",
              "    </tr>\n",
              "    <tr>\n",
              "      <th>10</th>\n",
              "      <td>93,5</td>\n",
              "      <td>4081445 Новая Зеландия. Женщины. WBC. Регулярн...</td>\n",
              "      <td>5</td>\n",
              "      <td>5.0</td>\n",
              "      <td>6</td>\n",
              "      <td>6.0</td>\n",
              "      <td>15</td>\n",
              "      <td>81</td>\n",
              "      <td>375.0</td>\n",
              "    </tr>\n",
              "    <tr>\n",
              "      <th>11</th>\n",
              "      <td>93,5</td>\n",
              "      <td>4081445 Новая Зеландия. Женщины. WBC. Регулярн...</td>\n",
              "      <td>7</td>\n",
              "      <td>5.0</td>\n",
              "      <td>6</td>\n",
              "      <td>6.0</td>\n",
              "      <td>15</td>\n",
              "      <td>81</td>\n",
              "      <td>375.0</td>\n",
              "    </tr>\n",
              "    <tr>\n",
              "      <th>12</th>\n",
              "      <td>92,5</td>\n",
              "      <td>4081445 Новая Зеландия. Женщины. WBC. Регулярн...</td>\n",
              "      <td>7</td>\n",
              "      <td>5.0</td>\n",
              "      <td>6</td>\n",
              "      <td>6.0</td>\n",
              "      <td>30</td>\n",
              "      <td>81</td>\n",
              "      <td>390.0</td>\n",
              "    </tr>\n",
              "    <tr>\n",
              "      <th>13</th>\n",
              "      <td>93,5</td>\n",
              "      <td>4081445 Новая Зеландия. Женщины. WBC. Регулярн...</td>\n",
              "      <td>7</td>\n",
              "      <td>5.0</td>\n",
              "      <td>6</td>\n",
              "      <td>6.0</td>\n",
              "      <td>30</td>\n",
              "      <td>81</td>\n",
              "      <td>390.0</td>\n",
              "    </tr>\n",
              "    <tr>\n",
              "      <th>14</th>\n",
              "      <td>92,5</td>\n",
              "      <td>4081445 Новая Зеландия. Женщины. WBC. Регулярн...</td>\n",
              "      <td>7</td>\n",
              "      <td>5.0</td>\n",
              "      <td>7</td>\n",
              "      <td>7.0</td>\n",
              "      <td>0</td>\n",
              "      <td>81</td>\n",
              "      <td>420.0</td>\n",
              "    </tr>\n",
              "    <tr>\n",
              "      <th>15</th>\n",
              "      <td>92,5</td>\n",
              "      <td>4081445 Новая Зеландия. Женщины. WBC. Регулярн...</td>\n",
              "      <td>7</td>\n",
              "      <td>6.0</td>\n",
              "      <td>7</td>\n",
              "      <td>7.0</td>\n",
              "      <td>0</td>\n",
              "      <td>81</td>\n",
              "      <td>420.0</td>\n",
              "    </tr>\n",
              "    <tr>\n",
              "      <th>16</th>\n",
              "      <td>92,5</td>\n",
              "      <td>4081445 Новая Зеландия. Женщины. WBC. Регулярн...</td>\n",
              "      <td>7</td>\n",
              "      <td>6.0</td>\n",
              "      <td>7</td>\n",
              "      <td>7.0</td>\n",
              "      <td>15</td>\n",
              "      <td>81</td>\n",
              "      <td>435.0</td>\n",
              "    </tr>\n",
              "    <tr>\n",
              "      <th>17</th>\n",
              "      <td>93,5</td>\n",
              "      <td>4081445 Новая Зеландия. Женщины. WBC. Регулярн...</td>\n",
              "      <td>7</td>\n",
              "      <td>8.0</td>\n",
              "      <td>7</td>\n",
              "      <td>7.0</td>\n",
              "      <td>30</td>\n",
              "      <td>81</td>\n",
              "      <td>450.0</td>\n",
              "    </tr>\n",
              "    <tr>\n",
              "      <th>18</th>\n",
              "      <td>93,5</td>\n",
              "      <td>4081445 Новая Зеландия. Женщины. WBC. Регулярн...</td>\n",
              "      <td>7</td>\n",
              "      <td>8.0</td>\n",
              "      <td>7</td>\n",
              "      <td>7.0</td>\n",
              "      <td>45</td>\n",
              "      <td>81</td>\n",
              "      <td>465.0</td>\n",
              "    </tr>\n",
              "    <tr>\n",
              "      <th>19</th>\n",
              "      <td>92,5</td>\n",
              "      <td>4081445 Новая Зеландия. Женщины. WBC. Регулярн...</td>\n",
              "      <td>7</td>\n",
              "      <td>8.0</td>\n",
              "      <td>8</td>\n",
              "      <td>8.0</td>\n",
              "      <td>0</td>\n",
              "      <td>81</td>\n",
              "      <td>480.0</td>\n",
              "    </tr>\n",
              "  </tbody>\n",
              "</table>\n",
              "</div>\n",
              "      <button class=\"colab-df-convert\" onclick=\"convertToInteractive('df-f6888f39-d260-41b6-92ef-c2a15d9e4d5f')\"\n",
              "              title=\"Convert this dataframe to an interactive table.\"\n",
              "              style=\"display:none;\">\n",
              "\n",
              "  <svg xmlns=\"http://www.w3.org/2000/svg\" height=\"24px\"viewBox=\"0 0 24 24\"\n",
              "       width=\"24px\">\n",
              "    <path d=\"M0 0h24v24H0V0z\" fill=\"none\"/>\n",
              "    <path d=\"M18.56 5.44l.94 2.06.94-2.06 2.06-.94-2.06-.94-.94-2.06-.94 2.06-2.06.94zm-11 1L8.5 8.5l.94-2.06 2.06-.94-2.06-.94L8.5 2.5l-.94 2.06-2.06.94zm10 10l.94 2.06.94-2.06 2.06-.94-2.06-.94-.94-2.06-.94 2.06-2.06.94z\"/><path d=\"M17.41 7.96l-1.37-1.37c-.4-.4-.92-.59-1.43-.59-.52 0-1.04.2-1.43.59L10.3 9.45l-7.72 7.72c-.78.78-.78 2.05 0 2.83L4 21.41c.39.39.9.59 1.41.59.51 0 1.02-.2 1.41-.59l7.78-7.78 2.81-2.81c.8-.78.8-2.07 0-2.86zM5.41 20L4 18.59l7.72-7.72 1.47 1.35L5.41 20z\"/>\n",
              "  </svg>\n",
              "      </button>\n",
              "\n",
              "\n",
              "\n",
              "    <div id=\"df-ac88c197-39a6-4f66-8662-141811208c99\">\n",
              "      <button class=\"colab-df-quickchart\" onclick=\"quickchart('df-ac88c197-39a6-4f66-8662-141811208c99')\"\n",
              "              title=\"Suggest charts.\"\n",
              "              style=\"display:none;\">\n",
              "\n",
              "<svg xmlns=\"http://www.w3.org/2000/svg\" height=\"24px\"viewBox=\"0 0 24 24\"\n",
              "     width=\"24px\">\n",
              "    <g>\n",
              "        <path d=\"M19 3H5c-1.1 0-2 .9-2 2v14c0 1.1.9 2 2 2h14c1.1 0 2-.9 2-2V5c0-1.1-.9-2-2-2zM9 17H7v-7h2v7zm4 0h-2V7h2v10zm4 0h-2v-4h2v4z\"/>\n",
              "    </g>\n",
              "</svg>\n",
              "      </button>\n",
              "    </div>\n",
              "\n",
              "<style>\n",
              "  .colab-df-quickchart {\n",
              "    background-color: #E8F0FE;\n",
              "    border: none;\n",
              "    border-radius: 50%;\n",
              "    cursor: pointer;\n",
              "    display: none;\n",
              "    fill: #1967D2;\n",
              "    height: 32px;\n",
              "    padding: 0 0 0 0;\n",
              "    width: 32px;\n",
              "  }\n",
              "\n",
              "  .colab-df-quickchart:hover {\n",
              "    background-color: #E2EBFA;\n",
              "    box-shadow: 0px 1px 2px rgba(60, 64, 67, 0.3), 0px 1px 3px 1px rgba(60, 64, 67, 0.15);\n",
              "    fill: #174EA6;\n",
              "  }\n",
              "\n",
              "  [theme=dark] .colab-df-quickchart {\n",
              "    background-color: #3B4455;\n",
              "    fill: #D2E3FC;\n",
              "  }\n",
              "\n",
              "  [theme=dark] .colab-df-quickchart:hover {\n",
              "    background-color: #434B5C;\n",
              "    box-shadow: 0px 1px 3px 1px rgba(0, 0, 0, 0.15);\n",
              "    filter: drop-shadow(0px 1px 2px rgba(0, 0, 0, 0.3));\n",
              "    fill: #FFFFFF;\n",
              "  }\n",
              "</style>\n",
              "\n",
              "    <script>\n",
              "      async function quickchart(key) {\n",
              "        const containerElement = document.querySelector('#' + key);\n",
              "        const charts = await google.colab.kernel.invokeFunction(\n",
              "            'suggestCharts', [key], {});\n",
              "      }\n",
              "    </script>\n",
              "\n",
              "      <script>\n",
              "\n",
              "function displayQuickchartButton(domScope) {\n",
              "  let quickchartButtonEl =\n",
              "    domScope.querySelector('#df-ac88c197-39a6-4f66-8662-141811208c99 button.colab-df-quickchart');\n",
              "  quickchartButtonEl.style.display =\n",
              "    google.colab.kernel.accessAllowed ? 'block' : 'none';\n",
              "}\n",
              "\n",
              "        displayQuickchartButton(document);\n",
              "      </script>\n",
              "      <style>\n",
              "    .colab-df-container {\n",
              "      display:flex;\n",
              "      flex-wrap:wrap;\n",
              "      gap: 12px;\n",
              "    }\n",
              "\n",
              "    .colab-df-convert {\n",
              "      background-color: #E8F0FE;\n",
              "      border: none;\n",
              "      border-radius: 50%;\n",
              "      cursor: pointer;\n",
              "      display: none;\n",
              "      fill: #1967D2;\n",
              "      height: 32px;\n",
              "      padding: 0 0 0 0;\n",
              "      width: 32px;\n",
              "    }\n",
              "\n",
              "    .colab-df-convert:hover {\n",
              "      background-color: #E2EBFA;\n",
              "      box-shadow: 0px 1px 2px rgba(60, 64, 67, 0.3), 0px 1px 3px 1px rgba(60, 64, 67, 0.15);\n",
              "      fill: #174EA6;\n",
              "    }\n",
              "\n",
              "    [theme=dark] .colab-df-convert {\n",
              "      background-color: #3B4455;\n",
              "      fill: #D2E3FC;\n",
              "    }\n",
              "\n",
              "    [theme=dark] .colab-df-convert:hover {\n",
              "      background-color: #434B5C;\n",
              "      box-shadow: 0px 1px 3px 1px rgba(0, 0, 0, 0.15);\n",
              "      filter: drop-shadow(0px 1px 2px rgba(0, 0, 0, 0.3));\n",
              "      fill: #FFFFFF;\n",
              "    }\n",
              "  </style>\n",
              "\n",
              "      <script>\n",
              "        const buttonEl =\n",
              "          document.querySelector('#df-f6888f39-d260-41b6-92ef-c2a15d9e4d5f button.colab-df-convert');\n",
              "        buttonEl.style.display =\n",
              "          google.colab.kernel.accessAllowed ? 'block' : 'none';\n",
              "\n",
              "        async function convertToInteractive(key) {\n",
              "          const element = document.querySelector('#df-f6888f39-d260-41b6-92ef-c2a15d9e4d5f');\n",
              "          const dataTable =\n",
              "            await google.colab.kernel.invokeFunction('convertToInteractive',\n",
              "                                                     [key], {});\n",
              "          if (!dataTable) return;\n",
              "\n",
              "          const docLinkHtml = 'Like what you see? Visit the ' +\n",
              "            '<a target=\"_blank\" href=https://colab.research.google.com/notebooks/data_table.ipynb>data table notebook</a>'\n",
              "            + ' to learn more about interactive tables.';\n",
              "          element.innerHTML = '';\n",
              "          dataTable['output_type'] = 'display_data';\n",
              "          await google.colab.output.renderOutput(dataTable, element);\n",
              "          const docLink = document.createElement('div');\n",
              "          docLink.innerHTML = docLinkHtml;\n",
              "          element.appendChild(docLink);\n",
              "        }\n",
              "      </script>\n",
              "    </div>\n",
              "  </div>\n"
            ]
          },
          "metadata": {},
          "execution_count": 35
        }
      ]
    },
    {
      "cell_type": "markdown",
      "metadata": {
        "id": "WppGhbAXCrJ2"
      },
      "source": [
        "Извлекаем текстовые данные из колонки `info` таблицы, помещаем в переменную `data_text`. Выводим длину списка:"
      ]
    },
    {
      "cell_type": "code",
      "metadata": {
        "id": "kqMfqc7VA9AA",
        "colab": {
          "base_uri": "https://localhost:8080/"
        },
        "outputId": "d0c9ad1a-b64d-45c5-e453-e38bf4cce087"
      },
      "source": [
        "data_text = df['info'].values #\n",
        "\n",
        "len(data_text) #"
      ],
      "execution_count": null,
      "outputs": [
        {
          "output_type": "execute_result",
          "data": {
            "text/plain": [
              "52450"
            ]
          },
          "metadata": {},
          "execution_count": 36
        }
      ]
    },
    {
      "cell_type": "code",
      "source": [
        "data_text"
      ],
      "metadata": {
        "colab": {
          "base_uri": "https://localhost:8080/"
        },
        "id": "taMZsRwJUDb9",
        "outputId": "643ccf36-f090-4d4a-c8aa-0a7a18661a30"
      },
      "execution_count": null,
      "outputs": [
        {
          "output_type": "execute_result",
          "data": {
            "text/plain": [
              "array(['4081445 Новая Зеландия. Женщины. WBC. Регулярный сезон. Нельсон(Нельсон Спаркс - Токерау Феоникс)\\n',\n",
              "       '4081445 Новая Зеландия. Женщины. WBC. Регулярный сезон. Нельсон(Нельсон Спаркс - Токерау Феоникс)\\n',\n",
              "       '4081445 Новая Зеландия. Женщины. WBC. Регулярный сезон. Нельсон(Нельсон Спаркс - Токерау Феоникс)\\n',\n",
              "       ...,\n",
              "       '4163481 Португалия. Мужчины. LPB. Плей-офф. 1/4 финала(Галитуш Баррейру - Оливейренсе)\\n',\n",
              "       '4163481 Португалия. Мужчины. LPB. Плей-офф. 1/4 финала(Галитуш Баррейру - Оливейренсе)\\n',\n",
              "       '4163481 Португалия. Мужчины. LPB. Плей-офф. 1/4 финала(Галитуш Баррейру - Оливейренсе)\\n'],\n",
              "      dtype=object)"
            ]
          },
          "metadata": {},
          "execution_count": 37
        }
      ]
    },
    {
      "cell_type": "markdown",
      "metadata": {
        "id": "5hvulCqhDKg6"
      },
      "source": [
        "Задаем максимальное кол-во слов в словаре, помещаем в переменную все символы, которые хотим вычистить из текста.\n",
        "\n",
        " Токенизируем текстовые данные:"
      ]
    },
    {
      "cell_type": "code",
      "metadata": {
        "id": "e5dpDy4NDFYr"
      },
      "source": [
        "maxWordsCount = 5000\n",
        "\n",
        "sim_for_del='!\"#$%&()*+,-./:;<=>?@[\\\\]^_`{|}~\\t\\n'\n",
        "\n",
        "tokenizer = Tokenizer (num_words=maxWordsCount,\n",
        "                       filters=sim_for_del,\n",
        "                       lower=True,\n",
        "                       split=' ',\n",
        "                       oov_token='unknown',\n",
        "                       char_level=False)\n",
        "\n",
        "tokenizer.fit_on_texts(data_text)"
      ],
      "execution_count": null,
      "outputs": []
    },
    {
      "cell_type": "code",
      "metadata": {
        "id": "bz3TreMTDQgo"
      },
      "source": [
        "# Переводим в Эмбеддинг пространство\n",
        "Sequences = tokenizer.texts_to_sequences(data_text)\n",
        "\n",
        "# Вариант  Bag of Words\n",
        "xBOW_text = tokenizer.sequences_to_matrix(Sequences)"
      ],
      "execution_count": null,
      "outputs": []
    },
    {
      "cell_type": "markdown",
      "metadata": {
        "id": "gIxLqUl_EnAX"
      },
      "source": [
        "Преобразуем данные в numpy, подготовим наборы для обучения:"
      ]
    },
    {
      "cell_type": "code",
      "metadata": {
        "id": "-GlIabOhEp8b"
      },
      "source": [
        "xTrain = np.array(df[['Ком. 1','Ком. 2', 'Минута', 'Секунда','ftime']].astype('int'))\n",
        "yTrain = np.array(df['fcount'].astype('int'))"
      ],
      "execution_count": null,
      "outputs": []
    },
    {
      "cell_type": "code",
      "metadata": {
        "colab": {
          "base_uri": "https://localhost:8080/"
        },
        "id": "qCEAj--dEBO8",
        "outputId": "7cb4a8b2-084c-4e8c-cca1-bb10ccb251d4"
      },
      "source": [
        "print(xTrain.shape)\n",
        "print(yTrain.shape)\n",
        "print(xBOW_text.shape)"
      ],
      "execution_count": null,
      "outputs": [
        {
          "output_type": "stream",
          "name": "stdout",
          "text": [
            "(52450, 5)\n",
            "(52450,)\n",
            "(52450, 5000)\n"
          ]
        }
      ]
    },
    {
      "cell_type": "code",
      "metadata": {
        "id": "lUqj01oB8nXa"
      },
      "source": [
        "# Функция по проверке ошибки\n",
        "\n",
        "def check_MAE_predictl_DubbleInput (model,\n",
        "                                    x_data,\n",
        "                                    x_data_text,\n",
        "                                    y_data_not_scaled,\n",
        "                                    plot=False):\n",
        "\n",
        "  mae = 0 # Инициализируем начальное значение ошибки\n",
        "  y_pred = (model.predict([x_data,x_data_text])).squeeze()\n",
        "\n",
        "  for n in range (0,len(x_data)):\n",
        "    mae += abs(y_data_not_scaled[n] - y_pred[n]) # Увеличиваем значение ошибки для текущего элемента\n",
        "  mae /= len(x_data) # Считаем среднее значение\n",
        "  print('Среднаяя абслолютная ошибка {:.3f} очков это {:.3f}% от общей выборки в {} игры'.format(mae, (mae/y_data_not_scaled.mean(axis=0))*100,len(x_data)))\n",
        "\n",
        "  if plot:\n",
        "     plt.scatter(y_data_not_scaled, y_pred)\n",
        "     plt.xlabel('Правильные значение')\n",
        "     plt.ylabel('Предсказания')\n",
        "     plt.axis('equal')\n",
        "     plt.xlim(plt.xlim())\n",
        "     plt.ylim(plt.ylim())\n",
        "     plt.plot([0, 250], [0, 250])\n",
        "     plt.show()"
      ],
      "execution_count": null,
      "outputs": []
    },
    {
      "cell_type": "code",
      "source": [
        "def on_epoch_end_custom(epoch, logs=None):\n",
        "    check_MAE_predictl_DubbleInput(model_final_scaled,xTrain_scaled,xBOW_text,yTrain,plot=True)"
      ],
      "metadata": {
        "id": "WPflxZCvOs9d"
      },
      "execution_count": null,
      "outputs": []
    },
    {
      "cell_type": "markdown",
      "source": [
        "## **Функция оценки**"
      ],
      "metadata": {
        "id": "CALOoHU0VHwM"
      }
    },
    {
      "cell_type": "code",
      "source": [
        "# Функция оценки результатов и вывода оценки\n",
        "\n",
        "def eval_net(model, x_train, y_train, y_scaler = None, n = 10, limit = 1000.):\n",
        "\n",
        "    pred = model.predict(x_train)             # Предсказание на тренировочной выборке\n",
        "    if y_scaler:                              # Если есть нормирование - то денормировать\n",
        "        pred = y_scaler.inverse_transform(pred)\n",
        "\n",
        "    print('Средняя абсолютная ошибка:', mean_absolute_error(pred, y_train), '\\n')\n",
        "\n",
        "    for i in range(n):\n",
        "        print('Реальное значение: {:6.2f}  Предсказанное значение: {:6.2f}  Разница: {:6.2f}'.format(y_train[i, 0],\n",
        "                                                                                                    pred[i, 0],\n",
        "                                                                                                    abs(y_train[i, 0] - pred[i, 0])))\n",
        "    # Построение картинки разброса предсказанных и верных значений зарплаты\n",
        "    fig, ax = plt.subplots(figsize=(6, 6))\n",
        "    ax.scatter(y_train, pred)                 # Отрисовка точечного графика\n",
        "    ax.set_xlim(0, limit)                     # Пределы по x, y\n",
        "    ax.set_ylim(0, limit)\n",
        "    ax.plot(plt.xlim(), plt.ylim(), 'r')      # Отрисовка диагональной линии\n",
        "    plt.xlabel('Правильные значения')\n",
        "    plt.ylabel('Предсказания')\n",
        "    plt.grid()\n",
        "    plt.show()"
      ],
      "metadata": {
        "id": "H7zG11QiVLf1"
      },
      "execution_count": null,
      "outputs": []
    },
    {
      "cell_type": "markdown",
      "source": [
        "## **Обучение модели**"
      ],
      "metadata": {
        "id": "rsBuKg0ZVhhi"
      }
    },
    {
      "cell_type": "code",
      "metadata": {
        "id": "dvmmCQLFwf4e"
      },
      "source": [
        "input1 = Input((xTrain.shape[1],))\n",
        "input2 = Input((xBOW_text.shape[1],))\n",
        "\n",
        "x1 = input1                               # Ветка 1\n",
        "x1 = Dense(128, activation=\"relu\")(x1)\n",
        "x1 = Dense(1000, activation=\"tanh\")(x1)\n",
        "x1 = Dense(100, activation=\"relu\")(x1)\n",
        "\n",
        "x2 = input2                               # Ветка 2\n",
        "x2 = Dense(20, activation=\"relu\")(x2)\n",
        "x2 = Dense(500, activation=\"relu\")(x2)\n",
        "x2 = Dropout(0.3)(x2)\n",
        "\n",
        "x = concatenate([x1, x2])             # Объединение двух веток\n",
        "\n",
        "x = Dense(15, activation='relu')(x)       # Промежуточный слой\n",
        "x = Dropout(0.5)(x)\n",
        "x = Dense(1, activation='linear')(x)      # Финальный регрессирующий нейрон\n",
        "\n",
        "# В Model передаются входы и выход\n",
        "model_final = Model((input1, input2), x)\n",
        "\n",
        "model_final.compile(optimizer=Adam(learning_rate=1e-3), loss='mse', metrics=['mae'])"
      ],
      "execution_count": null,
      "outputs": []
    },
    {
      "cell_type": "code",
      "source": [
        "callback = ReduceLROnPlateau(monitor = 'val_loss',\n",
        "                             factor = 0.2,\n",
        "                             patience = 4,\n",
        "                             min_lr = 0.000001)"
      ],
      "metadata": {
        "id": "3lVPN8f1Yte0"
      },
      "execution_count": null,
      "outputs": []
    },
    {
      "cell_type": "code",
      "source": [
        "history = model_final.fit([xTrain, xBOW_text], yTrain,\n",
        "                          batch_size = 128,\n",
        "                          epochs =50,\n",
        "                          validation_split = 0.2,\n",
        "                          callbacks = [callback],\n",
        "                          verbose = 1)"
      ],
      "metadata": {
        "colab": {
          "base_uri": "https://localhost:8080/"
        },
        "id": "Foh8hBxOksP6",
        "outputId": "d02b2ba7-d0fc-4a81-814e-2120120ed16f"
      },
      "execution_count": null,
      "outputs": [
        {
          "output_type": "stream",
          "name": "stdout",
          "text": [
            "Epoch 1/50\n",
            "328/328 [==============================] - 11s 11ms/step - loss: 7367.2124 - mae: 70.7209 - val_loss: 708.6855 - val_mae: 20.4510 - lr: 1.0000e-04\n",
            "Epoch 2/50\n",
            "328/328 [==============================] - 2s 6ms/step - loss: 2593.3481 - mae: 40.5105 - val_loss: 640.8026 - val_mae: 19.1961 - lr: 1.0000e-04\n",
            "Epoch 3/50\n",
            "328/328 [==============================] - 2s 7ms/step - loss: 2257.2976 - mae: 37.7958 - val_loss: 679.1077 - val_mae: 19.5562 - lr: 1.0000e-04\n",
            "Epoch 4/50\n",
            "328/328 [==============================] - 2s 6ms/step - loss: 2068.1804 - mae: 36.0059 - val_loss: 739.6730 - val_mae: 20.4706 - lr: 1.0000e-04\n",
            "Epoch 5/50\n",
            "328/328 [==============================] - 2s 6ms/step - loss: 2063.1758 - mae: 35.8621 - val_loss: 864.4452 - val_mae: 22.5162 - lr: 1.0000e-04\n",
            "Epoch 6/50\n",
            "328/328 [==============================] - 3s 9ms/step - loss: 2029.7068 - mae: 35.4789 - val_loss: 825.8398 - val_mae: 21.7383 - lr: 1.0000e-04\n",
            "Epoch 7/50\n",
            "328/328 [==============================] - 2s 6ms/step - loss: 2030.8761 - mae: 35.4858 - val_loss: 890.1246 - val_mae: 22.8673 - lr: 1.0000e-04\n",
            "Epoch 8/50\n",
            "328/328 [==============================] - 2s 6ms/step - loss: 2040.1945 - mae: 35.5093 - val_loss: 903.5095 - val_mae: 23.0109 - lr: 1.0000e-04\n",
            "Epoch 9/50\n",
            "328/328 [==============================] - 2s 7ms/step - loss: 2005.2161 - mae: 35.2088 - val_loss: 929.4192 - val_mae: 23.1873 - lr: 1.0000e-04\n",
            "Epoch 10/50\n",
            "328/328 [==============================] - 2s 7ms/step - loss: 1997.5602 - mae: 35.0073 - val_loss: 948.4821 - val_mae: 23.4483 - lr: 1.0000e-04\n",
            "Epoch 11/50\n",
            "328/328 [==============================] - 3s 9ms/step - loss: 1974.3445 - mae: 34.8921 - val_loss: 950.7258 - val_mae: 23.3154 - lr: 1.0000e-04\n",
            "Epoch 12/50\n",
            "328/328 [==============================] - 2s 7ms/step - loss: 1961.9565 - mae: 34.6713 - val_loss: 959.0234 - val_mae: 23.3307 - lr: 1.0000e-04\n",
            "Epoch 13/50\n",
            "328/328 [==============================] - 2s 6ms/step - loss: 1992.0726 - mae: 34.9442 - val_loss: 1016.1609 - val_mae: 24.3836 - lr: 1.0000e-04\n",
            "Epoch 14/50\n",
            "328/328 [==============================] - 2s 6ms/step - loss: 1976.1046 - mae: 34.8469 - val_loss: 981.5009 - val_mae: 23.6858 - lr: 1.0000e-04\n",
            "Epoch 15/50\n",
            "328/328 [==============================] - 2s 7ms/step - loss: 1979.1385 - mae: 34.9483 - val_loss: 1038.7987 - val_mae: 24.5345 - lr: 1.0000e-04\n",
            "Epoch 16/50\n",
            "328/328 [==============================] - 2s 6ms/step - loss: 1977.9413 - mae: 34.8692 - val_loss: 1032.7764 - val_mae: 24.2775 - lr: 1.0000e-04\n",
            "Epoch 17/50\n",
            "328/328 [==============================] - 3s 9ms/step - loss: 1978.8328 - mae: 34.8820 - val_loss: 964.9786 - val_mae: 23.1094 - lr: 1.0000e-04\n",
            "Epoch 18/50\n",
            "328/328 [==============================] - 2s 6ms/step - loss: 1969.2013 - mae: 34.8311 - val_loss: 1051.0598 - val_mae: 24.5481 - lr: 1.0000e-04\n",
            "Epoch 19/50\n",
            "328/328 [==============================] - 2s 6ms/step - loss: 1972.3550 - mae: 34.8447 - val_loss: 1056.0220 - val_mae: 24.5761 - lr: 1.0000e-04\n",
            "Epoch 20/50\n",
            "328/328 [==============================] - 2s 6ms/step - loss: 1956.7417 - mae: 34.6346 - val_loss: 1035.9154 - val_mae: 24.2181 - lr: 1.0000e-04\n",
            "Epoch 21/50\n",
            "328/328 [==============================] - 4s 11ms/step - loss: 1981.0526 - mae: 34.9519 - val_loss: 1024.7690 - val_mae: 23.9934 - lr: 1.0000e-04\n",
            "Epoch 22/50\n",
            "328/328 [==============================] - 3s 8ms/step - loss: 1947.4360 - mae: 34.5859 - val_loss: 1015.1534 - val_mae: 23.8766 - lr: 1.0000e-04\n",
            "Epoch 23/50\n",
            "328/328 [==============================] - 2s 7ms/step - loss: 1979.1823 - mae: 34.9913 - val_loss: 1000.5475 - val_mae: 23.6263 - lr: 1.0000e-04\n",
            "Epoch 24/50\n",
            "328/328 [==============================] - 2s 6ms/step - loss: 1964.9081 - mae: 34.7317 - val_loss: 1056.9652 - val_mae: 24.5351 - lr: 1.0000e-04\n",
            "Epoch 25/50\n",
            "328/328 [==============================] - 2s 7ms/step - loss: 1963.5955 - mae: 34.7475 - val_loss: 978.8015 - val_mae: 23.2130 - lr: 1.0000e-04\n",
            "Epoch 26/50\n",
            "328/328 [==============================] - 2s 6ms/step - loss: 1971.1785 - mae: 34.8268 - val_loss: 1093.8632 - val_mae: 25.1047 - lr: 1.0000e-04\n",
            "Epoch 27/50\n",
            "328/328 [==============================] - 3s 9ms/step - loss: 1976.9474 - mae: 34.9140 - val_loss: 1065.7773 - val_mae: 24.4954 - lr: 1.0000e-04\n",
            "Epoch 28/50\n",
            "328/328 [==============================] - 2s 6ms/step - loss: 1980.6407 - mae: 34.8396 - val_loss: 1139.3807 - val_mae: 25.7581 - lr: 1.0000e-04\n",
            "Epoch 29/50\n",
            "328/328 [==============================] - 2s 6ms/step - loss: 1972.3817 - mae: 34.6955 - val_loss: 1144.3901 - val_mae: 25.8869 - lr: 1.0000e-04\n",
            "Epoch 30/50\n",
            "328/328 [==============================] - 2s 7ms/step - loss: 1953.2992 - mae: 34.6916 - val_loss: 1045.9111 - val_mae: 24.3309 - lr: 1.0000e-04\n",
            "Epoch 31/50\n",
            "328/328 [==============================] - 2s 7ms/step - loss: 1971.2252 - mae: 34.8929 - val_loss: 1055.1311 - val_mae: 24.2271 - lr: 1.0000e-04\n",
            "Epoch 32/50\n",
            "328/328 [==============================] - 3s 9ms/step - loss: 1961.3760 - mae: 34.7245 - val_loss: 1144.4028 - val_mae: 25.7921 - lr: 1.0000e-04\n",
            "Epoch 33/50\n",
            "328/328 [==============================] - 2s 7ms/step - loss: 1977.1813 - mae: 34.8287 - val_loss: 1095.4662 - val_mae: 24.9825 - lr: 1.0000e-04\n",
            "Epoch 34/50\n",
            "328/328 [==============================] - 2s 6ms/step - loss: 1939.3966 - mae: 34.5183 - val_loss: 1107.1842 - val_mae: 25.0477 - lr: 1.0000e-04\n",
            "Epoch 35/50\n",
            "328/328 [==============================] - 2s 7ms/step - loss: 1939.8772 - mae: 34.5394 - val_loss: 1023.0081 - val_mae: 23.6813 - lr: 1.0000e-04\n",
            "Epoch 36/50\n",
            "328/328 [==============================] - 2s 7ms/step - loss: 1960.7775 - mae: 34.7169 - val_loss: 1128.0990 - val_mae: 25.3955 - lr: 1.0000e-04\n",
            "Epoch 37/50\n",
            "328/328 [==============================] - 2s 6ms/step - loss: 1945.0197 - mae: 34.6133 - val_loss: 1078.9822 - val_mae: 24.5164 - lr: 1.0000e-04\n",
            "Epoch 38/50\n",
            "328/328 [==============================] - 3s 8ms/step - loss: 1948.4818 - mae: 34.6252 - val_loss: 1043.3788 - val_mae: 23.9466 - lr: 1.0000e-04\n",
            "Epoch 39/50\n",
            "328/328 [==============================] - 2s 6ms/step - loss: 1934.4728 - mae: 34.4282 - val_loss: 1065.0029 - val_mae: 24.3487 - lr: 1.0000e-04\n",
            "Epoch 40/50\n",
            "328/328 [==============================] - 2s 6ms/step - loss: 1968.2185 - mae: 34.8337 - val_loss: 1095.6185 - val_mae: 24.7723 - lr: 1.0000e-04\n",
            "Epoch 41/50\n",
            "328/328 [==============================] - 2s 6ms/step - loss: 1941.5769 - mae: 34.6104 - val_loss: 1080.7983 - val_mae: 24.5995 - lr: 1.0000e-04\n",
            "Epoch 42/50\n",
            "328/328 [==============================] - 2s 7ms/step - loss: 1957.6984 - mae: 34.7186 - val_loss: 1192.0073 - val_mae: 26.3009 - lr: 1.0000e-04\n",
            "Epoch 43/50\n",
            "328/328 [==============================] - 2s 8ms/step - loss: 1948.3922 - mae: 34.6860 - val_loss: 1047.8702 - val_mae: 23.9848 - lr: 1.0000e-04\n",
            "Epoch 44/50\n",
            "328/328 [==============================] - 3s 8ms/step - loss: 1942.7400 - mae: 34.5483 - val_loss: 1111.4435 - val_mae: 25.0362 - lr: 1.0000e-04\n",
            "Epoch 45/50\n",
            "328/328 [==============================] - 2s 7ms/step - loss: 1944.2795 - mae: 34.4153 - val_loss: 1129.9260 - val_mae: 25.3399 - lr: 1.0000e-04\n",
            "Epoch 46/50\n",
            "328/328 [==============================] - 2s 7ms/step - loss: 1969.5972 - mae: 34.8640 - val_loss: 1098.8237 - val_mae: 24.7950 - lr: 1.0000e-04\n",
            "Epoch 47/50\n",
            "328/328 [==============================] - 2s 7ms/step - loss: 1949.1022 - mae: 34.6466 - val_loss: 1000.5635 - val_mae: 23.1977 - lr: 1.0000e-04\n",
            "Epoch 48/50\n",
            "328/328 [==============================] - 2s 7ms/step - loss: 1968.0498 - mae: 34.7997 - val_loss: 1105.5582 - val_mae: 24.9019 - lr: 1.0000e-04\n",
            "Epoch 49/50\n",
            "328/328 [==============================] - 3s 8ms/step - loss: 1957.4581 - mae: 34.6161 - val_loss: 1210.5276 - val_mae: 26.5359 - lr: 1.0000e-04\n",
            "Epoch 50/50\n",
            "328/328 [==============================] - 2s 6ms/step - loss: 1956.1041 - mae: 34.6599 - val_loss: 1079.5520 - val_mae: 24.4189 - lr: 1.0000e-04\n"
          ]
        }
      ]
    },
    {
      "cell_type": "code",
      "source": [
        "check_MAE_predictl_DubbleInput(model_final, xTrain, xBOW_text, yTrain)"
      ],
      "metadata": {
        "colab": {
          "base_uri": "https://localhost:8080/"
        },
        "id": "A9Usa8mVltog",
        "outputId": "2f204329-6ccc-48b2-a370-03a9c8e03d30"
      },
      "execution_count": null,
      "outputs": [
        {
          "output_type": "stream",
          "name": "stdout",
          "text": [
            "1640/1640 [==============================] - 3s 2ms/step\n",
            "Среднаяя абслолютная ошибка 14.497 очков это 9.561% от общей выборки в 52450 игры\n"
          ]
        }
      ]
    },
    {
      "cell_type": "markdown",
      "metadata": {
        "id": "9bSXt-xD_h7R"
      },
      "source": [
        "Для решения задачи требуются знания по теме `Callbacks`, пожалуйста, изучите раздел:\n",
        "\n",
        "---\n",
        "Дополнителная информация: ([База знаний УИИ – **«Callbacks»**](https://colab.research.google.com/drive/1COE1R3kFhRlxPm9X6hQMvjKoiFFt83xW?usp=sharing))\n",
        "\n",
        "---"
      ]
    }
  ]
}