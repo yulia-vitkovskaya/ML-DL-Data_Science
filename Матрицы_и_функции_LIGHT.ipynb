{
  "nbformat": 4,
  "nbformat_minor": 0,
  "metadata": {
    "colab": {
      "provenance": []
    },
    "kernelspec": {
      "name": "python3",
      "display_name": "Python 3"
    }
  },
  "cells": [
    {
      "cell_type": "code",
      "source": [
        "import numpy as np\n",
        "import matplotlib.pyplot as plt"
      ],
      "metadata": {
        "id": "txG7kDnXCAjr"
      },
      "execution_count": null,
      "outputs": []
    },
    {
      "cell_type": "markdown",
      "metadata": {
        "id": "jplDGhCV53xQ"
      },
      "source": [
        "## **Задача 1**\n",
        "\n",
        "Напишите функцию умножения трёх матриц (не пользуйтесь встроенными функциями такими как  np.dot(), @)"
      ]
    },
    {
      "cell_type": "code",
      "metadata": {
        "id": "o9PT7GXO6o9t"
      },
      "source": [
        "def prod_matrix(matrix1, matrix2):\n",
        "  shape1 = matrix1.shape\n",
        "  shape2 = matrix2.shape\n",
        "\n",
        "  if shape1[1] != shape2[0]:\n",
        "    return np.array([])\n",
        "\n",
        "  out_matrix = np.zeros((shape1[0], shape2[1]))\n",
        "\n",
        "  for i in range(shape1[0]):\n",
        "    for j in range(shape2[1]):\n",
        "      curr_cell = 0\n",
        "      for t in range(shape1[1]):\n",
        "        curr_cell += matrix1[i,t] * matrix2[t,j]\n",
        "      out_matrix[i,j] = curr_cell\n",
        "\n",
        "  return out_matrix"
      ],
      "execution_count": null,
      "outputs": []
    },
    {
      "cell_type": "code",
      "source": [
        "def prod_3_matrix(matrix1, matrix2, matrix3):\n",
        "  return prod_matrix(prod_matrix(matrix1, matrix2), matrix3)"
      ],
      "metadata": {
        "id": "NTljNb9vBeXw"
      },
      "execution_count": null,
      "outputs": []
    },
    {
      "cell_type": "code",
      "source": [
        "matrix1 = np.array([[1, 2, 3], [1, 2, 3], [1, 2, 3]])\n",
        "matrix2 = np.array([[4, 5, 6], [4, 5, 6], [4, 5, 6]])\n",
        "matrix3 = np.array([[7, 8, 9], [7, 8, 9], [7, 8, 9]])"
      ],
      "metadata": {
        "id": "5n_MTZFxCG39"
      },
      "execution_count": null,
      "outputs": []
    },
    {
      "cell_type": "code",
      "source": [
        "prod_3_matrix(matrix1, matrix2, matrix3)"
      ],
      "metadata": {
        "id": "5vCLy5q2CYOC",
        "outputId": "09bbe90f-865b-4037-a524-1a2ccdc7309c",
        "colab": {
          "base_uri": "https://localhost:8080/"
        }
      },
      "execution_count": null,
      "outputs": [
        {
          "output_type": "execute_result",
          "data": {
            "text/plain": [
              "array([[630., 720., 810.],\n",
              "       [630., 720., 810.],\n",
              "       [630., 720., 810.]])"
            ]
          },
          "metadata": {},
          "execution_count": 7
        }
      ]
    },
    {
      "cell_type": "markdown",
      "metadata": {
        "id": "BJJkft2r6svS"
      },
      "source": [
        "## **Задача 2**\n",
        "\n",
        "Напишите функцию, которая считает разницу между максимальным и минимальным элементами матрицы"
      ]
    },
    {
      "cell_type": "code",
      "metadata": {
        "id": "l_QbGpbW66WR"
      },
      "source": [
        "def max_min(matrix):\n",
        "  max = matrix.max()\n",
        "  min = matrix.min()\n",
        "  return max - min"
      ],
      "execution_count": null,
      "outputs": []
    },
    {
      "cell_type": "code",
      "source": [
        "matrix = np.random.randint(0, 30, (3, 3))\n",
        "max_min(matrix)"
      ],
      "metadata": {
        "id": "4gcK__kPDBlj",
        "outputId": "155929fd-b108-4b6d-e8bb-79bc53cd1c67",
        "colab": {
          "base_uri": "https://localhost:8080/"
        }
      },
      "execution_count": null,
      "outputs": [
        {
          "output_type": "execute_result",
          "data": {
            "text/plain": [
              "29"
            ]
          },
          "metadata": {},
          "execution_count": 11
        }
      ]
    },
    {
      "cell_type": "markdown",
      "metadata": {
        "id": "d60LHjWW66gh"
      },
      "source": [
        "## **Задача 3**\n",
        "\n",
        "Напишите функцию, которая\n",
        "- умножает матрицу на транспорированную матрицу (пользуйтесь встроенными функциями такими как np.dot(), @, T)\n",
        "- получает обратную матрицу от результата"
      ]
    },
    {
      "cell_type": "code",
      "metadata": {
        "id": "jB3Nh4xP7cGy"
      },
      "source": [
        "def prod_T(matrix):\n",
        "  prod = matrix @ matrix.T\n",
        "  inv = np.linalg.inv(prod)\n",
        "  return prod, inv"
      ],
      "execution_count": null,
      "outputs": []
    },
    {
      "cell_type": "code",
      "source": [
        "prod_T(matrix)"
      ],
      "metadata": {
        "id": "AhPHJzXXDiV9",
        "outputId": "4b85ee1e-ea72-4c57-e34c-534d2dd1e714",
        "colab": {
          "base_uri": "https://localhost:8080/"
        }
      },
      "execution_count": null,
      "outputs": [
        {
          "output_type": "execute_result",
          "data": {
            "text/plain": [
              "(array([[1124,  434,  902],\n",
              "        [ 434,  250,  163],\n",
              "        [ 902,  163, 1202]]),\n",
              " array([[ 0.04795627, -0.06558744, -0.02709301],\n",
              "        [-0.06558744,  0.09408869,  0.03645875],\n",
              "        [-0.02709301,  0.03645875,  0.0162189 ]]))"
            ]
          },
          "metadata": {},
          "execution_count": 15
        }
      ]
    },
    {
      "cell_type": "markdown",
      "metadata": {
        "id": "kW6CHp2Z0f9a"
      },
      "source": [
        "##**Задача 4**\n",
        "\n",
        "Напишите и отобразите функцию y = x * x * x/12 + x * (x-15) - 72 на отрезке -10; 10"
      ]
    },
    {
      "cell_type": "code",
      "metadata": {
        "id": "z5HR1J670vSA"
      },
      "source": [
        "def func(x):\n",
        "  y = x* x*x/12+x*(x-15)-72\n",
        "  plt.plot(x, y)\n",
        "  plt.show()"
      ],
      "execution_count": null,
      "outputs": []
    },
    {
      "cell_type": "code",
      "source": [
        "x = np.arange(-10, 11, 1)\n",
        "func(x)"
      ],
      "metadata": {
        "id": "GmJlyleOEosY",
        "outputId": "b9f4f764-00c0-4ade-efab-98aeb628f1b7",
        "colab": {
          "base_uri": "https://localhost:8080/",
          "height": 430
        }
      },
      "execution_count": null,
      "outputs": [
        {
          "output_type": "display_data",
          "data": {
            "text/plain": [
              "<Figure size 640x480 with 1 Axes>"
            ],
            "image/png": "[encoded data removed]"
          },
          "metadata": {}
        }
      ]
    },
    {
      "cell_type": "markdown",
      "metadata": {
        "id": "cmn1rGQu0vbw"
      },
      "source": [
        "##**Задача 5**\n",
        "\n",
        "Отобразите ту же функцию на отрезке -10; 10, но с шагом 0.1 по оси x"
      ]
    },
    {
      "cell_type": "code",
      "metadata": {
        "id": "03vBvVYJ04JJ",
        "colab": {
          "base_uri": "https://localhost:8080/",
          "height": 430
        },
        "outputId": "01a552d4-a7b1-4a67-b743-2ba2539e2730"
      },
      "source": [
        "x = np.arange(-10, 11, 0.1)\n",
        "func(x)"
      ],
      "execution_count": null,
      "outputs": [
        {
          "output_type": "display_data",
          "data": {
            "text/plain": [
              "<Figure size 640x480 with 1 Axes>"
            ],
            "image/png": "[encoded data removed]"
          },
          "metadata": {}
        }
      ]
    }
  ]
}