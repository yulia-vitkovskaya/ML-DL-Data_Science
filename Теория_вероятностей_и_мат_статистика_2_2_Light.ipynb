{
  "nbformat": 4,
  "nbformat_minor": 0,
  "metadata": {
    "colab": {
      "provenance": []
    },
    "kernelspec": {
      "name": "python3",
      "display_name": "Python 3"
    }
  },
  "cells": [
    {
      "cell_type": "code",
      "source": [
        "from scipy.stats import uniform\n",
        "from scipy.stats import norm\n",
        "import matplotlib.pyplot as plt\n",
        "import numpy as np"
      ],
      "metadata": {
        "id": "mrgU1cepVSbz"
      },
      "execution_count": null,
      "outputs": []
    },
    {
      "cell_type": "markdown",
      "metadata": {
        "id": "aorqGTJsSfbU"
      },
      "source": [
        "Задача 1\n",
        "\n",
        "Случайная величина  ошибки взвешивания распределена по нормальному закону с нулевым математическим ожиданием и стандартным отклонением 4 грамма. Найти вероятность того, что очередное взвешивание будет проведено с ошибкой, не превышающей по модулю 6 граммов."
      ]
    },
    {
      "cell_type": "code",
      "metadata": {
        "id": "OSkmpNRKLM2X",
        "colab": {
          "base_uri": "https://localhost:8080/"
        },
        "outputId": "8d7382e4-4b25-49d9-a668-27794bfe8219"
      },
      "source": [
        "normal = norm(0, 4)\n",
        "print(normal.cdf(6) - normal.cdf(-6))"
      ],
      "execution_count": null,
      "outputs": [
        {
          "output_type": "stream",
          "name": "stdout",
          "text": [
            "0.8663855974622838\n"
          ]
        }
      ]
    },
    {
      "cell_type": "markdown",
      "metadata": {
        "id": "7_qLtF8lSfbS"
      },
      "source": [
        "Задача 2\n",
        "\n",
        "Автобусы некоторого маршрута идут строго по расписанию и интервалом 5 минут. Составьте функцию плотности случайной величины  X – времени ожидании очередного автобуса пассажиром, который наугад подошёл к остановке. Найдите вероятность того, что он будет ждать автобус не более 2 минут."
      ]
    },
    {
      "cell_type": "code",
      "metadata": {
        "id": "7U5YNbq7LNpV",
        "colab": {
          "base_uri": "https://localhost:8080/"
        },
        "outputId": "73dd4e5f-f903-4f13-a6e8-6eceae585822"
      },
      "source": [
        "uni = uniform(0, 5).cdf(2)\n",
        "print(f'Константа: {1/(5-0)}, Вероятность: {uni}')"
      ],
      "execution_count": null,
      "outputs": [
        {
          "output_type": "stream",
          "name": "stdout",
          "text": [
            "Константа: 0.2, Вероятность: 0.4\n"
          ]
        }
      ]
    },
    {
      "cell_type": "markdown",
      "metadata": {
        "id": "5h93QaZHSfbR"
      },
      "source": [
        "Задача 3\n",
        "\n",
        "Рост мальчиков возрастной группы 15 лет есть нормально распределённая\n",
        "случайная величина X с математическим ожиданием роста 161 см и среднеквадратичным отклонением 4 см. Какую долю костюмов для мальчиков, имеющих рост от 152 до 158 см, нужно предусмотреть в объёме производства для данной возрастной группы?\n"
      ]
    },
    {
      "cell_type": "code",
      "metadata": {
        "id": "1uk8U7RELN_x",
        "colab": {
          "base_uri": "https://localhost:8080/"
        },
        "outputId": "15a5a099-ddbd-4aa6-8704-9fe2cee63771"
      },
      "source": [
        "normal2 = norm(161, 4)\n",
        "dol = normal2.cdf(158) - normal2.cdf(152)\n",
        "print(f'{round(dol * 100, 2)} %')"
      ],
      "execution_count": null,
      "outputs": [
        {
          "output_type": "stream",
          "name": "stdout",
          "text": [
            "21.44 %\n"
          ]
        }
      ]
    },
    {
      "cell_type": "markdown",
      "metadata": {
        "id": "xpHJ2--1SfbK"
      },
      "source": [
        "Задача 4\n",
        "\n",
        "На машиностроительном заводе в процессе производства за неделю обнаруживается в среднем 100 бракованных деталей со среднеквадричным отклонением в 12 деталей.\n",
        "Рассчитайте следующее:\n",
        "1)\n",
        "вероятность того, что за неделю будет 20-30 бракованных деталей,\n",
        "2)\n",
        "вероятность того, что за день будет хотя бы одна забракованная деталь."
      ]
    },
    {
      "cell_type": "code",
      "metadata": {
        "id": "TwzTYh8MLOXv",
        "colab": {
          "base_uri": "https://localhost:8080/"
        },
        "outputId": "eaa5fbc4-1c17-4612-afed-35d79a675095"
      },
      "source": [
        "mu = 100\n",
        "sigma = 12\n",
        "normal3 = norm(mu, sigma)\n",
        "p1 = normal3.cdf(30) - normal3.cdf(20)\n",
        "normal4 = norm(mu/7, sigma/7)\n",
        "p2 = 1 - normal4.cdf(1)\n",
        "print(p1)\n",
        "print(p2)"
      ],
      "execution_count": null,
      "outputs": [
        {
          "output_type": "stream",
          "name": "stdout",
          "text": [
            "2.7034598124020633e-09\n",
            "0.9999999999999954\n"
          ]
        }
      ]
    },
    {
      "cell_type": "markdown",
      "metadata": {
        "id": "jzFl81l4SfbG"
      },
      "source": [
        "Задача 5\n",
        "\n",
        "* Для всех предыдущих задач вычислите среднее, дисперсию и 0.25 и 0.9 квантили.\n",
        "\n",
        "* Для всех предыдущих задач постройте графики cdf и pdf."
      ]
    },
    {
      "cell_type": "code",
      "metadata": {
        "id": "xjxzSZZ5LOy9",
        "colab": {
          "base_uri": "https://localhost:8080/"
        },
        "outputId": "4b2befe7-f54c-43d0-ed1f-5e3015dc9c30"
      },
      "source": [
        "mean1, var1 = normal.stats(moments = 'mv')\n",
        "print(mean1, var1, normal.ppf(0.25), normal.ppf(0.9))"
      ],
      "execution_count": null,
      "outputs": [
        {
          "output_type": "stream",
          "name": "stdout",
          "text": [
            "0.0 16.0 -2.697959000784327 5.1262062621784015\n"
          ]
        }
      ]
    },
    {
      "cell_type": "code",
      "source": [
        "uni = uniform(0, 5)\n",
        "mean2, var2 = uni.stats(moments = 'mv')\n",
        "print(mean2, var2, uni.ppf(0.25), uni.ppf(0.9))"
      ],
      "metadata": {
        "colab": {
          "base_uri": "https://localhost:8080/"
        },
        "id": "0iZEeyjxZiKl",
        "outputId": "8bd2e7a9-1c0e-480d-b597-e233e64fb635"
      },
      "execution_count": null,
      "outputs": [
        {
          "output_type": "stream",
          "name": "stdout",
          "text": [
            "2.5 2.083333333333333 1.25 4.5\n"
          ]
        }
      ]
    },
    {
      "cell_type": "code",
      "source": [
        "mean3, var3 = normal2.stats(moments = 'mv')\n",
        "print(mean3, var3, normal2.ppf(0.25), normal2.ppf(0.9))"
      ],
      "metadata": {
        "colab": {
          "base_uri": "https://localhost:8080/"
        },
        "id": "s1ZjBbxBaVhm",
        "outputId": "488917d3-55b8-4650-af8e-dfd7ceead546"
      },
      "execution_count": null,
      "outputs": [
        {
          "output_type": "stream",
          "name": "stdout",
          "text": [
            "161.0 16.0 158.30204099921568 166.1262062621784\n"
          ]
        }
      ]
    },
    {
      "cell_type": "code",
      "source": [
        "mean4, var4 = normal3.stats(moments = 'mv')\n",
        "print(mean4, var4, normal3.ppf(0.25), normal3.ppf(0.9))"
      ],
      "metadata": {
        "colab": {
          "base_uri": "https://localhost:8080/"
        },
        "id": "--rfY2cganEV",
        "outputId": "23b32568-ef7b-4052-c90f-c48e4cdd2e5e"
      },
      "execution_count": null,
      "outputs": [
        {
          "output_type": "stream",
          "name": "stdout",
          "text": [
            "100.0 144.0 91.90612299764702 115.3786187865352\n"
          ]
        }
      ]
    },
    {
      "cell_type": "code",
      "source": [
        "mean5, var5 = normal4.stats(moments = 'mv')\n",
        "print(mean5, var5, normal4.ppf(0.25), normal4.ppf(0.9))"
      ],
      "metadata": {
        "colab": {
          "base_uri": "https://localhost:8080/"
        },
        "id": "2PBRzDQsagyD",
        "outputId": "0337153c-a755-4c8a-c454-838881e7b382"
      },
      "execution_count": null,
      "outputs": [
        {
          "output_type": "stream",
          "name": "stdout",
          "text": [
            "14.285714285714286 2.9387755102040813 13.129446142521005 16.482659826647886\n"
          ]
        }
      ]
    }
  ]
}