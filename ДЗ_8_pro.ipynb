{
  "nbformat": 4,
  "nbformat_minor": 0,
  "metadata": {
    "colab": {
      "provenance": []
    },
    "kernelspec": {
      "name": "python3",
      "display_name": "Python 3"
    }
  },
  "cells": [
    {
      "cell_type": "code",
      "metadata": {
        "id": "ft_aZI3JcEkv"
      },
      "source": [
        "def P(n): #(факторил)\n",
        "  f =1\n",
        "  for x in range(2,n+1):\n",
        "    f*=x\n",
        "  return f\n",
        "\n",
        "# Сочетание\n",
        "def C_n_m(n,m):\n",
        "  return P(n)/ (P(n-m)* P(m))\n",
        "\n",
        "# Размещение\n",
        "def A_(n,m):\n",
        "  return C_n_m(n,m) * P(m)\n",
        "\n",
        "# Перестановка с повторением\n",
        "def P_rep(n,m):\n",
        "  add = 1\n",
        "  for x in m:\n",
        "    add*=P(x)\n",
        "  return P(n)/ add\n",
        "\n",
        "# Сочетание с повторением\n",
        "def C_n_m_rep(n,m):\n",
        "  return P(n+m-1)/ (P(n-1)* P(m))\n",
        "\n",
        "# Размещение с повторением\n",
        "def A_rep(n,m):\n",
        "  return n**m"
      ],
      "execution_count": null,
      "outputs": []
    },
    {
      "cell_type": "markdown",
      "metadata": {
        "id": "3Mq5CACckeYC"
      },
      "source": [
        "# Комбинаторика"
      ]
    },
    {
      "cell_type": "markdown",
      "metadata": {
        "id": "zzwh_ja4yEaH"
      },
      "source": [
        "###Задача 1\n",
        "\n",
        "Сколько существует выигрышных комбинаций из двух карт при игре в 21 (Блекджек)? (выигрышными комбинациями считаются карта стоимостью 10 + туз. Валет, дама, король и десятка имеют одинаковую стоимость - 10)"
      ]
    },
    {
      "cell_type": "code",
      "metadata": {
        "id": "9P6rhPlpyd0b",
        "colab": {
          "base_uri": "https://localhost:8080/"
        },
        "outputId": "3041f611-fa24-4a7c-b545-8802f2e3757e"
      },
      "source": [
        "k_10 = C_n_m(4, 1) * 4\n",
        "k_t = C_n_m(4, 1)\n",
        "print(k_10 * k_t)"
      ],
      "execution_count": null,
      "outputs": [
        {
          "output_type": "stream",
          "name": "stdout",
          "text": [
            "64.0\n"
          ]
        }
      ]
    },
    {
      "cell_type": "markdown",
      "metadata": {
        "id": "uFHRu7aOyEmw"
      },
      "source": [
        "###Задача 2\n",
        "\n",
        "У Олега дома живут пять котов.\n",
        "\n",
        "а) Сколькими способами можно усадить четырех котов по углам комнаты?\n",
        "б) Сколькими способами можно выпустить котов погулять?\n",
        "в) Сколькими способами Вася может взять на руки двух котов (одного на левую, другого – на правую)?"
      ]
    },
    {
      "cell_type": "code",
      "metadata": {
        "id": "b-xBfAImyeS4",
        "colab": {
          "base_uri": "https://localhost:8080/"
        },
        "outputId": "b154359e-ec66-47a3-d047-a18a0148b96e"
      },
      "source": [
        "print('a) ', C_n_m(5, 4) * P(4))"
      ],
      "execution_count": null,
      "outputs": [
        {
          "output_type": "stream",
          "name": "stdout",
          "text": [
            "a)  120.0\n"
          ]
        }
      ]
    },
    {
      "cell_type": "code",
      "source": [
        "print('б) ', C_n_m(5, 1) + C_n_m(5, 2) + C_n_m(5, 3) + C_n_m(5, 4) + C_n_m(5, 5))"
      ],
      "metadata": {
        "colab": {
          "base_uri": "https://localhost:8080/"
        },
        "id": "E8gZIbq5h0iv",
        "outputId": "e46bdb3b-d15f-4fe3-80fc-e0d538ffc93d"
      },
      "execution_count": null,
      "outputs": [
        {
          "output_type": "stream",
          "name": "stdout",
          "text": [
            "б)  31.0\n"
          ]
        }
      ]
    },
    {
      "cell_type": "code",
      "source": [
        "print('в) ', A_(5, 2))"
      ],
      "metadata": {
        "colab": {
          "base_uri": "https://localhost:8080/"
        },
        "id": "SX0fewM6iTti",
        "outputId": "94ff16e1-b22e-418a-e781-4827239c8377"
      },
      "execution_count": null,
      "outputs": [
        {
          "output_type": "stream",
          "name": "stdout",
          "text": [
            "в)  20.0\n"
          ]
        }
      ]
    },
    {
      "cell_type": "markdown",
      "metadata": {
        "id": "y24DK-TByExK"
      },
      "source": [
        "###Задача 3\n",
        "\n",
        "В лифт двенадцатиэтажного дома сели три пассажира. Каждый независимо от других с одинаковой вероятностью может выйти на любом (начиная со второго) этаже.\n",
        "1) Сколькими способами пассажиры могут выйти на одном и том же этаже (порядок выхода не имеет значения)?\n",
        "2) Сколькими способами два человека могут выйти на одном этаже, а третий – на другом?\n",
        "3) Сколькими способами люди могут выйти на разных этажах?\n",
        "4) Сколькими способами пассажиры могут выйти из лифта?"
      ]
    },
    {
      "cell_type": "code",
      "metadata": {
        "id": "HE39EaxHye3D",
        "colab": {
          "base_uri": "https://localhost:8080/"
        },
        "outputId": "038f7b96-5feb-454d-bcde-812945eee760"
      },
      "source": [
        "print('1) ', 11)\n",
        "print('2) ', C_n_m(11, 2) * A_(3, 2))\n",
        "print('3) ', A_(11, 3))\n",
        "print('4) ', A_(11, 1)**3)"
      ],
      "execution_count": null,
      "outputs": [
        {
          "output_type": "stream",
          "name": "stdout",
          "text": [
            "1)  11\n",
            "2)  330.0\n",
            "3)  990.0\n",
            "4)  1331.0\n"
          ]
        }
      ]
    },
    {
      "cell_type": "markdown",
      "metadata": {
        "id": "i-lUADpzvTMq"
      },
      "source": [
        "###Задача 4\n",
        "\n",
        "В кошельке находятся  одно-, двух- и десятирублевые монеты. Сколькими способами можно извлечь 4 монеты из кошелька?"
      ]
    },
    {
      "cell_type": "code",
      "metadata": {
        "id": "3jrYYLIAv09O",
        "colab": {
          "base_uri": "https://localhost:8080/"
        },
        "outputId": "aee4dfa1-818a-4506-fd8e-ad9eb496f433"
      },
      "source": [
        "C_n_m_rep(3, 4)"
      ],
      "execution_count": null,
      "outputs": [
        {
          "output_type": "execute_result",
          "data": {
            "text/plain": [
              "15.0"
            ]
          },
          "metadata": {},
          "execution_count": 3
        }
      ]
    },
    {
      "cell_type": "markdown",
      "metadata": {
        "id": "zYNvIKpOvTju"
      },
      "source": [
        "###Задача 5\n",
        "\n",
        "Сколько всего существует вариантов IPv4 адресов (https://ru.wikipedia.org/wiki/IPv4) ?"
      ]
    },
    {
      "cell_type": "code",
      "metadata": {
        "id": "yC6A35DKeAdJ",
        "colab": {
          "base_uri": "https://localhost:8080/"
        },
        "outputId": "781e82dd-2879-427a-c66c-78105b97be0b"
      },
      "source": [
        "A_rep(256, 4)"
      ],
      "execution_count": null,
      "outputs": [
        {
          "output_type": "execute_result",
          "data": {
            "text/plain": [
              "4294967296"
            ]
          },
          "metadata": {},
          "execution_count": 4
        }
      ]
    },
    {
      "cell_type": "markdown",
      "metadata": {
        "id": "ozHQXry5n2IS"
      },
      "source": [
        "# Множества"
      ]
    },
    {
      "cell_type": "markdown",
      "metadata": {
        "id": "TgKIOnlDu8cd"
      },
      "source": [
        "###Задача 1\n",
        "\n",
        "В классе 36 учеников. Каждый из них пользуется хотя бы одним из видов городского транспорта: метро, автобусом и троллейбусом. Всеми тремя видами транспорта пользуются 5 учеников, метро и автобусом – 17 учеников, метро и троллейбусом – 15 учеников, троллейбусом и автобусом – 7 учеников.\n",
        "\n",
        "Сколько учеников пользуются только одним видом транспорта?\n"
      ]
    },
    {
      "cell_type": "code",
      "metadata": {
        "id": "I9KwweluvPWt",
        "colab": {
          "base_uri": "https://localhost:8080/"
        },
        "outputId": "2e2c3170-b223-4b12-a352-634d221ade32"
      },
      "source": [
        "# всего 36 учеников\n",
        "# Т, А, М - 5 учеников\n",
        "# М, А - 17 учеников\n",
        "# М, Т - 15 учеников\n",
        "# Т, А - 7 учеников\n",
        "# только М и Т, но не А: 15-5 = 10\n",
        "# только А и Т, но не М: 7-5 = 2\n",
        "# только М и А, но не Т: 17-5 = 12\n",
        "# тогда одним видом транспорта пользуются:\n",
        "print(36-10-2-12-5, 'учеников')"
      ],
      "execution_count": null,
      "outputs": [
        {
          "output_type": "stream",
          "name": "stdout",
          "text": [
            "7 учеников\n"
          ]
        }
      ]
    },
    {
      "cell_type": "markdown",
      "metadata": {
        "id": "yCl-xEaju8CI"
      },
      "source": [
        "###Задача 2\n",
        "\n",
        "Первую или вторую контрольную работу по математике успешно написали 33 студента, первую или третью – 32 студента, вторую или третью – 31 студент. Не менее двух контрольных работ выполнили 20 студентов.\n",
        "\n",
        "Сколько студентов успешно решили только одну контрольную работу?"
      ]
    },
    {
      "cell_type": "code",
      "metadata": {
        "id": "9KkSB0DOeAGh"
      },
      "source": [
        "# A - первая контрольная\n",
        "# B - вторая контрольная\n",
        "# C - третья контрольная\n",
        "# (A ^ B) U (B ^ C) U (A ^ C) = 20\n",
        "# только вторую контрольную или только первую контрольную написали: 32-20 = 12\n",
        "# только вторую контрольную или только третью контрольную написали: 31-20 = 11\n",
        "# только первую контрольную или только третью контрольную написали: 33-20 = 13\n",
        "# (12 + 11 + 13) / 2 = 18"
      ],
      "execution_count": null,
      "outputs": []
    },
    {
      "cell_type": "markdown",
      "metadata": {
        "id": "YKz-zW2jum28"
      },
      "source": [
        "###Задача 3\n",
        "  Дано множество А={1, 2, 4}, существует множество B. Такое, что B\\A = {3} и $A\\cap B$ = {1}.\n",
        "\n",
        "Найти множество B, если его мощность равна 2."
      ]
    },
    {
      "cell_type": "code",
      "metadata": {
        "id": "zTcBhC5Qu4nY"
      },
      "source": [
        "# в А входит 1, 2, 4\n",
        "# 1 входит и в А, и в В\n",
        "# 3 входит в В, но не входит в А\n",
        "# значит во множество В вхожит 1 и 3\n",
        "# В = {1, 3}"
      ],
      "execution_count": null,
      "outputs": []
    }
  ]
}