{
  "nbformat": 4,
  "nbformat_minor": 0,
  "metadata": {
    "colab": {
      "provenance": []
    },
    "kernelspec": {
      "name": "python3",
      "display_name": "Python 3"
    }
  },
  "cells": [
    {
      "cell_type": "markdown",
      "metadata": {
        "id": "Jd4TZPYFrR6S"
      },
      "source": [
        "Домашнее задание. Теория вероятностей. Часть 1. Pro"
      ]
    },
    {
      "cell_type": "markdown",
      "metadata": {
        "id": "Phb0jwW9rS0R"
      },
      "source": [
        "Задача 1\n",
        "\n",
        "Стрелок попадает в цель с одной и той же вероятностью при каждом выстреле. Какова эта вероятность, если вероятность хотя бы одного попадания при трех выстрелах равна 0,853?"
      ]
    },
    {
      "cell_type": "markdown",
      "source": [
        "Вероятность одного попадания при трёх выстрелах равна:\n",
        "\n",
        "P(A) = 1 - q^3 (где q - вероятность промаха)\n",
        "\n",
        "тогда 1 - q^3 = 0,853, откуда q^3 = 0,147\n"
      ],
      "metadata": {
        "id": "QsKUbi4oZYH4"
      }
    },
    {
      "cell_type": "code",
      "metadata": {
        "id": "IDbwrZINrTK1",
        "colab": {
          "base_uri": "https://localhost:8080/"
        },
        "outputId": "5018c4be-2402-4cf2-b5f6-22ef1efc3dd3"
      },
      "source": [
        "q = (0.147)**(1/3)\n",
        "print(1-q)"
      ],
      "execution_count": null,
      "outputs": [
        {
          "output_type": "stream",
          "name": "stdout",
          "text": [
            "0.4722367912095923\n"
          ]
        }
      ]
    },
    {
      "cell_type": "markdown",
      "metadata": {
        "id": "xWEp7CyTr1LA"
      },
      "source": [
        "Задача 2\n",
        "\n",
        "На шахматную доску из 64 клеток ставят наугад две ладьи белого и чёрного цвета. С какой вероятностью они будут «бить» друг друга?"
      ]
    },
    {
      "cell_type": "code",
      "metadata": {
        "id": "3-DyAn48sDSp",
        "colab": {
          "base_uri": "https://localhost:8080/"
        },
        "outputId": "633d1212-0f3e-4631-b596-ceabfb01419a"
      },
      "source": [
        "n=64*63\n",
        "m=64*14\n",
        "print(m/n)"
      ],
      "execution_count": null,
      "outputs": [
        {
          "output_type": "stream",
          "name": "stdout",
          "text": [
            "0.2222222222222222\n"
          ]
        }
      ]
    },
    {
      "cell_type": "markdown",
      "metadata": {
        "id": "IE9h1SKusDjH"
      },
      "source": [
        "Задача 3\n",
        "\n",
        "Подбрасывается 20 монет. Найти вероятность того, что\n",
        "\n",
        "* на всех монетах выпадет решка;\n",
        "\n",
        "* орёл выпадет КАК МИНИМУМ на половине монетах. (Для решения этой части используйте формулу Бернулли)."
      ]
    },
    {
      "cell_type": "code",
      "metadata": {
        "id": "PLdDCEeLsh8R",
        "colab": {
          "base_uri": "https://localhost:8080/"
        },
        "outputId": "99325bdd-e355-407f-ba6b-6675b1d940da"
      },
      "source": [
        "print(0.5**20)"
      ],
      "execution_count": null,
      "outputs": [
        {
          "output_type": "stream",
          "name": "stdout",
          "text": [
            "9.5367431640625e-07\n"
          ]
        }
      ]
    },
    {
      "cell_type": "code",
      "source": [
        "def fact(n):\n",
        "  f=1\n",
        "  for x in range(1,n+1):\n",
        "    f*=x\n",
        "\n",
        "  return f\n",
        "\n",
        "def C_n_m(n,m):\n",
        "  return fact(n)/(fact(n-m)*fact(m))\n",
        "\n",
        "def Bernulli(p, k, n):\n",
        "  return C_n_m(n,k) * p**k * (1-p)**(n-k)"
      ],
      "metadata": {
        "id": "AMLda6vJrGbE"
      },
      "execution_count": null,
      "outputs": []
    },
    {
      "cell_type": "code",
      "source": [
        "P = 0\n",
        "for i in range(10, 21):\n",
        "  P += Bernulli(0.5, i, 20)\n",
        "print(P)"
      ],
      "metadata": {
        "colab": {
          "base_uri": "https://localhost:8080/"
        },
        "id": "FnoIRe2rsIkK",
        "outputId": "1c1a1637-1179-425e-99f0-44375a51328b"
      },
      "execution_count": null,
      "outputs": [
        {
          "output_type": "stream",
          "name": "stdout",
          "text": [
            "0.5880985260009766\n"
          ]
        }
      ]
    },
    {
      "cell_type": "markdown",
      "metadata": {
        "id": "wEfHIN4Msil3"
      },
      "source": [
        "Задача 4\n",
        "\n",
        "Какова вероятность того, что в 5 сданных картах будет один туз и один король? (Колода 36 карт)."
      ]
    },
    {
      "cell_type": "code",
      "metadata": {
        "id": "ok4Qqr77tNfr",
        "colab": {
          "base_uri": "https://localhost:8080/"
        },
        "outputId": "7f855d65-72f7-4036-aba3-68e22c1ec2ca"
      },
      "source": [
        "n =  C_n_m(36,5)\n",
        "# количество выпадений короля 4\n",
        "# количество выпадений туза 4\n",
        "dr = C_n_m(28, 3) #выпадения других карт\n",
        "itog = dr * 4 * 4\n",
        "print(itog / n)"
      ],
      "execution_count": null,
      "outputs": [
        {
          "output_type": "stream",
          "name": "stdout",
          "text": [
            "0.13903743315508021\n"
          ]
        }
      ]
    },
    {
      "cell_type": "markdown",
      "metadata": {
        "id": "BliQqjAGtNvE"
      },
      "source": [
        "Задача 5\n",
        "\n",
        "В ящике находится 19 качественных и 4 бракованных детали. Наугад извлекаются 2 детали. Найти вероятность того, что\n",
        "\n",
        "* обе детали будут качественными;\n",
        "* обе детали будут бракованными;\n",
        "* одна деталь будет качественной, а одна – бракованной."
      ]
    },
    {
      "cell_type": "code",
      "metadata": {
        "id": "Ukb4LWyWt0Lo",
        "colab": {
          "base_uri": "https://localhost:8080/"
        },
        "outputId": "67465e9f-036d-4da7-e92c-f4b0c3b5ef80"
      },
      "source": [
        "print('1) ', 19/23 * 18/22)\n",
        "print('2) ', 4/23 * 3/22)\n",
        "print('3) ', 19/23 * 4/22 + 4/23 * 19/22)"
      ],
      "execution_count": null,
      "outputs": [
        {
          "output_type": "stream",
          "name": "stdout",
          "text": [
            "1)  0.6758893280632411\n",
            "2)  0.023715415019762844\n",
            "3)  0.30039525691699603\n"
          ]
        }
      ]
    }
  ]
}