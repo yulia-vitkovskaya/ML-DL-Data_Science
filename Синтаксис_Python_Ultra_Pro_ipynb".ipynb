{
  "nbformat": 4,
  "nbformat_minor": 0,
  "metadata": {
    "colab": {
      "provenance": [],
      "include_colab_link": true
    },
    "kernelspec": {
      "name": "python3",
      "display_name": "Python 3"
    }
  },
  "cells": [
    {
      "cell_type": "markdown",
      "metadata": {
        "id": "view-in-github",
        "colab_type": "text"
      },
      "source": [
        "<a href=\"https://colab.research.google.com/github/yulia-vitkovskaya/ML-DL-Data_Science/blob/Python-Syntax/%D0%A1%D0%B8%D0%BD%D1%82%D0%B0%D0%BA%D1%81%D0%B8%D1%81_Python_Ultra_Pro_ipynb%22.ipynb\" target=\"_parent\"><img src=\"https://colab.research.google.com/assets/colab-badge.svg\" alt=\"Open In Colab\"/></a>"
      ]
    },
    {
      "cell_type": "markdown",
      "metadata": {
        "id": "vLMY-BcTvDL_"
      },
      "source": [
        "### Задача 1\n",
        "\n",
        "Используя все возможные известные методы, посчтитайте сумму чисел от 1 до 20 следующим способом:\n",
        "1. Перебором параметра i в цикле for.\n",
        "2. Перебором параметра i в цикле while.\n",
        "3. При помощи специальной функции для созданного списка.\n",
        "4. При помощи перебора элементов созданного списка в цикле for.\n",
        "5. При помощи перебора элементов созданного списка в цикле while."
      ]
    },
    {
      "cell_type": "markdown",
      "metadata": {
        "id": "oaJJV6VPvuhx"
      },
      "source": [
        "**Решение:**"
      ]
    },
    {
      "cell_type": "code",
      "metadata": {
        "id": "V5iefCA2vuhz",
        "outputId": "6aad9317-15d1-44a8-8d6d-ebb9acca370c",
        "colab": {
          "base_uri": "https://localhost:8080/"
        }
      },
      "source": [
        "sum = 0\n",
        "for i in range(1, 21):\n",
        "  sum += i\n",
        "print(sum)"
      ],
      "execution_count": null,
      "outputs": [
        {
          "output_type": "stream",
          "name": "stdout",
          "text": [
            "210\n"
          ]
        }
      ]
    },
    {
      "cell_type": "markdown",
      "metadata": {
        "id": "m-pYH0xDhdqk"
      },
      "source": [
        "### Задача 2\n",
        "\n",
        "Используя циклы, напишите код, который создает список (list) путем конкатенации значений данного листа с целыми числами от 1 до (произвольного) n включительно.\n",
        "\n",
        "Пример:\n",
        "\n",
        "для списка [\"сосиски\", \"горчица\"] при n = 3 результат должен выглядеть так:\n",
        "\n",
        "['сосиски$\\_$1', 'горчица$\\_$1', 'сосиски$\\_2$', 'горчица$\\_$2', 'сосиски$\\_$3', 'горчица$\\_$3']"
      ]
    },
    {
      "cell_type": "code",
      "metadata": {
        "id": "Eqz3zAL-hdqq"
      },
      "source": [
        "sample_list = [\"мандаринки\", \"киви\", \"лимон\"]"
      ],
      "execution_count": null,
      "outputs": []
    },
    {
      "cell_type": "markdown",
      "metadata": {
        "id": "_anmPG8lqDql"
      },
      "source": [
        "**Решение:**"
      ]
    },
    {
      "cell_type": "code",
      "metadata": {
        "id": "eHA_26PRqDqm",
        "outputId": "0986824e-78ba-470e-f2eb-d4085a588d31",
        "colab": {
          "base_uri": "https://localhost:8080/"
        }
      },
      "source": [
        "n = int(input('Введите n: '))\n",
        "new_list = []\n",
        "for el in sample_list:\n",
        "  for i in range(1, n+1):\n",
        "    new_el = el+f'_{i}'\n",
        "    new_list.append(new_el)\n",
        "print(new_list)"
      ],
      "execution_count": null,
      "outputs": [
        {
          "output_type": "stream",
          "name": "stdout",
          "text": [
            "Введите n: 3\n",
            "['мандаринки_1', 'мандаринки_2', 'мандаринки_3', 'киви_1', 'киви_2', 'киви_3', 'лимон_1', 'лимон_2', 'лимон_3']\n"
          ]
        }
      ]
    },
    {
      "cell_type": "markdown",
      "metadata": {
        "id": "WtwsV6BRhdrE"
      },
      "source": [
        "### Задача 3\n",
        "\n",
        "Напишите код, который считает количество элементов в заданном списке до тех пор, пока не встретится элемент типа словарь.\n",
        "\n",
        "Пример:\n",
        "\n",
        "для списка [3, \"котики\", 0.45, 5, {'котики' : 2, 'слоники' : 9}, \"слоники\", 34] на выходе должны получить число 4"
      ]
    },
    {
      "cell_type": "code",
      "metadata": {
        "id": "m5iv-Hj9hdrM",
        "outputId": "b1f61224-44d5-4167-b72f-6b9c06f471ee",
        "colab": {
          "base_uri": "https://localhost:8080/"
        }
      },
      "source": [
        "list_for_pro_task_2 = [35, 0.24, 3 + 4j, \"котики\", 0.45, (8, 9), \"слоники\", {\"Мадрид\": 3, 'Лондон':5}, 23498]\n",
        "print(list_for_pro_task_2)"
      ],
      "execution_count": null,
      "outputs": [
        {
          "output_type": "stream",
          "name": "stdout",
          "text": [
            "[35, 0.24, (3+4j), 'котики', 0.45, (8, 9), 'слоники', {'Мадрид': 3, 'Лондон': 5}, 23498]\n"
          ]
        }
      ]
    },
    {
      "cell_type": "markdown",
      "metadata": {
        "id": "1gbBHwFzux7h"
      },
      "source": [
        "**Решение:**"
      ]
    },
    {
      "cell_type": "code",
      "metadata": {
        "id": "8qLexBf7ux7k",
        "outputId": "745f6fb1-3178-4641-dd1c-9d6cdcc0bbbf",
        "colab": {
          "base_uri": "https://localhost:8080/"
        }
      },
      "source": [
        "num = 0\n",
        "for el in list_for_pro_task_2:\n",
        "  if type(el) != dict:\n",
        "    num += 1\n",
        "  else:\n",
        "    break\n",
        "print(num)"
      ],
      "execution_count": null,
      "outputs": [
        {
          "output_type": "stream",
          "name": "stdout",
          "text": [
            "7\n"
          ]
        }
      ]
    },
    {
      "cell_type": "markdown",
      "metadata": {
        "id": "fHMBDh-ahdrz"
      },
      "source": [
        "### Задача 4\n",
        "\n",
        "Создайте словарь (dict) c ключами, соответствующими числам от 1 до 20 включительно и значениями, соответствующими квадратам ключей.\n",
        "\n",
        "P.S. Используйте циклы или функции, прямое \"ручное\" присваивание не допускается!!!\n",
        "\n",
        "Пример:\n",
        "\n",
        "для чисел от 1 до 3 включительно словарь должен выглядеть так: {1 : 1, 2 : 4, 3 : 9}"
      ]
    },
    {
      "cell_type": "markdown",
      "metadata": {
        "id": "QxTdxYntuyOE"
      },
      "source": [
        "**Решение:**"
      ]
    },
    {
      "cell_type": "code",
      "metadata": {
        "id": "RyUIe0tRuyOG",
        "outputId": "42132803-adca-4836-ad37-7805fe96549c",
        "colab": {
          "base_uri": "https://localhost:8080/"
        }
      },
      "source": [
        "dic = {a: a ** 2 for a in range(1, 21)}\n",
        "print(dic)"
      ],
      "execution_count": null,
      "outputs": [
        {
          "output_type": "stream",
          "name": "stdout",
          "text": [
            "{1: 1, 2: 4, 3: 9, 4: 16, 5: 25, 6: 36, 7: 49, 8: 64, 9: 81, 10: 100, 11: 121, 12: 144, 13: 169, 14: 196, 15: 225, 16: 256, 17: 289, 18: 324, 19: 361, 20: 400}\n"
          ]
        }
      ]
    },
    {
      "cell_type": "markdown",
      "metadata": {
        "id": "wf85TNYHv31c"
      },
      "source": [
        "### Задача 5"
      ]
    },
    {
      "cell_type": "markdown",
      "metadata": {
        "id": "QQv6xeOnv71u"
      },
      "source": [
        "**Дана** следующая строка:"
      ]
    },
    {
      "cell_type": "code",
      "metadata": {
        "id": "vZOCDnMDv6_0"
      },
      "source": [
        "string = '[0, 1, 1, 2, 3, 5, 8, 13, 21, 34, 55, 89, 144, 233, 377]'"
      ],
      "execution_count": null,
      "outputs": []
    },
    {
      "cell_type": "markdown",
      "metadata": {
        "id": "CnN6qg_2wbgH"
      },
      "source": [
        "Пройдя по символам строки, переведите строку в список. В результате должен получиться список из целых чисел."
      ]
    },
    {
      "cell_type": "code",
      "source": [
        "string = '[0, 1, 1, 2, 3, 5, 8, 13, 21, 34, 55, 89, 144, 233, 377]'\n",
        "\n",
        "string = string[1:-1]\n",
        "new_list = string.split(', ')\n",
        "print(new_list)"
      ],
      "metadata": {
        "id": "lSoLbCLC12GE",
        "outputId": "bf3d4748-7fdc-477e-c06d-7ad54b7ee317",
        "colab": {
          "base_uri": "https://localhost:8080/"
        }
      },
      "execution_count": null,
      "outputs": [
        {
          "output_type": "stream",
          "name": "stdout",
          "text": [
            "['0', '1', '1', '2', '3', '5', '8', '13', '21', '34', '55', '89', '144', '233', '377']\n"
          ]
        }
      ]
    }
  ]
}