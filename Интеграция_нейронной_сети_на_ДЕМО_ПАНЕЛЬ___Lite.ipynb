{
  "nbformat": 4,
  "nbformat_minor": 0,
  "metadata": {
    "colab": {
      "provenance": []
    },
    "kernelspec": {
      "name": "python3",
      "display_name": "Python 3"
    },
    "language_info": {
      "name": "python"
    },
    "accelerator": "GPU"
  },
  "cells": [
    {
      "cell_type": "markdown",
      "metadata": {
        "id": "c6nTn8IaLGn_"
      },
      "source": [
        "Необходимо создать, обучить нейронную сеть и упаковать её в архив для загрузки на демо-панель:\n",
        "* создать нейронную сеть для распознавания цифр из MNIST\n",
        "* сохраните веса (модель)\n",
        "* подготовить запуск модели \"из коробки\"\n",
        "* подготовить архив с готовой нейронной сетью для загрузки в демо-панель\n"
      ]
    },
    {
      "cell_type": "code",
      "metadata": {
        "id": "3b4wMrfQKe2l"
      },
      "source": [
        "# Загружаем базу mnist\n",
        "from tensorflow.keras.datasets import mnist\n",
        "\n",
        "# Сеть прямого распространения\n",
        "from tensorflow.keras.models import Sequential\n",
        "\n",
        "# Базовые слои для счёрточных сетей\n",
        "from tensorflow.keras.layers import Dense, Conv2D, MaxPooling2D, Flatten, Dropout, BatchNormalization\n",
        "\n",
        "# оптимизаторы\n",
        "from tensorflow.keras.optimizers import Adam, Adadelta\n",
        "\n",
        "# Используем дял to_categoricall\n",
        "from tensorflow.keras import utils\n",
        "\n",
        "# Для отрисовки изображений\n",
        "from tensorflow.keras.preprocessing import image\n",
        "\n",
        "# Для загрузки своей картинки\n",
        "from google.colab import files\n",
        "\n",
        "# Библиотека работы с массивами\n",
        "import numpy as np\n",
        "\n",
        "# Для отрисовки графиков\n",
        "import matplotlib.pyplot as plt\n",
        "\n",
        "# Для отрисовки изображений\n",
        "from PIL import Image\n",
        "\n",
        "# Для генерации случайных чисел\n",
        "import random\n",
        "\n",
        "# Для округления\n",
        "import math\n",
        "\n",
        "#Для работы с файлами\n",
        "import os\n",
        "\n",
        "# подключем диск\n",
        "from google.colab import drive\n",
        "\n",
        "%matplotlib inline"
      ],
      "execution_count": null,
      "outputs": []
    },
    {
      "cell_type": "code",
      "metadata": {
        "id": "_Yi4Ziqhx-0A",
        "colab": {
          "base_uri": "https://localhost:8080/",
          "height": 36
        },
        "outputId": "c63f2648-d31c-484a-ed0a-acf415bd2321"
      },
      "source": [
        "import gdown\n",
        "\n",
        "gdown.download('https://storage.yandexcloud.net/aiueducation/Content/base/l6/0-9.zip', None, quiet=True)"
      ],
      "execution_count": null,
      "outputs": [
        {
          "output_type": "execute_result",
          "data": {
            "text/plain": [
              "'0-9.zip'"
            ],
            "application/vnd.google.colaboratory.intrinsic+json": {
              "type": "string"
            }
          },
          "metadata": {},
          "execution_count": 2
        }
      ]
    },
    {
      "cell_type": "markdown",
      "metadata": {
        "id": "7A0tdANyLCPs"
      },
      "source": [
        "## Распознавание изображений из набора данных MNIST\n"
      ]
    },
    {
      "cell_type": "markdown",
      "metadata": {
        "id": "a-cggImwMCQP"
      },
      "source": [
        "**Подготовка данных**\n"
      ]
    },
    {
      "cell_type": "code",
      "metadata": {
        "id": "_PT1LV_KMVto",
        "colab": {
          "base_uri": "https://localhost:8080/"
        },
        "outputId": "643c52ef-df4d-4a06-c60c-112db71f559c"
      },
      "source": [
        "# Загружаем MNIST\n",
        "(x_train, y_train), (x_test, y_test) = mnist.load_data()"
      ],
      "execution_count": null,
      "outputs": [
        {
          "output_type": "stream",
          "name": "stdout",
          "text": [
            "Downloading data from https://storage.googleapis.com/tensorflow/tf-keras-datasets/mnist.npz\n",
            "11490434/11490434 [==============================] - 0s 0us/step\n"
          ]
        }
      ]
    },
    {
      "cell_type": "code",
      "metadata": {
        "id": "nft2zSCpVWYV",
        "colab": {
          "base_uri": "https://localhost:8080/"
        },
        "outputId": "4ae25032-9b88-415a-a2e7-3e00cd5a3d1f"
      },
      "source": [
        "x_train.shape"
      ],
      "execution_count": null,
      "outputs": [
        {
          "output_type": "execute_result",
          "data": {
            "text/plain": [
              "(60000, 28, 28)"
            ]
          },
          "metadata": {},
          "execution_count": 4
        }
      ]
    },
    {
      "cell_type": "code",
      "metadata": {
        "id": "vNoGJvE_M3YW",
        "colab": {
          "base_uri": "https://localhost:8080/",
          "height": 141
        },
        "outputId": "2c9da54e-e717-4e8c-fa81-7068c4c408c6"
      },
      "source": [
        "# Выводим для примера картинки по каждому классу\n",
        "\n",
        "fig, axs = plt.subplots(1, 10, figsize=(25, 3)) # Создаем полотно из 10 графиков\n",
        "\n",
        "for i in range(10): # Проходим по классам от 0 до 9\n",
        "  label_indexes = np.where(y_train==i)[0] # Получаем список из индексов положений класса i в y_train\n",
        "  index = random.choice(label_indexes) # Случайным образом выбираем из списка индекс\n",
        "  img = x_train[index] # Выбираем из x_train нужное изображение\n",
        "  axs[i].imshow(Image.fromarray(img), cmap='gray') #Отображаем изображение i-ым графиков\n",
        "\n",
        "plt.show() # Показываем изображения"
      ],
      "execution_count": null,
      "outputs": [
        {
          "output_type": "display_data",
          "data": {
            "text/plain": [
              "<Figure size 2500x300 with 10 Axes>"
            ],
            "image/png": "[encoded data removed]"
          },
          "metadata": {}
        }
      ]
    },
    {
      "cell_type": "code",
      "metadata": {
        "id": "ti92Kvp3NX61"
      },
      "source": [
        "# Превращаем y_train и y_test сетей в формат one hot encoding\n",
        "\n",
        "y_train = utils.to_categorical(y_train, 10)\n",
        "y_test = utils.to_categorical(y_test, 10)\n",
        "\n",
        "# Меняем формат данных MNIST\n",
        "# Надо добавить в конце размерность 1\n",
        "# Чтобы свёрточная сеть понимала, что это чёрно-белые данные\n",
        "\n",
        "x_train = x_train.reshape(x_train.shape[0], 28, 28, 1)\n",
        "x_test = x_test.reshape(x_test.shape[0], 28, 28, 1)"
      ],
      "execution_count": null,
      "outputs": []
    },
    {
      "cell_type": "code",
      "metadata": {
        "id": "tZwKJRB7dW3q",
        "colab": {
          "base_uri": "https://localhost:8080/"
        },
        "outputId": "51277f14-8fc7-4110-a667-a992fc4fd15b"
      },
      "source": [
        "# Посмотрим форматы выборок перед обучением\n",
        "\n",
        "print(x_train.shape)\n",
        "print(x_test.shape)\n",
        "print(y_train.shape)\n",
        "print(y_test.shape)"
      ],
      "execution_count": null,
      "outputs": [
        {
          "output_type": "stream",
          "name": "stdout",
          "text": [
            "(60000, 28, 28, 1)\n",
            "(10000, 28, 28, 1)\n",
            "(60000, 10)\n",
            "(10000, 10)\n"
          ]
        }
      ]
    },
    {
      "cell_type": "markdown",
      "metadata": {
        "id": "P93UbJvKSEAX"
      },
      "source": [
        "**Нейронная сеть**"
      ]
    },
    {
      "cell_type": "code",
      "metadata": {
        "id": "5YioYV0CPY7B"
      },
      "source": [
        "# задаём batch_size\n",
        "batch_size = 128\n",
        "\n",
        "# Создаем последовательную модель\n",
        "\n",
        "model = Sequential()\n",
        "\n",
        "model.add(BatchNormalization(input_shape=(28, 28, 1))) # Слой пакетной нормализации\n",
        "model.add(Conv2D(32, (3, 3), padding='same', activation='relu')) # Первый сверточный слой\n",
        "model.add(Conv2D(32, (3, 3), padding='same', activation='relu')) # Второй сверточный слой\n",
        "model.add(MaxPooling2D(pool_size=(2, 2))) # Первый слой подвыборки\n",
        "\n",
        "model.add(Dropout(0.25)) # Слой регуляризации Dropout\n",
        "model.add(Flatten())\n",
        "\n",
        "model.add(Dense(256, activation='relu')) # Полносвязный слой для классификации\n",
        "model.add(Dropout(0.25)) # Слой регуляризации Dropout\n",
        "model.add(Dense(10, activation='softmax')) # Выходной полносвязный слой\n",
        "\n",
        "# Компилируем сеть\n",
        "model.compile(loss=\"categorical_crossentropy\", optimizer=\"adam\", metrics=[\"accuracy\"])"
      ],
      "execution_count": null,
      "outputs": []
    },
    {
      "cell_type": "code",
      "metadata": {
        "id": "3DJfoivkXWpq",
        "colab": {
          "base_uri": "https://localhost:8080/"
        },
        "outputId": "d6fd7c97-5732-45de-b503-57e767842d4f"
      },
      "source": [
        "model.summary()"
      ],
      "execution_count": null,
      "outputs": [
        {
          "output_type": "stream",
          "name": "stdout",
          "text": [
            "Model: \"sequential\"\n",
            "_________________________________________________________________\n",
            " Layer (type)                Output Shape              Param #   \n",
            "=================================================================\n",
            " batch_normalization (BatchN  (None, 28, 28, 1)        4         \n",
            " ormalization)                                                   \n",
            "                                                                 \n",
            " conv2d (Conv2D)             (None, 28, 28, 32)        320       \n",
            "                                                                 \n",
            " conv2d_1 (Conv2D)           (None, 28, 28, 32)        9248      \n",
            "                                                                 \n",
            " max_pooling2d (MaxPooling2D  (None, 14, 14, 32)       0         \n",
            " )                                                               \n",
            "                                                                 \n",
            " dropout (Dropout)           (None, 14, 14, 32)        0         \n",
            "                                                                 \n",
            " flatten (Flatten)           (None, 6272)              0         \n",
            "                                                                 \n",
            " dense (Dense)               (None, 256)               1605888   \n",
            "                                                                 \n",
            " dropout_1 (Dropout)         (None, 256)               0         \n",
            "                                                                 \n",
            " dense_1 (Dense)             (None, 10)                2570      \n",
            "                                                                 \n",
            "=================================================================\n",
            "Total params: 1,618,030\n",
            "Trainable params: 1,618,028\n",
            "Non-trainable params: 2\n",
            "_________________________________________________________________\n"
          ]
        }
      ]
    },
    {
      "cell_type": "code",
      "metadata": {
        "id": "Id69qEDaAx_4",
        "colab": {
          "base_uri": "https://localhost:8080/",
          "height": 996
        },
        "outputId": "e6d4d5bc-31fe-4149-c268-9c5931c7470b"
      },
      "source": [
        "# Обучаем сеть на данных mnist\n",
        "\n",
        "history = model.fit(x_train,\n",
        "                    y_train,\n",
        "                    batch_size=batch_size,\n",
        "                    epochs=15,\n",
        "                    validation_data=(x_test, y_test),\n",
        "                    verbose=1)\n",
        "\n",
        "# Отображаем график точности обучения\n",
        "\n",
        "plt.plot(history.history['accuracy'],\n",
        "         label='Доля верных ответов на обучающем наборе')\n",
        "plt.plot(history.history['val_accuracy'],\n",
        "         label='Доля верных ответов на проверочном наборе')\n",
        "plt.xlabel('Эпоха обучения')\n",
        "plt.ylabel('Доля верных ответов')\n",
        "plt.legend()\n",
        "plt.show()"
      ],
      "execution_count": null,
      "outputs": [
        {
          "output_type": "stream",
          "name": "stdout",
          "text": [
            "Epoch 1/15\n",
            "469/469 [==============================] - 16s 9ms/step - loss: 0.1580 - accuracy: 0.9520 - val_loss: 0.0476 - val_accuracy: 0.9839\n",
            "Epoch 2/15\n",
            "469/469 [==============================] - 4s 9ms/step - loss: 0.0516 - accuracy: 0.9843 - val_loss: 0.0425 - val_accuracy: 0.9859\n",
            "Epoch 3/15\n",
            "469/469 [==============================] - 4s 9ms/step - loss: 0.0351 - accuracy: 0.9883 - val_loss: 0.0373 - val_accuracy: 0.9878\n",
            "Epoch 4/15\n",
            "469/469 [==============================] - 4s 9ms/step - loss: 0.0268 - accuracy: 0.9912 - val_loss: 0.0319 - val_accuracy: 0.9897\n",
            "Epoch 5/15\n",
            "469/469 [==============================] - 4s 9ms/step - loss: 0.0216 - accuracy: 0.9928 - val_loss: 0.0277 - val_accuracy: 0.9910\n",
            "Epoch 6/15\n",
            "469/469 [==============================] - 4s 8ms/step - loss: 0.0189 - accuracy: 0.9937 - val_loss: 0.0329 - val_accuracy: 0.9897\n",
            "Epoch 7/15\n",
            "469/469 [==============================] - 4s 8ms/step - loss: 0.0161 - accuracy: 0.9944 - val_loss: 0.0295 - val_accuracy: 0.9912\n",
            "Epoch 8/15\n",
            "469/469 [==============================] - 4s 9ms/step - loss: 0.0141 - accuracy: 0.9951 - val_loss: 0.0350 - val_accuracy: 0.9895\n",
            "Epoch 9/15\n",
            "469/469 [==============================] - 4s 9ms/step - loss: 0.0127 - accuracy: 0.9959 - val_loss: 0.0282 - val_accuracy: 0.9918\n",
            "Epoch 10/15\n",
            "469/469 [==============================] - 4s 9ms/step - loss: 0.0107 - accuracy: 0.9965 - val_loss: 0.0316 - val_accuracy: 0.9919\n",
            "Epoch 11/15\n",
            "469/469 [==============================] - 4s 9ms/step - loss: 0.0099 - accuracy: 0.9965 - val_loss: 0.0350 - val_accuracy: 0.9900\n",
            "Epoch 12/15\n",
            "469/469 [==============================] - 4s 9ms/step - loss: 0.0102 - accuracy: 0.9967 - val_loss: 0.0253 - val_accuracy: 0.9929\n",
            "Epoch 13/15\n",
            "469/469 [==============================] - 4s 8ms/step - loss: 0.0091 - accuracy: 0.9969 - val_loss: 0.0317 - val_accuracy: 0.9913\n",
            "Epoch 14/15\n",
            "469/469 [==============================] - 4s 9ms/step - loss: 0.0080 - accuracy: 0.9972 - val_loss: 0.0348 - val_accuracy: 0.9906\n",
            "Epoch 15/15\n",
            "469/469 [==============================] - 4s 9ms/step - loss: 0.0075 - accuracy: 0.9976 - val_loss: 0.0329 - val_accuracy: 0.9902\n"
          ]
        },
        {
          "output_type": "display_data",
          "data": {
            "text/plain": [
              "<Figure size 640x480 with 1 Axes>"
            ],
            "image/png": "[encoded data removed]"
          },
          "metadata": {}
        }
      ]
    },
    {
      "cell_type": "markdown",
      "source": [
        "### **Сохраняем модель**"
      ],
      "metadata": {
        "id": "FCXr1tmrmb3P"
      }
    },
    {
      "cell_type": "code",
      "source": [
        "model.save('saved_model.h5')"
      ],
      "metadata": {
        "id": "4dF5FRSyKWq0"
      },
      "execution_count": null,
      "outputs": []
    },
    {
      "cell_type": "markdown",
      "source": [
        "### **Подготовка запуска модели**"
      ],
      "metadata": {
        "id": "osuuUkAHmlct"
      }
    },
    {
      "cell_type": "code",
      "source": [
        "text_code = '''\n",
        "from tensorflow.keras.models import load_model\n",
        "from PIL import Image\n",
        "import numpy as np\n",
        "\n",
        "def predict(img_path, model_path='./saved_model.h5'):\n",
        "    classes = {0: '0',\n",
        "               1: '1',\n",
        "               2: '2',\n",
        "               3: '3',\n",
        "               4: '4',\n",
        "               5: '5',\n",
        "               6: '6',\n",
        "               7: '7',\n",
        "               8: '8',\n",
        "               9: '9'}\n",
        "\n",
        "    model = load_model(model_path)\n",
        "\n",
        "    img = Image.open(img_path).resize((32, 32))\n",
        "    image = np.array(img, dtype='float64') / 255\n",
        "\n",
        "    image = np.expand_dims(image, axis=0)\n",
        "    cls_image = np.argmax(model.predict(image))\n",
        "\n",
        "    print(classes[cls_image])\n",
        "\n",
        "'''\n",
        "\n",
        "with open('script.py', 'w') as f:\n",
        "    f.write(text_code)"
      ],
      "metadata": {
        "id": "0xPMzb4Cmbn1"
      },
      "execution_count": null,
      "outputs": []
    },
    {
      "cell_type": "code",
      "source": [
        "label_txt = '''\n",
        "\n",
        "0\n",
        "1\n",
        "2\n",
        "3\n",
        "4\n",
        "5\n",
        "6\n",
        "7\n",
        "8\n",
        "9\n",
        "\n",
        "'''\n",
        "\n",
        "with open('label.txt', 'w') as f:\n",
        "    f.write(label_txt.strip())"
      ],
      "metadata": {
        "id": "2H0mC9l7uYr6"
      },
      "execution_count": null,
      "outputs": []
    },
    {
      "cell_type": "code",
      "source": [
        "import os\n",
        "from zipfile import ZipFile as Zip\n",
        "\n",
        "integrate_files = ['saved_model.h5', 'script.py', 'label.txt']\n",
        "\n",
        "zipArchive = Zip('/content/archive.zip', 'w')\n",
        "\n",
        "for file in integrate_files:\n",
        "    if os.path.exists(file):\n",
        "        zipArchive.write(file)\n",
        "    else:\n",
        "        print(f'Файл {file} отсутствует!')\n",
        "\n",
        "zipArchive.close()"
      ],
      "metadata": {
        "id": "aU1r8eXGvBdt"
      },
      "execution_count": null,
      "outputs": []
    }
  ]
}