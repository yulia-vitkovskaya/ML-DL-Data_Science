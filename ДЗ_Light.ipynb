{
  "nbformat": 4,
  "nbformat_minor": 0,
  "metadata": {
    "colab": {
      "provenance": []
    },
    "kernelspec": {
      "name": "python3",
      "display_name": "Python 3"
    },
    "language_info": {
      "name": "python"
    }
  },
  "cells": [
    {
      "cell_type": "markdown",
      "source": [
        "## **Импорт библиотек**"
      ],
      "metadata": {
        "id": "TUytexK8p3eX"
      }
    },
    {
      "cell_type": "code",
      "execution_count": null,
      "metadata": {
        "id": "ohVTUakepwqw"
      },
      "outputs": [],
      "source": [
        "from tensorflow.keras.datasets import mnist #Библиотека с базой Mnist\n",
        "from tensorflow.keras.models import Sequential # Подлючаем класс создания модели Sequential\n",
        "from tensorflow.keras.layers import Dense # Подключаем класс Dense - полносвязный слой\n",
        "from tensorflow.keras.optimizers import Adam # Подключаем оптимизатор Adam\n",
        "from tensorflow.keras import utils #Утилиты для to_categorical\n",
        "from tensorflow.keras.preprocessing import image #Для отрисовки изображения\n",
        "import numpy as np # Подключаем библиотеку numpy\n",
        "import pylab # Модуль для построения графиков\n",
        "import matplotlib.pyplot as plt #Отрисовка изображений\n",
        "from PIL import Image #Отрисовка изображений\n",
        "#Отрисовывать изображения в ноутбуке, а не в консоль или файл\n",
        "%matplotlib inline"
      ]
    },
    {
      "cell_type": "markdown",
      "source": [
        "## **Загрузка базы MNIST**"
      ],
      "metadata": {
        "id": "1tn_hJ36p8W0"
      }
    },
    {
      "cell_type": "code",
      "source": [
        "(x_train_org, y_train_org), (x_test_org, y_test_org) = mnist.load_data()"
      ],
      "metadata": {
        "colab": {
          "base_uri": "https://localhost:8080/"
        },
        "id": "ojCyNxAyqAH3",
        "outputId": "7e9c74fc-c5e9-4b6b-d9f6-872056c4a256"
      },
      "execution_count": null,
      "outputs": [
        {
          "output_type": "stream",
          "name": "stdout",
          "text": [
            "Downloading data from https://storage.googleapis.com/tensorflow/tf-keras-datasets/mnist.npz\n",
            "11490434/11490434 [==============================] - 0s 0us/step\n"
          ]
        }
      ]
    },
    {
      "cell_type": "markdown",
      "source": [
        "## **Нормирование и преобразование x_train и y_train**"
      ],
      "metadata": {
        "id": "OK8t9ccWqDR6"
      }
    },
    {
      "cell_type": "code",
      "source": [
        "#смена разрешения изображений\n",
        "x_train = x_train_org.reshape(60000, 784)\n",
        "x_test = x_test_org.reshape(10000, 784)\n",
        "print(x_train.shape)\n",
        "print(x_test.shape)"
      ],
      "metadata": {
        "colab": {
          "base_uri": "https://localhost:8080/"
        },
        "id": "hMSnYWdGqOpD",
        "outputId": "9447aa89-7155-4232-efd4-811c01ec8765"
      },
      "execution_count": null,
      "outputs": [
        {
          "output_type": "stream",
          "name": "stdout",
          "text": [
            "(60000, 784)\n",
            "(10000, 784)\n"
          ]
        }
      ]
    },
    {
      "cell_type": "code",
      "source": [
        "#нормализация входных картинок\n",
        "x_train = x_train.astype('float32') / 255\n",
        "x_test = x_test.astype('float32') / 255"
      ],
      "metadata": {
        "id": "nh-Ohyjjqjwx"
      },
      "execution_count": null,
      "outputs": []
    },
    {
      "cell_type": "code",
      "source": [
        "#Преобразуем в формат one code encoding\n",
        "y_train = utils.to_categorical(y_train_org, 10)\n",
        "y_test = utils.to_categorical(y_test_org, 10)"
      ],
      "metadata": {
        "id": "wdN6fb8kql86"
      },
      "execution_count": null,
      "outputs": []
    },
    {
      "cell_type": "markdown",
      "source": [
        "## **Создание и обучение нейронной сети**"
      ],
      "metadata": {
        "id": "LttWkUkIqtsk"
      }
    },
    {
      "cell_type": "markdown",
      "source": [
        "### Первая нейронная сеть будет с 10-ю нейронами в первом слое, активационной функцией linear, batch_size = 1"
      ],
      "metadata": {
        "id": "9BKINdbKq5AX"
      }
    },
    {
      "cell_type": "code",
      "source": [
        "model1 = Sequential()\n",
        "model1.add(Dense(10, input_dim = 784, activation = 'linear'))\n",
        "model1.add(Dense(400, activation = 'linear'))\n",
        "model1.add(Dense(10, activation = 'linear'))"
      ],
      "metadata": {
        "id": "ohMLa2gEqwkT"
      },
      "execution_count": null,
      "outputs": []
    },
    {
      "cell_type": "code",
      "source": [
        "model1.compile(optimizer='Adam', loss='categorical_crossentropy')\n",
        "print(model1.summary())"
      ],
      "metadata": {
        "colab": {
          "base_uri": "https://localhost:8080/"
        },
        "id": "BjzJwi5TrxO2",
        "outputId": "8c127461-a3fe-43ad-cb7f-d38a132be440"
      },
      "execution_count": null,
      "outputs": [
        {
          "output_type": "stream",
          "name": "stdout",
          "text": [
            "Model: \"sequential_2\"\n",
            "_________________________________________________________________\n",
            " Layer (type)                Output Shape              Param #   \n",
            "=================================================================\n",
            " dense_6 (Dense)             (None, 10)                7850      \n",
            "                                                                 \n",
            " dense_7 (Dense)             (None, 400)               4400      \n",
            "                                                                 \n",
            " dense_8 (Dense)             (None, 10)                4010      \n",
            "                                                                 \n",
            "=================================================================\n",
            "Total params: 16,260\n",
            "Trainable params: 16,260\n",
            "Non-trainable params: 0\n",
            "_________________________________________________________________\n",
            "None\n"
          ]
        }
      ]
    },
    {
      "cell_type": "markdown",
      "source": [
        "При таких загрузках в скрытых слоях нейронной сети находятся 16,260 элементов"
      ],
      "metadata": {
        "id": "LLMepUKlEyQS"
      }
    },
    {
      "cell_type": "code",
      "source": [
        "model1.fit(x_train, y_train, batch_size = 1, epochs = 15, verbose = 1)"
      ],
      "metadata": {
        "colab": {
          "base_uri": "https://localhost:8080/"
        },
        "id": "RZ3zVUaVr1PN",
        "outputId": "9d1c85ee-0b11-413c-f8dc-298257a9ae27"
      },
      "execution_count": null,
      "outputs": [
        {
          "output_type": "stream",
          "name": "stdout",
          "text": [
            "Epoch 1/15\n",
            "60000/60000 [==============================] - 104s 2ms/step - loss: 8.1308\n",
            "Epoch 2/15\n",
            "60000/60000 [==============================] - 102s 2ms/step - loss: 8.0002\n",
            "Epoch 3/15\n",
            "60000/60000 [==============================] - 100s 2ms/step - loss: 8.0002\n",
            "Epoch 4/15\n",
            "60000/60000 [==============================] - 100s 2ms/step - loss: 8.0002\n",
            "Epoch 5/15\n",
            "60000/60000 [==============================] - 100s 2ms/step - loss: 8.0002\n",
            "Epoch 6/15\n",
            "60000/60000 [==============================] - 101s 2ms/step - loss: 8.0002\n",
            "Epoch 7/15\n",
            "60000/60000 [==============================] - 102s 2ms/step - loss: 8.0002\n",
            "Epoch 8/15\n",
            "60000/60000 [==============================] - 101s 2ms/step - loss: 8.0002\n",
            "Epoch 9/15\n",
            "60000/60000 [==============================] - 99s 2ms/step - loss: 8.0002\n",
            "Epoch 10/15\n",
            "60000/60000 [==============================] - 100s 2ms/step - loss: 8.0002\n",
            "Epoch 11/15\n",
            "60000/60000 [==============================] - 101s 2ms/step - loss: 8.0002\n",
            "Epoch 12/15\n",
            "60000/60000 [==============================] - 100s 2ms/step - loss: 8.0002\n",
            "Epoch 13/15\n",
            "60000/60000 [==============================] - 100s 2ms/step - loss: 8.0002\n",
            "Epoch 14/15\n",
            "60000/60000 [==============================] - 100s 2ms/step - loss: 8.0002\n",
            "Epoch 15/15\n",
            "60000/60000 [==============================] - 101s 2ms/step - loss: 8.0002\n"
          ]
        },
        {
          "output_type": "execute_result",
          "data": {
            "text/plain": [
              "<keras.callbacks.History at 0x7f3aec253a90>"
            ]
          },
          "metadata": {},
          "execution_count": 12
        }
      ]
    },
    {
      "cell_type": "markdown",
      "source": [
        "Обучение происходить очень долго из-за параметра batch_size = 1. А потери почти не менялись на протяжении обучения"
      ],
      "metadata": {
        "id": "BNulodozE-7S"
      }
    },
    {
      "cell_type": "markdown",
      "source": [
        "### Вторая нейронная сеть будет с 100 нейронами в первом слое, активационной функцией linear, batch_size = 10"
      ],
      "metadata": {
        "id": "L0ZXZaGmzgFr"
      }
    },
    {
      "cell_type": "code",
      "source": [
        "model2 = Sequential()\n",
        "model2.add(Dense(100, input_dim = 784, activation = 'linear'))\n",
        "model2.add(Dense(400, activation = 'linear'))\n",
        "model2.add(Dense(10, activation = 'linear'))"
      ],
      "metadata": {
        "id": "TAk8vjOhzqZz"
      },
      "execution_count": null,
      "outputs": []
    },
    {
      "cell_type": "code",
      "source": [
        "model2.compile(optimizer='Adam', loss='categorical_crossentropy')\n",
        "print(model2.summary())"
      ],
      "metadata": {
        "colab": {
          "base_uri": "https://localhost:8080/"
        },
        "id": "m6W8bkyRzssz",
        "outputId": "1fb730c5-43d6-479d-b7c6-c99614cafd0c"
      },
      "execution_count": null,
      "outputs": [
        {
          "output_type": "stream",
          "name": "stdout",
          "text": [
            "Model: \"sequential_2\"\n",
            "_________________________________________________________________\n",
            " Layer (type)                Output Shape              Param #   \n",
            "=================================================================\n",
            " dense_6 (Dense)             (None, 10)                7850      \n",
            "                                                                 \n",
            " dense_7 (Dense)             (None, 400)               4400      \n",
            "                                                                 \n",
            " dense_8 (Dense)             (None, 10)                4010      \n",
            "                                                                 \n",
            "=================================================================\n",
            "Total params: 16,260\n",
            "Trainable params: 16,260\n",
            "Non-trainable params: 0\n",
            "_________________________________________________________________\n",
            "None\n"
          ]
        }
      ]
    },
    {
      "cell_type": "code",
      "source": [
        "print(model2.summary())"
      ],
      "metadata": {
        "colab": {
          "base_uri": "https://localhost:8080/"
        },
        "id": "ELgXUKsMFVhu",
        "outputId": "4382e467-9f7d-49ff-de69-94ecdae62dfa"
      },
      "execution_count": null,
      "outputs": [
        {
          "output_type": "stream",
          "name": "stdout",
          "text": [
            "Model: \"sequential_3\"\n",
            "_________________________________________________________________\n",
            " Layer (type)                Output Shape              Param #   \n",
            "=================================================================\n",
            " dense_9 (Dense)             (None, 100)               78500     \n",
            "                                                                 \n",
            " dense_10 (Dense)            (None, 400)               40400     \n",
            "                                                                 \n",
            " dense_11 (Dense)            (None, 10)                4010      \n",
            "                                                                 \n",
            "=================================================================\n",
            "Total params: 122,910\n",
            "Trainable params: 122,910\n",
            "Non-trainable params: 0\n",
            "_________________________________________________________________\n",
            "None\n"
          ]
        }
      ]
    },
    {
      "cell_type": "markdown",
      "source": [
        "В данном случае внутри нейронной сети находится 122,910 элементов"
      ],
      "metadata": {
        "id": "t_zCYNiXFYQh"
      }
    },
    {
      "cell_type": "code",
      "source": [
        "model2.fit(x_train, y_train, batch_size = 10, epochs = 15, verbose = 1)"
      ],
      "metadata": {
        "colab": {
          "base_uri": "https://localhost:8080/"
        },
        "id": "ezq-QrEkz3_4",
        "outputId": "c069a344-07ea-4677-82bd-352c8f1fd657"
      },
      "execution_count": null,
      "outputs": [
        {
          "output_type": "stream",
          "name": "stdout",
          "text": [
            "Epoch 1/15\n",
            "6000/6000 [==============================] - 16s 3ms/step - loss: 9.0400\n",
            "Epoch 2/15\n",
            "6000/6000 [==============================] - 16s 3ms/step - loss: 8.1401\n",
            "Epoch 3/15\n",
            "6000/6000 [==============================] - 15s 3ms/step - loss: 8.1401\n",
            "Epoch 4/15\n",
            "6000/6000 [==============================] - 15s 3ms/step - loss: 8.1401\n",
            "Epoch 5/15\n",
            "6000/6000 [==============================] - 15s 3ms/step - loss: 8.1401\n",
            "Epoch 6/15\n",
            "6000/6000 [==============================] - 15s 2ms/step - loss: 8.1401\n",
            "Epoch 7/15\n",
            "6000/6000 [==============================] - 16s 3ms/step - loss: 8.1401\n",
            "Epoch 8/15\n",
            "6000/6000 [==============================] - 16s 3ms/step - loss: 8.1401\n",
            "Epoch 9/15\n",
            "6000/6000 [==============================] - 16s 3ms/step - loss: 8.1401\n",
            "Epoch 10/15\n",
            "6000/6000 [==============================] - 15s 3ms/step - loss: 8.1402\n",
            "Epoch 11/15\n",
            "6000/6000 [==============================] - 15s 3ms/step - loss: 8.1401\n",
            "Epoch 12/15\n",
            "6000/6000 [==============================] - 16s 3ms/step - loss: 8.1401\n",
            "Epoch 13/15\n",
            "6000/6000 [==============================] - 16s 3ms/step - loss: 8.1401\n",
            "Epoch 14/15\n",
            "6000/6000 [==============================] - 16s 3ms/step - loss: 8.1401\n",
            "Epoch 15/15\n",
            "6000/6000 [==============================] - 15s 3ms/step - loss: 8.1402\n"
          ]
        },
        {
          "output_type": "execute_result",
          "data": {
            "text/plain": [
              "<keras.callbacks.History at 0x7f3ae7f43370>"
            ]
          },
          "metadata": {},
          "execution_count": 15
        }
      ]
    },
    {
      "cell_type": "markdown",
      "source": [
        "Модель обучалась около 3 минут, что является хорошим показателем, при этом проказатели потерь были стабильными на протяжении всего обучения"
      ],
      "metadata": {
        "id": "1PJ3S4x0Fhd1"
      }
    },
    {
      "cell_type": "markdown",
      "source": [
        "### Третья нейронная сеть будет с 5000-ю нейронами в первом слое, активационной функцией linear, batch_size = 100"
      ],
      "metadata": {
        "id": "wKxhE8Aqz8ep"
      }
    },
    {
      "cell_type": "code",
      "source": [
        "model3 = Sequential()\n",
        "model3.add(Dense(5000, input_dim = 784, activation = 'linear'))\n",
        "model3.add(Dense(400, activation = 'linear'))\n",
        "model3.add(Dense(10, activation = 'linear'))"
      ],
      "metadata": {
        "id": "ZCU1oyGK0EqP"
      },
      "execution_count": null,
      "outputs": []
    },
    {
      "cell_type": "code",
      "source": [
        "model3.compile(optimizer='Adam', loss='categorical_crossentropy')\n",
        "print(model3.summary())"
      ],
      "metadata": {
        "colab": {
          "base_uri": "https://localhost:8080/"
        },
        "id": "fNzy3m7w0KH3",
        "outputId": "0aca4202-2e1c-4512-d827-9aa7dc09152b"
      },
      "execution_count": null,
      "outputs": [
        {
          "output_type": "stream",
          "name": "stdout",
          "text": [
            "Model: \"sequential_4\"\n",
            "_________________________________________________________________\n",
            " Layer (type)                Output Shape              Param #   \n",
            "=================================================================\n",
            " dense_12 (Dense)            (None, 5000)              3925000   \n",
            "                                                                 \n",
            " dense_13 (Dense)            (None, 400)               2000400   \n",
            "                                                                 \n",
            " dense_14 (Dense)            (None, 10)                4010      \n",
            "                                                                 \n",
            "=================================================================\n",
            "Total params: 5,929,410\n",
            "Trainable params: 5,929,410\n",
            "Non-trainable params: 0\n",
            "_________________________________________________________________\n",
            "None\n"
          ]
        }
      ]
    },
    {
      "cell_type": "markdown",
      "source": [
        "Модель имеет почти 6 млн элементов в сети"
      ],
      "metadata": {
        "id": "CrZj8jDyFuJC"
      }
    },
    {
      "cell_type": "code",
      "source": [
        "model3.fit(x_train, y_train, batch_size = 100, epochs = 15, verbose = 1)"
      ],
      "metadata": {
        "colab": {
          "base_uri": "https://localhost:8080/"
        },
        "id": "zZjB0TWf0QD9",
        "outputId": "cfa4aa40-23c4-489c-ae71-bdcbe7c33d84"
      },
      "execution_count": null,
      "outputs": [
        {
          "output_type": "stream",
          "name": "stdout",
          "text": [
            "Epoch 1/15\n",
            "600/600 [==============================] - 71s 117ms/step - loss: 9.9310\n",
            "Epoch 2/15\n",
            "600/600 [==============================] - 67s 112ms/step - loss: 10.7706\n",
            "Epoch 3/15\n",
            "600/600 [==============================] - 68s 114ms/step - loss: 10.7706\n",
            "Epoch 4/15\n",
            "600/600 [==============================] - 66s 109ms/step - loss: 10.7707\n",
            "Epoch 5/15\n",
            "600/600 [==============================] - 68s 113ms/step - loss: 10.7706\n",
            "Epoch 6/15\n",
            "600/600 [==============================] - 66s 109ms/step - loss: 10.7706\n",
            "Epoch 7/15\n",
            "600/600 [==============================] - 66s 110ms/step - loss: 10.7707\n",
            "Epoch 8/15\n",
            "600/600 [==============================] - 68s 113ms/step - loss: 10.7706\n",
            "Epoch 9/15\n",
            "600/600 [==============================] - 68s 113ms/step - loss: 10.7706\n",
            "Epoch 10/15\n",
            "600/600 [==============================] - 66s 110ms/step - loss: 10.7707\n",
            "Epoch 11/15\n",
            "600/600 [==============================] - 66s 110ms/step - loss: 10.7706\n",
            "Epoch 12/15\n",
            "600/600 [==============================] - 66s 109ms/step - loss: 10.7706\n",
            "Epoch 13/15\n",
            "600/600 [==============================] - 66s 110ms/step - loss: 10.7706\n",
            "Epoch 14/15\n",
            "600/600 [==============================] - 68s 114ms/step - loss: 10.7706\n",
            "Epoch 15/15\n",
            "600/600 [==============================] - 69s 114ms/step - loss: 10.7706\n"
          ]
        },
        {
          "output_type": "execute_result",
          "data": {
            "text/plain": [
              "<keras.callbacks.History at 0x7f3ae7eac4c0>"
            ]
          },
          "metadata": {},
          "execution_count": 18
        }
      ]
    },
    {
      "cell_type": "markdown",
      "source": [
        "На обучение ушло больш времени, чем во втором случае, но меньше, чем в первом. Показатели потерь также оставались стабильными"
      ],
      "metadata": {
        "id": "_Ab_4RoKF0DD"
      }
    },
    {
      "cell_type": "markdown",
      "source": [
        "### Четвёртая нейронная сеть будет с 800 нейронами в первом слое, активационной функцией linear, batch_size = 60000"
      ],
      "metadata": {
        "id": "G3qN-B0IEEWG"
      }
    },
    {
      "cell_type": "code",
      "source": [
        "model4 = Sequential()\n",
        "model4.add(Dense(800, input_dim = 784, activation = 'linear'))\n",
        "model4.add(Dense(400, activation = 'linear'))\n",
        "model4.add(Dense(10, activation = 'linear'))"
      ],
      "metadata": {
        "id": "Dsyc3NbtD96m"
      },
      "execution_count": null,
      "outputs": []
    },
    {
      "cell_type": "code",
      "source": [
        "model4.compile(optimizer='Adam', loss='categorical_crossentropy')\n",
        "print(model2.summary())"
      ],
      "metadata": {
        "colab": {
          "base_uri": "https://localhost:8080/"
        },
        "id": "2SN6ih-9EDhe",
        "outputId": "722d4907-e7f5-4b67-9d31-3d24674eb932"
      },
      "execution_count": null,
      "outputs": [
        {
          "output_type": "stream",
          "name": "stdout",
          "text": [
            "Model: \"sequential_3\"\n",
            "_________________________________________________________________\n",
            " Layer (type)                Output Shape              Param #   \n",
            "=================================================================\n",
            " dense_9 (Dense)             (None, 100)               78500     \n",
            "                                                                 \n",
            " dense_10 (Dense)            (None, 400)               40400     \n",
            "                                                                 \n",
            " dense_11 (Dense)            (None, 10)                4010      \n",
            "                                                                 \n",
            "=================================================================\n",
            "Total params: 122,910\n",
            "Trainable params: 122,910\n",
            "Non-trainable params: 0\n",
            "_________________________________________________________________\n",
            "None\n"
          ]
        }
      ]
    },
    {
      "cell_type": "markdown",
      "source": [
        "В четвёртом случае в модели 122,910 элементов"
      ],
      "metadata": {
        "id": "u--WHkV3GSox"
      }
    },
    {
      "cell_type": "code",
      "source": [
        "model4.fit(x_train, y_train, batch_size = 60000, epochs = 15, verbose = 1)"
      ],
      "metadata": {
        "colab": {
          "base_uri": "https://localhost:8080/"
        },
        "id": "lZr9NgaKEYp2",
        "outputId": "70789039-bfba-49aa-e41c-57dccda1eeaf"
      },
      "execution_count": null,
      "outputs": [
        {
          "output_type": "stream",
          "name": "stdout",
          "text": [
            "Epoch 1/15\n",
            "1/1 [==============================] - 6s 6s/step - loss: 7.0082\n",
            "Epoch 2/15\n",
            "1/1 [==============================] - 4s 4s/step - loss: 7.2721\n",
            "Epoch 3/15\n",
            "1/1 [==============================] - 5s 5s/step - loss: 5.6754\n",
            "Epoch 4/15\n",
            "1/1 [==============================] - 4s 4s/step - loss: 4.6257\n",
            "Epoch 5/15\n",
            "1/1 [==============================] - 4s 4s/step - loss: 4.0973\n",
            "Epoch 6/15\n",
            "1/1 [==============================] - 5s 5s/step - loss: 3.4446\n",
            "Epoch 7/15\n",
            "1/1 [==============================] - 4s 4s/step - loss: 3.4058\n",
            "Epoch 8/15\n",
            "1/1 [==============================] - 4s 4s/step - loss: 3.3880\n",
            "Epoch 9/15\n",
            "1/1 [==============================] - 5s 5s/step - loss: 3.3771\n",
            "Epoch 10/15\n",
            "1/1 [==============================] - 4s 4s/step - loss: 3.3684\n",
            "Epoch 11/15\n",
            "1/1 [==============================] - 5s 5s/step - loss: 3.3601\n",
            "Epoch 12/15\n",
            "1/1 [==============================] - 5s 5s/step - loss: 3.3525\n",
            "Epoch 13/15\n",
            "1/1 [==============================] - 4s 4s/step - loss: 3.3448\n",
            "Epoch 14/15\n",
            "1/1 [==============================] - 5s 5s/step - loss: 3.3368\n",
            "Epoch 15/15\n",
            "1/1 [==============================] - 4s 4s/step - loss: 3.3287\n"
          ]
        },
        {
          "output_type": "execute_result",
          "data": {
            "text/plain": [
              "<keras.callbacks.History at 0x7f3ae4731930>"
            ]
          },
          "metadata": {},
          "execution_count": 21
        }
      ]
    },
    {
      "cell_type": "markdown",
      "source": [
        "На обучение ушло около 1 минуты, при этром показатели потерь постоянно варьировались"
      ],
      "metadata": {
        "id": "TynvZnVGGbWS"
      }
    },
    {
      "cell_type": "markdown",
      "source": [
        "## **Распознавание рукописных цифр**"
      ],
      "metadata": {
        "id": "8dJQDPClGtzV"
      }
    },
    {
      "cell_type": "code",
      "source": [
        "n = 3333\n",
        "plt.imshow(Image.fromarray(x_test_org[n]).convert('RGBA'))\n",
        "plt.show()"
      ],
      "metadata": {
        "colab": {
          "base_uri": "https://localhost:8080/",
          "height": 430
        },
        "id": "ogLoQwvrGwKM",
        "outputId": "7cd759fe-3f9c-44c8-e73d-db1ae22296d7"
      },
      "execution_count": null,
      "outputs": [
        {
          "output_type": "display_data",
          "data": {
            "text/plain": [
              "<Figure size 640x480 with 1 Axes>"
            ],
            "image/png": "[encoded data removed]"
          },
          "metadata": {}
        }
      ]
    },
    {
      "cell_type": "code",
      "source": [
        "x = x_test[n]\n",
        "x = np.expand_dims(x, axis=0)\n",
        "prediction1 = model1.predict(x)\n",
        "prediction2 = model2.predict(x)\n",
        "prediction3 = model3.predict(x)\n",
        "prediction4 = model4.predict(x)"
      ],
      "metadata": {
        "colab": {
          "base_uri": "https://localhost:8080/"
        },
        "id": "m_xP6vzwHGhx",
        "outputId": "2b65f82b-ef38-4efe-9f66-8a41e9121fd3"
      },
      "execution_count": null,
      "outputs": [
        {
          "output_type": "stream",
          "name": "stdout",
          "text": [
            "1/1 [==============================] - 0s 124ms/step\n",
            "1/1 [==============================] - 0s 54ms/step\n",
            "1/1 [==============================] - 0s 63ms/step\n",
            "1/1 [==============================] - 0s 58ms/step\n"
          ]
        }
      ]
    },
    {
      "cell_type": "code",
      "source": [
        "print(prediction1)"
      ],
      "metadata": {
        "colab": {
          "base_uri": "https://localhost:8080/"
        },
        "id": "C37JTG9vHZC0",
        "outputId": "c79f5f7b-d6e5-4033-acab-ab13001f1b40"
      },
      "execution_count": null,
      "outputs": [
        {
          "output_type": "stream",
          "name": "stdout",
          "text": [
            "[[-24.828156  24.99936  -18.900574 -22.988464 -21.665947  29.196173\n",
            "  -32.717834  28.347975  26.438374  26.536543]]\n"
          ]
        }
      ]
    },
    {
      "cell_type": "code",
      "source": [
        "print(prediction2)"
      ],
      "metadata": {
        "colab": {
          "base_uri": "https://localhost:8080/"
        },
        "id": "sZDiHSCuHdpk",
        "outputId": "c52b355a-5e10-4555-8945-2ce05fd16e28"
      },
      "execution_count": null,
      "outputs": [
        {
          "output_type": "stream",
          "name": "stdout",
          "text": [
            "[[  8.772027    8.636787  -10.638316  -10.2747965 -10.778184   11.9975605\n",
            "    9.619475   13.161242  -12.561005  -12.304497 ]]\n"
          ]
        }
      ]
    },
    {
      "cell_type": "code",
      "source": [
        "print(prediction3)"
      ],
      "metadata": {
        "colab": {
          "base_uri": "https://localhost:8080/"
        },
        "id": "636avzsZHfQE",
        "outputId": "d92531ab-8fff-4611-fd37-1af2c8a3f38c"
      },
      "execution_count": null,
      "outputs": [
        {
          "output_type": "stream",
          "name": "stdout",
          "text": [
            "[[  59.764095  101.43595    63.17077    62.699013 -100.45455    53.049084\n",
            "   -94.98935   -92.13082  -118.28456    84.87693 ]]\n"
          ]
        }
      ]
    },
    {
      "cell_type": "code",
      "source": [
        "print(prediction4)"
      ],
      "metadata": {
        "colab": {
          "base_uri": "https://localhost:8080/"
        },
        "id": "xWgs4J9aHhjd",
        "outputId": "096d420f-43e3-407e-b19f-11795f7352a2"
      },
      "execution_count": null,
      "outputs": [
        {
          "output_type": "stream",
          "name": "stdout",
          "text": [
            "[[ -1.7030523  -8.876433    6.7013593 -18.677004   -4.3406186  -4.403299\n",
            "   -4.6005177  -4.2491193  -2.9074306  -6.214603 ]]\n"
          ]
        }
      ]
    },
    {
      "cell_type": "code",
      "source": [
        "pred1 = np.argmax(prediction1)\n",
        "pred2 = np.argmax(prediction2)\n",
        "pred3 = np.argmax(prediction3)\n",
        "pred4 = np.argmax(prediction4)"
      ],
      "metadata": {
        "id": "s-yYRW49Hj9w"
      },
      "execution_count": null,
      "outputs": []
    },
    {
      "cell_type": "code",
      "source": [
        "print(pred1)"
      ],
      "metadata": {
        "colab": {
          "base_uri": "https://localhost:8080/"
        },
        "id": "WLS5Y2GlH0mP",
        "outputId": "36606cce-58d8-402f-f2e2-ef88bd783bb0"
      },
      "execution_count": null,
      "outputs": [
        {
          "output_type": "stream",
          "name": "stdout",
          "text": [
            "5\n"
          ]
        }
      ]
    },
    {
      "cell_type": "code",
      "source": [
        "print(pred2)"
      ],
      "metadata": {
        "colab": {
          "base_uri": "https://localhost:8080/"
        },
        "id": "DARm1bSLH2iD",
        "outputId": "8f0f6c1b-92a1-4542-9fab-113fb3fab5b6"
      },
      "execution_count": null,
      "outputs": [
        {
          "output_type": "stream",
          "name": "stdout",
          "text": [
            "7\n"
          ]
        }
      ]
    },
    {
      "cell_type": "code",
      "source": [
        "print(pred3)"
      ],
      "metadata": {
        "colab": {
          "base_uri": "https://localhost:8080/"
        },
        "id": "fyuzGbohH5hL",
        "outputId": "bfb8c152-fe10-40bb-dcf6-e4eb7bb31880"
      },
      "execution_count": null,
      "outputs": [
        {
          "output_type": "stream",
          "name": "stdout",
          "text": [
            "1\n"
          ]
        }
      ]
    },
    {
      "cell_type": "code",
      "source": [
        "print(pred4)"
      ],
      "metadata": {
        "colab": {
          "base_uri": "https://localhost:8080/"
        },
        "id": "qE77AbCCH7j2",
        "outputId": "0683189e-6cf7-48d1-a601-feaafd3545c8"
      },
      "execution_count": null,
      "outputs": [
        {
          "output_type": "stream",
          "name": "stdout",
          "text": [
            "2\n"
          ]
        }
      ]
    },
    {
      "cell_type": "code",
      "source": [
        "print(y_test_org[n])"
      ],
      "metadata": {
        "colab": {
          "base_uri": "https://localhost:8080/"
        },
        "id": "PuJnTN6vIFqg",
        "outputId": "84603d90-ce8b-4e92-eeee-8ae8d4073b60"
      },
      "execution_count": null,
      "outputs": [
        {
          "output_type": "stream",
          "name": "stdout",
          "text": [
            "7\n"
          ]
        }
      ]
    },
    {
      "cell_type": "markdown",
      "source": [
        "По результатам тестовой выборки только одна нейцронная сеть дала правильный ответ. Все ключевые факторы повлияли на скорость и точность обучения, что в конечном итоге выдавало ошибки при распознавании числа"
      ],
      "metadata": {
        "id": "9PntT0UPILdf"
      }
    }
  ]
}