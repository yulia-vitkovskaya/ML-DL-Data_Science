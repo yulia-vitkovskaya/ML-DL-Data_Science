{
  "nbformat": 4,
  "nbformat_minor": 0,
  "metadata": {
    "colab": {
      "provenance": []
    },
    "kernelspec": {
      "name": "python3",
      "display_name": "Python 3"
    },
    "language_info": {
      "name": "python"
    }
  },
  "cells": [
    {
      "cell_type": "markdown",
      "source": [
        "## **Импорт библиотек**"
      ],
      "metadata": {
        "id": "-zPgOnOMiN82"
      }
    },
    {
      "cell_type": "code",
      "execution_count": null,
      "metadata": {
        "id": "ygHDzDzKh7IW"
      },
      "outputs": [],
      "source": [
        "8from tensorflow.keras.datasets import mnist #Библиотека с базой Mnist\n",
        "from tensorflow.keras.models import Sequential # Подлючаем класс создания модели Sequential\n",
        "from tensorflow.keras.layers import Dense # Подключаем класс Dense - полносвязный слой\n",
        "from tensorflow.keras.optimizers import Adam # Подключаем оптимизатор Adam\n",
        "from tensorflow.keras import utils #Утилиты для to_categorical\n",
        "from tensorflow.keras.preprocessing import image #Для отрисовки изображения\n",
        "import numpy as np # Подключаем библиотеку numpy\n",
        "import pylab # Модуль для построения графиков\n",
        "import matplotlib.pyplot as plt #Отрисовка изображений\n",
        "from PIL import Image #Отрисовка изображений\n",
        "#Отрисовывать изображения в ноутбуке, а не в консоль или файл\n",
        "%matplotlib inline"
      ]
    },
    {
      "cell_type": "markdown",
      "source": [
        "## **Загрузка базы MNIST**"
      ],
      "metadata": {
        "id": "tpVcQxPIiZOv"
      }
    },
    {
      "cell_type": "code",
      "source": [
        "(x_train_org, y_train_org), (x_test_org, y_test_org) = mnist.load_data()"
      ],
      "metadata": {
        "colab": {
          "base_uri": "https://localhost:8080/"
        },
        "id": "iC41LYuFikGg",
        "outputId": "b772fbdb-df5a-4418-c82e-5de6c758e0a4"
      },
      "execution_count": null,
      "outputs": [
        {
          "output_type": "stream",
          "name": "stdout",
          "text": [
            "Downloading data from https://storage.googleapis.com/tensorflow/tf-keras-datasets/mnist.npz\n",
            "11490434/11490434 [==============================] - 0s 0us/step\n"
          ]
        }
      ]
    },
    {
      "cell_type": "markdown",
      "source": [
        "## **Нормирование и преобразование x_train и y_train**"
      ],
      "metadata": {
        "id": "vtLwdME_jX1_"
      }
    },
    {
      "cell_type": "code",
      "source": [
        "x_train_org.shape"
      ],
      "metadata": {
        "colab": {
          "base_uri": "https://localhost:8080/"
        },
        "id": "M8InFTnCjae7",
        "outputId": "5e287fb2-0a9c-4677-e878-c3ee0b011c84"
      },
      "execution_count": null,
      "outputs": [
        {
          "output_type": "execute_result",
          "data": {
            "text/plain": [
              "(60000, 28, 28)"
            ]
          },
          "metadata": {},
          "execution_count": 3
        }
      ]
    },
    {
      "cell_type": "code",
      "source": [
        "#смена разрешения изображений\n",
        "x_train = x_train_org.reshape(60000, 784)\n",
        "x_test = x_test_org.reshape(10000, 784)\n",
        "print(x_train.shape)\n",
        "print(x_test.shape)"
      ],
      "metadata": {
        "colab": {
          "base_uri": "https://localhost:8080/"
        },
        "id": "Dhik_6IvjqG9",
        "outputId": "d91c6e25-2e6b-477e-a314-85368868bf70"
      },
      "execution_count": null,
      "outputs": [
        {
          "output_type": "stream",
          "name": "stdout",
          "text": [
            "(60000, 784)\n",
            "(10000, 784)\n"
          ]
        }
      ]
    },
    {
      "cell_type": "code",
      "source": [
        "#нормализация входных картинок\n",
        "x_train = x_train.astype('float32') / 255\n",
        "x_test = x_test.astype('float32') / 255"
      ],
      "metadata": {
        "id": "3EDnYfoUkQSo"
      },
      "execution_count": null,
      "outputs": []
    },
    {
      "cell_type": "code",
      "source": [
        "#Преобразуем в формат one code encoding\n",
        "y_train = utils.to_categorical(y_train_org, 10)\n",
        "y_test = utils.to_categorical(y_test_org, 10)"
      ],
      "metadata": {
        "id": "Ti7hAn_9k_ge"
      },
      "execution_count": null,
      "outputs": []
    },
    {
      "cell_type": "markdown",
      "source": [
        "## **Создание нейронной сети**"
      ],
      "metadata": {
        "id": "0O_9_WAHl1Cz"
      }
    },
    {
      "cell_type": "code",
      "source": [
        "model = Sequential()\n",
        "model.add(Dense(800, input_dim = 784, activation = 'relu'))\n",
        "model.add(Dense(400, activation = 'relu'))\n",
        "model.add(Dense(10, activation = 'softmax'))"
      ],
      "metadata": {
        "id": "9DelLv7flx3v"
      },
      "execution_count": null,
      "outputs": []
    },
    {
      "cell_type": "code",
      "source": [
        "model.compile(optimizer='Adam', loss='categorical_crossentropy')\n",
        "print(model.summary())"
      ],
      "metadata": {
        "colab": {
          "base_uri": "https://localhost:8080/"
        },
        "id": "TQnvTrCAnyOt",
        "outputId": "22c5153b-631d-4db2-ac3d-cb112dcc5756"
      },
      "execution_count": null,
      "outputs": [
        {
          "output_type": "stream",
          "name": "stdout",
          "text": [
            "Model: \"sequential_1\"\n",
            "_________________________________________________________________\n",
            " Layer (type)                Output Shape              Param #   \n",
            "=================================================================\n",
            " dense_3 (Dense)             (None, 800)               628000    \n",
            "                                                                 \n",
            " dense_4 (Dense)             (None, 400)               320400    \n",
            "                                                                 \n",
            " dense_5 (Dense)             (None, 10)                4010      \n",
            "                                                                 \n",
            "=================================================================\n",
            "Total params: 952,410\n",
            "Trainable params: 952,410\n",
            "Non-trainable params: 0\n",
            "_________________________________________________________________\n",
            "None\n"
          ]
        }
      ]
    },
    {
      "cell_type": "markdown",
      "source": [
        "## **Обучение нейронной сети**"
      ],
      "metadata": {
        "id": "9cFfkNyWoQW8"
      }
    },
    {
      "cell_type": "code",
      "source": [
        "model.fit(x_train, y_train, batch_size = 128, epochs = 16, verbose = 1)"
      ],
      "metadata": {
        "colab": {
          "base_uri": "https://localhost:8080/"
        },
        "id": "_BG-jF3poT7L",
        "outputId": "b6b412ae-b152-452e-df22-1c9d4c0d05bd"
      },
      "execution_count": null,
      "outputs": [
        {
          "output_type": "stream",
          "name": "stdout",
          "text": [
            "Epoch 1/16\n",
            "469/469 [==============================] - 7s 13ms/step - loss: 0.2057\n",
            "Epoch 2/16\n",
            "469/469 [==============================] - 7s 14ms/step - loss: 0.0758\n",
            "Epoch 3/16\n",
            "469/469 [==============================] - 6s 13ms/step - loss: 0.0479\n",
            "Epoch 4/16\n",
            "469/469 [==============================] - 7s 14ms/step - loss: 0.0332\n",
            "Epoch 5/16\n",
            "469/469 [==============================] - 6s 13ms/step - loss: 0.0251\n",
            "Epoch 6/16\n",
            "469/469 [==============================] - 7s 14ms/step - loss: 0.0237\n",
            "Epoch 7/16\n",
            "469/469 [==============================] - 6s 13ms/step - loss: 0.0183\n",
            "Epoch 8/16\n",
            "469/469 [==============================] - 6s 14ms/step - loss: 0.0151\n",
            "Epoch 9/16\n",
            "469/469 [==============================] - 6s 12ms/step - loss: 0.0158\n",
            "Epoch 10/16\n",
            "469/469 [==============================] - 6s 14ms/step - loss: 0.0153\n",
            "Epoch 11/16\n",
            "469/469 [==============================] - 6s 12ms/step - loss: 0.0094\n",
            "Epoch 12/16\n",
            "469/469 [==============================] - 6s 14ms/step - loss: 0.0124\n",
            "Epoch 13/16\n",
            "469/469 [==============================] - 6s 12ms/step - loss: 0.0118\n",
            "Epoch 14/16\n",
            "469/469 [==============================] - 6s 14ms/step - loss: 0.0095\n",
            "Epoch 15/16\n",
            "469/469 [==============================] - 6s 12ms/step - loss: 0.0061\n",
            "Epoch 16/16\n",
            "469/469 [==============================] - 6s 14ms/step - loss: 0.0115\n"
          ]
        },
        {
          "output_type": "execute_result",
          "data": {
            "text/plain": [
              "<keras.callbacks.History at 0x7fe9c229a800>"
            ]
          },
          "metadata": {},
          "execution_count": 25
        }
      ]
    },
    {
      "cell_type": "markdown",
      "source": [
        "## **Добавление картинки**"
      ],
      "metadata": {
        "id": "lXGDOf37w-YY"
      }
    },
    {
      "cell_type": "code",
      "source": [
        "img = image.load_img('nine.png', target_size=(28, 28), color_mode = 'grayscale')"
      ],
      "metadata": {
        "id": "WKd9EFpRD6xu"
      },
      "execution_count": null,
      "outputs": []
    },
    {
      "cell_type": "code",
      "source": [
        "img.show()"
      ],
      "metadata": {
        "colab": {
          "base_uri": "https://localhost:8080/",
          "height": 45
        },
        "id": "mOPqkZnQyS73",
        "outputId": "42cf1ba8-9c02-4104-9633-57c021860801"
      },
      "execution_count": null,
      "outputs": [
        {
          "output_type": "display_data",
          "data": {
            "text/plain": [
              "<PIL.Image.Image image mode=L size=28x28 at 0x7FE9C32270A0>"
            ],
            "image/png": "[encoded data removed]"
          },
          "metadata": {}
        }
      ]
    },
    {
      "cell_type": "code",
      "source": [
        "img_arr = image.img_to_array(img)"
      ],
      "metadata": {
        "id": "u-CKbYssxRJn"
      },
      "execution_count": null,
      "outputs": []
    },
    {
      "cell_type": "code",
      "source": [
        "img_arr.shape"
      ],
      "metadata": {
        "colab": {
          "base_uri": "https://localhost:8080/"
        },
        "id": "WI3JQcg3xqWm",
        "outputId": "da4a6cb5-9aab-48d8-92b9-c6e570a1d5ea"
      },
      "execution_count": null,
      "outputs": [
        {
          "output_type": "execute_result",
          "data": {
            "text/plain": [
              "(28, 28, 1)"
            ]
          },
          "metadata": {},
          "execution_count": 37
        }
      ]
    },
    {
      "cell_type": "code",
      "source": [
        "img_test = img_arr.reshape(1, 784)"
      ],
      "metadata": {
        "id": "Giy5FgKYxkEY"
      },
      "execution_count": null,
      "outputs": []
    },
    {
      "cell_type": "code",
      "source": [
        "img_test = img_test.astype('float32') / 255"
      ],
      "metadata": {
        "id": "IVYwYRncxz40"
      },
      "execution_count": null,
      "outputs": []
    },
    {
      "cell_type": "code",
      "source": [
        "img_ans = 9\n",
        "img_ans = utils.to_categorical(img_ans, 10)"
      ],
      "metadata": {
        "id": "DRAayMLIx3bW"
      },
      "execution_count": null,
      "outputs": []
    },
    {
      "cell_type": "markdown",
      "source": [
        "## **Проверка**"
      ],
      "metadata": {
        "id": "fRkWHxAWyKxC"
      }
    },
    {
      "cell_type": "code",
      "source": [
        "img_test.shape"
      ],
      "metadata": {
        "colab": {
          "base_uri": "https://localhost:8080/"
        },
        "id": "_UPldKTcyN2N",
        "outputId": "f67a37ab-284e-45fa-f64c-fdb364c86b2a"
      },
      "execution_count": null,
      "outputs": [
        {
          "output_type": "execute_result",
          "data": {
            "text/plain": [
              "(1, 784)"
            ]
          },
          "metadata": {},
          "execution_count": 41
        }
      ]
    },
    {
      "cell_type": "code",
      "source": [
        "prediction = model.predict(img_test)"
      ],
      "metadata": {
        "colab": {
          "base_uri": "https://localhost:8080/"
        },
        "id": "0-tRpD9PyvO4",
        "outputId": "afba03b2-59c9-496e-c360-78d95725b41f"
      },
      "execution_count": null,
      "outputs": [
        {
          "output_type": "stream",
          "name": "stdout",
          "text": [
            "1/1 [==============================] - 0s 19ms/step\n"
          ]
        }
      ]
    },
    {
      "cell_type": "code",
      "source": [
        "print(prediction)"
      ],
      "metadata": {
        "colab": {
          "base_uri": "https://localhost:8080/"
        },
        "id": "QEZIuSJGzoeC",
        "outputId": "77ffaff2-790b-441b-e271-144eb9eaa1ec"
      },
      "execution_count": null,
      "outputs": [
        {
          "output_type": "stream",
          "name": "stdout",
          "text": [
            "[[8.58280241e-01 1.92052485e-09 5.67916665e-08 6.05333696e-07\n",
            "  5.53382612e-16 3.55873480e-02 1.06130876e-01 9.80215091e-08\n",
            "  7.81307506e-07 1.40514392e-10]]\n"
          ]
        }
      ]
    },
    {
      "cell_type": "code",
      "source": [
        "ans = np.argmax(prediction)\n",
        "print(ans)"
      ],
      "metadata": {
        "colab": {
          "base_uri": "https://localhost:8080/"
        },
        "id": "Nmu3jfJcy7-w",
        "outputId": "4e0abc38-4472-41d2-e737-3e6e0d8c5e2a"
      },
      "execution_count": null,
      "outputs": [
        {
          "output_type": "stream",
          "name": "stdout",
          "text": [
            "0\n"
          ]
        }
      ]
    }
  ]
}