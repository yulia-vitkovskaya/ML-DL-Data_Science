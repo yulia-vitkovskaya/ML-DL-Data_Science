{
  "nbformat": 4,
  "nbformat_minor": 0,
  "metadata": {
    "colab": {
      "provenance": []
    },
    "kernelspec": {
      "display_name": "Python 3",
      "name": "python3"
    },
    "language_info": {
      "name": "python"
    }
  },
  "cells": [
    {
      "cell_type": "markdown",
      "metadata": {
        "id": "39zJTivLrXFV"
      },
      "source": [
        "### Задача 1"
      ]
    },
    {
      "cell_type": "markdown",
      "metadata": {
        "id": "8YhhSW05rc1o"
      },
      "source": [
        "Напишите программу, которая просит пользователя ввести произвольную цифру от 1 до 9, а затем выводит таблицу умножения для введенного числа.\n",
        "\n",
        "Добавьте проверку введенной пользователем информации:\n",
        "* данные должны быть целочисленного типа\n",
        "* число должно находиться в диапазоне от 1 до 9"
      ]
    },
    {
      "cell_type": "code",
      "metadata": {
        "id": "ye9ErHpKBhhU",
        "outputId": "78080b15-2cc5-484d-ce81-c56b29a59ae2",
        "colab": {
          "base_uri": "https://localhost:8080/"
        }
      },
      "source": [
        "# Ваше решение\n",
        "num = input('Введите число от 1 до 9: ')\n",
        "try:\n",
        "  num = int(num)\n",
        "  if ((num > 1) and (num < 9)):\n",
        "    for i in range(1, 10):\n",
        "      print(f'{num} * {i} = {num*i}')\n",
        "  else:\n",
        "    print('Вы не соблюдаете условие')\n",
        "except ValueError:\n",
        "  print('Вы не соблюдаете условие')\n"
      ],
      "execution_count": null,
      "outputs": [
        {
          "output_type": "stream",
          "name": "stdout",
          "text": [
            "Введите число от 1 до 9: 7\n",
            "7 * 1 = 7\n",
            "7 * 2 = 14\n",
            "7 * 3 = 21\n",
            "7 * 4 = 28\n",
            "7 * 5 = 35\n",
            "7 * 6 = 42\n",
            "7 * 7 = 49\n",
            "7 * 8 = 56\n",
            "7 * 9 = 63\n"
          ]
        }
      ]
    },
    {
      "cell_type": "markdown",
      "metadata": {
        "id": "dT9n_KJtpS-N"
      },
      "source": [
        "### Задача 2"
      ]
    },
    {
      "cell_type": "markdown",
      "metadata": {
        "id": "OTSU9QTLhdqe"
      },
      "source": [
        "Напишите программу, которая ищет все числа в интервале от 300 до 430 включительно, делящиеся на 11, но не делящиеся на 5. Выведите на экран все найденные числа."
      ]
    },
    {
      "cell_type": "code",
      "metadata": {
        "id": "lFWrMa8Uh9dc",
        "colab": {
          "base_uri": "https://localhost:8080/"
        },
        "outputId": "571de676-890d-488a-90fa-927362f3bbec"
      },
      "source": [
        "# Ваше решение\n",
        "for i in range(300, 431):\n",
        "  if (i % 11 == 0) and (i % 5 != 0):\n",
        "    print(i)"
      ],
      "execution_count": null,
      "outputs": [
        {
          "output_type": "stream",
          "name": "stdout",
          "text": [
            "308\n",
            "319\n",
            "341\n",
            "352\n",
            "363\n",
            "374\n",
            "396\n",
            "407\n",
            "418\n",
            "429\n"
          ]
        }
      ]
    },
    {
      "cell_type": "markdown",
      "metadata": {
        "id": "BDz6HXvPxsYs"
      },
      "source": [
        "### Задача 3"
      ]
    },
    {
      "cell_type": "markdown",
      "metadata": {
        "id": "_b21x2ryxziN"
      },
      "source": [
        "Напишите функцию, которая принимает один параметр (год) и определяет, является ли этот год високосным.\n",
        "\n",
        "Напомним, что ***високосными*** годами считаются те, порядковый номер которых либо кратен **4**, но при этом не кратен **100**, либо кратен **400** (например, 2000-й год являлся високосным, а 2100-й будет не високосным годом).\n",
        "\n",
        "Программа должна корректно работать на числах **1900 ≤ n ≤ 3000**.\n",
        "\n",
        "Функция должна вывести на экран \"Високосный\" в случае, если год является високосным и \"Обычный\" в противном случае."
      ]
    },
    {
      "cell_type": "code",
      "metadata": {
        "id": "W2LFTkVAeDE_",
        "colab": {
          "base_uri": "https://localhost:8080/"
        },
        "outputId": "8bf51496-e126-4e74-c4ae-e76ca086a485"
      },
      "source": [
        "# Ваше решение\n",
        "def isLeapYear(year):\n",
        "  if ((year % 4 == 0) and (year % 100 != 0)) or (year % 400 == 0):\n",
        "    print('Високосный')\n",
        "  else:\n",
        "    print('Обычный')\n",
        "\n",
        "year = int(input('Введите год:'))\n",
        "isLeapYear(year)"
      ],
      "execution_count": null,
      "outputs": [
        {
          "output_type": "stream",
          "name": "stdout",
          "text": [
            "Обычный\n"
          ]
        }
      ]
    },
    {
      "cell_type": "markdown",
      "metadata": {
        "id": "9sr2U6oz1Iqu"
      },
      "source": [
        "### Задача 4"
      ]
    },
    {
      "cell_type": "markdown",
      "metadata": {
        "id": "fHMBDh-ahdrz"
      },
      "source": [
        "Создайте словарь (dict) c ключами, соответствующими числам от 1 до 10 включительно и значениями, соответствующими квадратам ключей."
      ]
    },
    {
      "cell_type": "code",
      "metadata": {
        "id": "qpzOKGoXgzwQ",
        "colab": {
          "base_uri": "https://localhost:8080/"
        },
        "outputId": "eae84fb3-441a-436a-c3fd-ff862400ff3f"
      },
      "source": [
        "# Ваше решение\n",
        "dictionary = {}\n",
        "for i in range(1, 11):\n",
        "  dictionary[i] = i ** 2\n",
        "  print(f'Ключ: {i}, значение: {dictionary[i]}')"
      ],
      "execution_count": null,
      "outputs": [
        {
          "output_type": "stream",
          "name": "stdout",
          "text": [
            "Ключ: 1, значение: 1\n",
            "Ключ: 2, значение: 4\n",
            "Ключ: 3, значение: 9\n",
            "Ключ: 4, значение: 16\n",
            "Ключ: 5, значение: 25\n",
            "Ключ: 6, значение: 36\n",
            "Ключ: 7, значение: 49\n",
            "Ключ: 8, значение: 64\n",
            "Ключ: 9, значение: 81\n",
            "Ключ: 10, значение: 100\n"
          ]
        }
      ]
    },
    {
      "cell_type": "markdown",
      "metadata": {
        "id": "1GnNaeQ4zwt1"
      },
      "source": [
        "### Задача 5"
      ]
    },
    {
      "cell_type": "markdown",
      "metadata": {
        "id": "Rz5_LNzlr7GR"
      },
      "source": [
        "Напишите функцию простейшего калькулятора. Пользователь вводит число **a**, число **b** и вид арифметической операции над ними. Функция возвращает результат вычисления."
      ]
    },
    {
      "cell_type": "code",
      "metadata": {
        "id": "DD8u-nSnl41M"
      },
      "source": [
        "# Ваше решение\n",
        "oper = int(input('Введите число желаемой операции, где: \\n1 - сложение\\n2 - вычитание\\n3 - произведение\\n4 - деление\\n5 - возведение в степень\\n'))\n",
        "a = int(input('Введите первое число: '))\n",
        "b = int(input('Введите второе число: '))\n",
        "if oper == 1:\n",
        "  print(f'{a} + {b} = {a+b}')\n",
        "elif oper == 2:\n",
        "  print(f'{a} - {b} = {a-b}')\n",
        "elif oper == 3:\n",
        "  print(f'{a} * {b} = {a*b}')\n",
        "elif oper == 4:\n",
        "  print(f'{a} / {b} = {a/b}')\n",
        "else:\n",
        "  print(f'{a} в степени {b} = {a ** b}')"
      ],
      "execution_count": null,
      "outputs": []
    },
    {
      "cell_type": "code",
      "metadata": {
        "id": "bIIN_rNzYm5G"
      },
      "source": [],
      "execution_count": null,
      "outputs": []
    }
  ]
}