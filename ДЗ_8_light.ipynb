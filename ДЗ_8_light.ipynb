{
  "nbformat": 4,
  "nbformat_minor": 0,
  "metadata": {
    "colab": {
      "provenance": []
    },
    "kernelspec": {
      "name": "python3",
      "display_name": "Python 3"
    }
  },
  "cells": [
    {
      "cell_type": "code",
      "metadata": {
        "id": "ft_aZI3JcEkv"
      },
      "source": [
        "def P(n): #(факторил)\n",
        "  f =1\n",
        "  for x in range(2,n+1):\n",
        "    f*=x\n",
        "  return f\n",
        "\n",
        "# Сочетание\n",
        "def C_n_m(n,m):\n",
        "  return P(n)/ (P(n-m)* P(m))\n",
        "\n",
        "# Размещение\n",
        "def A_(n,m):\n",
        "  return C_n_m(n,m) * P(m)\n",
        "\n",
        "# Перестановка с повторением\n",
        "def P_rep(n,m):\n",
        "  add = 1\n",
        "  for x in m:\n",
        "    add*=P(x)\n",
        "  return P(n)/ add\n",
        "\n",
        "# Сочетание с повторением\n",
        "def C_n_m_rep(n,m):\n",
        "  return P(n+m-1)/ (P(n-1)* P(m))\n",
        "\n",
        "# Размещение с повторением\n",
        "def A_rep(n,m):\n",
        "  return n**m"
      ],
      "execution_count": null,
      "outputs": []
    },
    {
      "cell_type": "markdown",
      "metadata": {
        "id": "3Mq5CACckeYC"
      },
      "source": [
        "# Комбинаторика"
      ]
    },
    {
      "cell_type": "markdown",
      "metadata": {
        "id": "mou3NzKpvSgV"
      },
      "source": [
        "###Задача 1\n",
        "\n",
        "Сколько четырёхзначных чисел можно составить из следующих четырёх цифр: 1, 6, 3, 0? Цифры не должны повторяться в одном четырехзначном числе."
      ]
    },
    {
      "cell_type": "code",
      "metadata": {
        "id": "7uZOCkkQvylp",
        "colab": {
          "base_uri": "https://localhost:8080/"
        },
        "outputId": "512e0856-b217-44fc-a7c6-b96e6763359c"
      },
      "source": [
        "3*3*2*1"
      ],
      "execution_count": null,
      "outputs": [
        {
          "output_type": "execute_result",
          "data": {
            "text/plain": [
              "18"
            ]
          },
          "metadata": {},
          "execution_count": 3
        }
      ]
    },
    {
      "cell_type": "markdown",
      "metadata": {
        "id": "ftyDoxBtvSuF"
      },
      "source": [
        "###Задача 2\n",
        "\n",
        "Сколькими способами из колоды в 36 карт можно выбрать 3 карты? (порядок выбора нам не важен)"
      ]
    },
    {
      "cell_type": "code",
      "metadata": {
        "id": "ai5H3ludvzFW",
        "colab": {
          "base_uri": "https://localhost:8080/"
        },
        "outputId": "8138bfa1-ce5e-4f71-df41-7a1abfe346f5"
      },
      "source": [
        "C_n_m(38, 3)"
      ],
      "execution_count": null,
      "outputs": [
        {
          "output_type": "execute_result",
          "data": {
            "text/plain": [
              "8436.0"
            ]
          },
          "metadata": {},
          "execution_count": 4
        }
      ]
    },
    {
      "cell_type": "markdown",
      "metadata": {
        "id": "HQirwSuavS4t"
      },
      "source": [
        "###Задача 3\n",
        "\n",
        "На должность менеджера по продажам и его ассистента подали резюме 23 человека. Сколькими способами можно выбрать двух финальных кандидатов?"
      ]
    },
    {
      "cell_type": "code",
      "metadata": {
        "id": "7lMrkGDbvzp4",
        "colab": {
          "base_uri": "https://localhost:8080/"
        },
        "outputId": "bdd93044-3ed9-43fe-9770-02571352662f"
      },
      "source": [
        "23*22"
      ],
      "execution_count": null,
      "outputs": [
        {
          "output_type": "execute_result",
          "data": {
            "text/plain": [
              "506"
            ]
          },
          "metadata": {},
          "execution_count": 5
        }
      ]
    },
    {
      "cell_type": "markdown",
      "metadata": {
        "id": "ozHQXry5n2IS"
      },
      "source": [
        "# Множества"
      ]
    },
    {
      "cell_type": "markdown",
      "metadata": {
        "id": "mEyOoNiAdgdm"
      },
      "source": [
        "**Light**\n"
      ]
    },
    {
      "cell_type": "markdown",
      "metadata": {
        "id": "2YOEEyyKuYDY"
      },
      "source": [
        "###Задача 1\n",
        "\n",
        "  Записать множество Е, если $E = A\\cap B $, причем А={2, 4, 6, 8, 10, 12}, B={3, 6, 9, 12}."
      ]
    },
    {
      "cell_type": "code",
      "metadata": {
        "id": "qBVQ5iklu1pD",
        "colab": {
          "base_uri": "https://localhost:8080/"
        },
        "outputId": "02d51324-7570-4dba-be11-91c3ec3a8d8c"
      },
      "source": [
        "A = {2, 4, 6, 8, 10, 12}\n",
        "B = {3, 6, 9, 12}\n",
        "E = A & B\n",
        "print(E)"
      ],
      "execution_count": null,
      "outputs": [
        {
          "output_type": "stream",
          "name": "stdout",
          "text": [
            "{12, 6}\n"
          ]
        }
      ]
    },
    {
      "cell_type": "markdown",
      "metadata": {
        "id": "JaYsr8M1ugtk"
      },
      "source": [
        "###Задача 2\n",
        "\n",
        "  Записать множество Е, если $E = A\\cup B $, причем А={1, 6, 2, 7, 9, 3}, B={1, 6, 2, 7, 9, 3}."
      ]
    },
    {
      "cell_type": "code",
      "metadata": {
        "id": "Ar-v905tu2Ke",
        "colab": {
          "base_uri": "https://localhost:8080/"
        },
        "outputId": "9b354720-2784-440e-b021-4bb81fc3ac1f"
      },
      "source": [
        "A={1, 6, 2, 7, 9, 3}\n",
        "B={1, 6, 2, 7, 9, 3}\n",
        "E = A | B\n",
        "print(E)"
      ],
      "execution_count": null,
      "outputs": [
        {
          "output_type": "stream",
          "name": "stdout",
          "text": [
            "{1, 2, 3, 6, 7, 9}\n"
          ]
        }
      ]
    },
    {
      "cell_type": "markdown",
      "metadata": {
        "id": "yLHWoqHEui0O"
      },
      "source": [
        "###Задача 3\n",
        "\n",
        "  Записать множество Е, если $E = A\\B $, причем А={2, 4, 6, 8, 10, 12}, B={1, 3, 6, 9, 12}."
      ]
    },
    {
      "cell_type": "code",
      "metadata": {
        "id": "cfFu7FOau3U1",
        "colab": {
          "base_uri": "https://localhost:8080/"
        },
        "outputId": "a96b64fa-edae-4a33-cdf0-5b988fffb0c3"
      },
      "source": [
        "A={2, 4, 6, 8, 10, 12}\n",
        "B={1, 3, 6, 9, 12}\n",
        "E = A - B\n",
        "print(E)"
      ],
      "execution_count": null,
      "outputs": [
        {
          "output_type": "stream",
          "name": "stdout",
          "text": [
            "{8, 2, 10, 4}\n"
          ]
        }
      ]
    },
    {
      "cell_type": "markdown",
      "metadata": {
        "id": "wnRDpITRumnS"
      },
      "source": [
        "###Задача 4\n",
        "\n",
        "  Записать множество Е, если $E = A\\cap B $, причем А={1, 6, 2, 7, 9, 3}, B={1, 6, 2, 7, 9, 3}."
      ]
    },
    {
      "cell_type": "code",
      "metadata": {
        "id": "uUeSaptHu4Ha",
        "colab": {
          "base_uri": "https://localhost:8080/"
        },
        "outputId": "28aad582-19b5-4ffd-9542-459ddab45f5d"
      },
      "source": [
        "A={1, 6, 2, 7, 9, 3}\n",
        "B={1, 6, 2, 7, 9, 3}\n",
        "E = A & B\n",
        "print(E)"
      ],
      "execution_count": null,
      "outputs": [
        {
          "output_type": "stream",
          "name": "stdout",
          "text": [
            "{1, 2, 3, 6, 7, 9}\n"
          ]
        }
      ]
    }
  ]
}