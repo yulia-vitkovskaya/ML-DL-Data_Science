{
  "nbformat": 4,
  "nbformat_minor": 0,
  "metadata": {
    "colab": {
      "provenance": []
    },
    "kernelspec": {
      "name": "python3",
      "display_name": "Python 3"
    },
    "accelerator": "GPU"
  },
  "cells": [
    {
      "cell_type": "markdown",
      "metadata": {
        "id": "FtZD8NcCcvrF"
      },
      "source": [
        "# Pandas часть 2. Домашнее Задание. Ultra-Pro"
      ]
    },
    {
      "cell_type": "code",
      "source": [
        "import pandas as pd"
      ],
      "metadata": {
        "id": "8-T2D_xBLT8_"
      },
      "execution_count": null,
      "outputs": []
    },
    {
      "cell_type": "code",
      "source": [
        "from google.colab import drive\n",
        "drive.mount('/content/drive')"
      ],
      "metadata": {
        "colab": {
          "base_uri": "https://localhost:8080/"
        },
        "id": "g3nvNmWzXlmW",
        "outputId": "5489cf64-fb57-415c-cbaa-09fc04858d4a"
      },
      "execution_count": null,
      "outputs": [
        {
          "output_type": "stream",
          "name": "stdout",
          "text": [
            "Drive already mounted at /content/drive; to attempt to forcibly remount, call drive.mount(\"/content/drive\", force_remount=True).\n"
          ]
        }
      ]
    },
    {
      "cell_type": "code",
      "metadata": {
        "id": "IamaZQik72XB"
      },
      "source": [
        "data = pd.read_csv('/content/drive/My Drive/БД/data.csv', encoding = 'cp1250')\n",
        "data.index = pd.to_datetime(data.InvoiceDate)"
      ],
      "execution_count": null,
      "outputs": []
    },
    {
      "cell_type": "markdown",
      "metadata": {
        "id": "o5zbOypPjKp6"
      },
      "source": [
        "### Задача 1\n",
        "\n",
        "Подгрузите данные 'data.csv' (возможно, придется указать кодировку encoding сp1250) в переменную data.\n",
        "\n",
        "Создайте новый столбец TotalCost со значениями Quantity * UnitPrice. Сделайте resampling данных в еженедельные со значениями суммы по столбцам TotalCost.\n"
      ]
    },
    {
      "cell_type": "markdown",
      "metadata": {
        "id": "qMFZukAIK0vP"
      },
      "source": [
        "**Решение:**"
      ]
    },
    {
      "cell_type": "code",
      "source": [
        "data['TotalCost'] = data.Quantity * data.UnitPrice"
      ],
      "metadata": {
        "id": "2ztaZbYGLpr9"
      },
      "execution_count": null,
      "outputs": []
    },
    {
      "cell_type": "code",
      "source": [
        "data.TotalCost.resample('1W').sum()"
      ],
      "metadata": {
        "colab": {
          "base_uri": "https://localhost:8080/"
        },
        "id": "FfATtg9lP2p_",
        "outputId": "47271083-0fbe-4c43-d451-21a9f5305e5d"
      },
      "execution_count": null,
      "outputs": [
        {
          "output_type": "execute_result",
          "data": {
            "text/plain": [
              "InvoiceDate\n",
              "2010-12-05    181847.250\n",
              "2010-12-12    270287.030\n",
              "2010-12-19    207052.170\n",
              "2010-12-26     89770.570\n",
              "2011-01-02         0.000\n",
              "2011-01-09     93720.930\n",
              "2011-01-16    190994.960\n",
              "2011-01-23    133782.910\n",
              "2011-01-30    119136.810\n",
              "2011-02-06    123642.180\n",
              "2011-02-13    102296.930\n",
              "2011-02-20    139664.580\n",
              "2011-02-27    133069.930\n",
              "2011-03-06    130435.560\n",
              "2011-03-13    129180.960\n",
              "2011-03-20    145262.610\n",
              "2011-03-27    147909.800\n",
              "2011-04-03    183501.710\n",
              "2011-04-10    121598.220\n",
              "2011-04-17    147459.771\n",
              "2011-04-24    115461.250\n",
              "2011-05-01     84382.660\n",
              "2011-05-08    130354.310\n",
              "2011-05-15    205445.230\n",
              "2011-05-22    198031.530\n",
              "2011-05-29    160569.820\n",
              "2011-06-05    116932.520\n",
              "2011-06-12    177916.870\n",
              "2011-06-19    184016.500\n",
              "2011-06-26    117086.710\n",
              "2011-07-03    136287.440\n",
              "2011-07-10    174659.170\n",
              "2011-07-17    124163.170\n",
              "2011-07-24    182513.960\n",
              "2011-07-31    180814.851\n",
              "2011-08-07    153176.200\n",
              "2011-08-14    161417.020\n",
              "2011-08-21    170724.890\n",
              "2011-08-28    149603.500\n",
              "2011-09-04    143819.060\n",
              "2011-09-11    190513.470\n",
              "2011-09-18    211722.620\n",
              "2011-09-25    326156.721\n",
              "2011-10-02    206858.231\n",
              "2011-10-09    302466.590\n",
              "2011-10-16    205734.640\n",
              "2011-10-23    263762.220\n",
              "2011-10-30    238642.190\n",
              "2011-11-06    288266.770\n",
              "2011-11-13    346560.140\n",
              "2011-11-20    380407.570\n",
              "2011-11-27    308185.020\n",
              "2011-12-04    319874.990\n",
              "2011-12-11    300605.220\n",
              "Freq: W-SUN, Name: TotalCost, dtype: float64"
            ]
          },
          "metadata": {},
          "execution_count": 20
        }
      ]
    },
    {
      "cell_type": "markdown",
      "metadata": {
        "id": "XOVd5J4zjKp8"
      },
      "source": [
        "### Задача 2\n",
        "\n",
        "Посчитайте скользящее недельное среднее суммы ежедневных заказов. Для этого\n",
        "* сделайте resampling в ежедневные данные,\n",
        "* посчитайте скользящее среднее за 7 дней по столбцу TotalCost.\n",
        "\n",
        "*Для решения второй части данной задачи потребуется самостоятельно найти способ определения скользящего среднего.*"
      ]
    },
    {
      "cell_type": "markdown",
      "metadata": {
        "id": "1fI0ZG_97ejw"
      },
      "source": [
        "**Решение:**"
      ]
    },
    {
      "cell_type": "code",
      "metadata": {
        "id": "ACrzRyeG7y5n",
        "colab": {
          "base_uri": "https://localhost:8080/"
        },
        "outputId": "d30763a1-7d18-4480-f5df-64fc9bd0a2da"
      },
      "source": [
        "data.TotalCost.resample('1D').sum().rolling(window = '7d').mean().head(20)"
      ],
      "execution_count": null,
      "outputs": [
        {
          "output_type": "execute_result",
          "data": {
            "text/plain": [
              "InvoiceDate\n",
              "2010-12-01    58635.560000\n",
              "2010-12-02    52421.420000\n",
              "2010-12-03    50154.433333\n",
              "2010-12-04    37615.825000\n",
              "2010-12-05    36369.450000\n",
              "2010-12-06    39284.571667\n",
              "2010-12-07    40109.497143\n",
              "2010-12-08    38045.822857\n",
              "2010-12-09    38949.372857\n",
              "2010-12-10    40632.865714\n",
              "2010-12-11    40632.865714\n",
              "2010-12-12    38612.432857\n",
              "2010-12-13    35972.312857\n",
              "2010-12-14    35655.775714\n",
              "2010-12-15    33549.182857\n",
              "2010-12-16    32949.500000\n",
              "2010-12-17    30967.968571\n",
              "2010-12-18    30967.968571\n",
              "2010-12-19    29578.881429\n",
              "2010-12-20    28059.225714\n",
              "Freq: D, Name: TotalCost, dtype: float64"
            ]
          },
          "metadata": {},
          "execution_count": 22
        }
      ]
    },
    {
      "cell_type": "markdown",
      "metadata": {
        "id": "XS44TRvGjKp9"
      },
      "source": [
        "### Задача 3. GroupBy\n",
        "\n",
        "\n",
        "Посчитайте общую стоимость заказов на ежемесячной основе в разбивке по странам.\n"
      ]
    },
    {
      "cell_type": "markdown",
      "metadata": {
        "id": "xo5lhNKG7e94"
      },
      "source": [
        "**Решение:**"
      ]
    },
    {
      "cell_type": "code",
      "metadata": {
        "id": "O5UyRYEx7x4m",
        "colab": {
          "base_uri": "https://localhost:8080/"
        },
        "outputId": "5682e42b-b511-4172-acf1-280192126a57"
      },
      "source": [
        "data_1 = data.groupby(['Country']).TotalCost.resample('1M').sum()\n",
        "data_1.head(20)"
      ],
      "execution_count": null,
      "outputs": [
        {
          "output_type": "execute_result",
          "data": {
            "text/plain": [
              "Country    InvoiceDate\n",
              "Australia  2010-12-31      1005.10\n",
              "           2011-01-31      9017.71\n",
              "           2011-02-28     14627.47\n",
              "           2011-03-31     17055.29\n",
              "           2011-04-30       333.40\n",
              "           2011-05-31     13628.51\n",
              "           2011-06-30     25164.77\n",
              "           2011-07-31      4767.57\n",
              "           2011-08-31     22489.20\n",
              "           2011-09-30      5031.73\n",
              "           2011-10-31     17150.53\n",
              "           2011-11-30      6805.99\n",
              "Austria    2010-12-31       257.04\n",
              "           2011-01-31         0.00\n",
              "           2011-02-28       518.36\n",
              "           2011-03-31      1708.12\n",
              "           2011-04-30       680.78\n",
              "           2011-05-31      1249.43\n",
              "           2011-06-30       -24.20\n",
              "           2011-07-31      1191.95\n",
              "Name: TotalCost, dtype: float64"
            ]
          },
          "metadata": {},
          "execution_count": 23
        }
      ]
    },
    {
      "cell_type": "markdown",
      "metadata": {
        "id": "8cSn-5OVjKp_"
      },
      "source": [
        "### Задача 4. JOIN\n",
        "\n",
        "* Подгрузите данные, содержащие информацию о номерах карт лояльности пользователей (card_data.csv).\n",
        "* Назовите ее cards.\n",
        "* Сделайте Left Join исходной таблицы (которая получилась после задачи с datetime индексом) и таблицы cards.\n",
        "* Если будет переполнение памяти, попробуйте взять не все значения таблицы, а, например, первые 100 с помощью соответствующего метода iloc."
      ]
    },
    {
      "cell_type": "markdown",
      "metadata": {
        "id": "cNRL1aFH7fS-"
      },
      "source": [
        "**Решение:**"
      ]
    },
    {
      "cell_type": "code",
      "metadata": {
        "id": "M-pHfhMJ7vaj"
      },
      "source": [
        "cards = pd.read_csv('/content/drive/My Drive/БД/card_data.csv', encoding = 'cp1250')\n",
        "cards = cards[:1000:50]"
      ],
      "execution_count": null,
      "outputs": []
    },
    {
      "cell_type": "code",
      "source": [
        "data = pd.read_csv('/content/drive/My Drive/БД/data.csv', encoding = 'cp1250')\n",
        "data.index = pd.to_datetime(data.InvoiceDate)\n",
        "data.drop('InvoiceDate', axis=1, inplace=True)\n",
        "data = data[:1000:50]"
      ],
      "metadata": {
        "id": "R-0aZx6DVWjD"
      },
      "execution_count": null,
      "outputs": []
    },
    {
      "cell_type": "code",
      "source": [
        "df_merge = data.merge(cards, how ='left', on = 'CustomerID')\n",
        "df_merge.head(20)"
      ],
      "metadata": {
        "colab": {
          "base_uri": "https://localhost:8080/",
          "height": 676
        },
        "id": "ZOSAjdU7UhEi",
        "outputId": "8e527b71-6b4a-4771-f17f-961da2707804"
      },
      "execution_count": null,
      "outputs": [
        {
          "output_type": "execute_result",
          "data": {
            "text/plain": [
              "   InvoiceNo StockCode                          Description  Quantity  \\\n",
              "0     536365    85123A   WHITE HANGING HEART T-LIGHT HOLDER         6   \n",
              "1     536365    85123A   WHITE HANGING HEART T-LIGHT HOLDER         6   \n",
              "2     536373     71053                  WHITE METAL LANTERN         6   \n",
              "3     536373     71053                  WHITE METAL LANTERN         6   \n",
              "4     536378    84519A      TOMATO CHARLIE+LOLA COASTER SET         6   \n",
              "5     536382     22926       IVORY GIANT GARDEN THERMOMETER        12   \n",
              "6     536389    35004C      SET OF 3 COLOURED  FLYING DUCKS         6   \n",
              "7     536392     84879        ASSORTED COLOUR BIRD ORNAMENT        16   \n",
              "8     536398     22468         BABUSHKA LIGHTS STRING OF 10         4   \n",
              "9     536401     22810            SET OF 6 T-LIGHTS SNOWMEN         1   \n",
              "10    536404     21061               PARTY INVITES FOOTBALL        12   \n",
              "11    536408    84970L     SINGLE HEART ZINC T-LIGHT HOLDER        12   \n",
              "12    536409    72802C    VANILLA SCENT CANDLE JEWELLED BOX         1   \n",
              "13    536412     22629                  SPACEBOY LUNCH BOX          1   \n",
              "14    536412     22629                  SPACEBOY LUNCH BOX          1   \n",
              "15    536412     22569          FELTCRAFT CUSHION BUTTERFLY         2   \n",
              "16    536412     22569          FELTCRAFT CUSHION BUTTERFLY         2   \n",
              "17    536415     22775  PURPLE DRAWERKNOB ACRYLIC EDWARDIAN         1   \n",
              "18    536420     22115                METAL SIGN EMPIRE TEA         6   \n",
              "19    536446     21890    S/6 WOODEN SKITTLES IN COTTON BAG         2   \n",
              "\n",
              "    UnitPrice  CustomerID         Country  TransactionNum  \n",
              "0        2.55     17850.0  United Kingdom             127  \n",
              "1        2.55     17850.0  United Kingdom             416  \n",
              "2        3.39     17850.0  United Kingdom             127  \n",
              "3        3.39     17850.0  United Kingdom             416  \n",
              "4        2.95     14688.0  United Kingdom             248  \n",
              "5        5.95     16098.0  United Kingdom              30  \n",
              "6        5.45     12431.0       Australia             241  \n",
              "7        1.69     13705.0  United Kingdom             135  \n",
              "8        6.75     13448.0  United Kingdom             356  \n",
              "9        2.95     15862.0  United Kingdom             425  \n",
              "10       0.85     16218.0  United Kingdom             212  \n",
              "11       0.95     14307.0  United Kingdom             361  \n",
              "12       4.25     17908.0  United Kingdom             402  \n",
              "13       1.95     17920.0  United Kingdom             271  \n",
              "14       1.95     17920.0  United Kingdom             348  \n",
              "15       3.75     17920.0  United Kingdom             271  \n",
              "16       3.75     17920.0  United Kingdom             348  \n",
              "17       1.25     12838.0  United Kingdom             415  \n",
              "18       2.95     16583.0  United Kingdom              29  \n",
              "19       2.95     15983.0  United Kingdom             124  "
            ],
            "text/html": [
              "\n",
              "  <div id=\"df-8e509bec-492b-4a17-bd85-b999e72c6e81\">\n",
              "    <div class=\"colab-df-container\">\n",
              "      <div>\n",
              "<style scoped>\n",
              "    .dataframe tbody tr th:only-of-type {\n",
              "        vertical-align: middle;\n",
              "    }\n",
              "\n",
              "    .dataframe tbody tr th {\n",
              "        vertical-align: top;\n",
              "    }\n",
              "\n",
              "    .dataframe thead th {\n",
              "        text-align: right;\n",
              "    }\n",
              "</style>\n",
              "<table border=\"1\" class=\"dataframe\">\n",
              "  <thead>\n",
              "    <tr style=\"text-align: right;\">\n",
              "      <th></th>\n",
              "      <th>InvoiceNo</th>\n",
              "      <th>StockCode</th>\n",
              "      <th>Description</th>\n",
              "      <th>Quantity</th>\n",
              "      <th>UnitPrice</th>\n",
              "      <th>CustomerID</th>\n",
              "      <th>Country</th>\n",
              "      <th>TransactionNum</th>\n",
              "    </tr>\n",
              "  </thead>\n",
              "  <tbody>\n",
              "    <tr>\n",
              "      <th>0</th>\n",
              "      <td>536365</td>\n",
              "      <td>85123A</td>\n",
              "      <td>WHITE HANGING HEART T-LIGHT HOLDER</td>\n",
              "      <td>6</td>\n",
              "      <td>2.55</td>\n",
              "      <td>17850.0</td>\n",
              "      <td>United Kingdom</td>\n",
              "      <td>127</td>\n",
              "    </tr>\n",
              "    <tr>\n",
              "      <th>1</th>\n",
              "      <td>536365</td>\n",
              "      <td>85123A</td>\n",
              "      <td>WHITE HANGING HEART T-LIGHT HOLDER</td>\n",
              "      <td>6</td>\n",
              "      <td>2.55</td>\n",
              "      <td>17850.0</td>\n",
              "      <td>United Kingdom</td>\n",
              "      <td>416</td>\n",
              "    </tr>\n",
              "    <tr>\n",
              "      <th>2</th>\n",
              "      <td>536373</td>\n",
              "      <td>71053</td>\n",
              "      <td>WHITE METAL LANTERN</td>\n",
              "      <td>6</td>\n",
              "      <td>3.39</td>\n",
              "      <td>17850.0</td>\n",
              "      <td>United Kingdom</td>\n",
              "      <td>127</td>\n",
              "    </tr>\n",
              "    <tr>\n",
              "      <th>3</th>\n",
              "      <td>536373</td>\n",
              "      <td>71053</td>\n",
              "      <td>WHITE METAL LANTERN</td>\n",
              "      <td>6</td>\n",
              "      <td>3.39</td>\n",
              "      <td>17850.0</td>\n",
              "      <td>United Kingdom</td>\n",
              "      <td>416</td>\n",
              "    </tr>\n",
              "    <tr>\n",
              "      <th>4</th>\n",
              "      <td>536378</td>\n",
              "      <td>84519A</td>\n",
              "      <td>TOMATO CHARLIE+LOLA COASTER SET</td>\n",
              "      <td>6</td>\n",
              "      <td>2.95</td>\n",
              "      <td>14688.0</td>\n",
              "      <td>United Kingdom</td>\n",
              "      <td>248</td>\n",
              "    </tr>\n",
              "    <tr>\n",
              "      <th>5</th>\n",
              "      <td>536382</td>\n",
              "      <td>22926</td>\n",
              "      <td>IVORY GIANT GARDEN THERMOMETER</td>\n",
              "      <td>12</td>\n",
              "      <td>5.95</td>\n",
              "      <td>16098.0</td>\n",
              "      <td>United Kingdom</td>\n",
              "      <td>30</td>\n",
              "    </tr>\n",
              "    <tr>\n",
              "      <th>6</th>\n",
              "      <td>536389</td>\n",
              "      <td>35004C</td>\n",
              "      <td>SET OF 3 COLOURED  FLYING DUCKS</td>\n",
              "      <td>6</td>\n",
              "      <td>5.45</td>\n",
              "      <td>12431.0</td>\n",
              "      <td>Australia</td>\n",
              "      <td>241</td>\n",
              "    </tr>\n",
              "    <tr>\n",
              "      <th>7</th>\n",
              "      <td>536392</td>\n",
              "      <td>84879</td>\n",
              "      <td>ASSORTED COLOUR BIRD ORNAMENT</td>\n",
              "      <td>16</td>\n",
              "      <td>1.69</td>\n",
              "      <td>13705.0</td>\n",
              "      <td>United Kingdom</td>\n",
              "      <td>135</td>\n",
              "    </tr>\n",
              "    <tr>\n",
              "      <th>8</th>\n",
              "      <td>536398</td>\n",
              "      <td>22468</td>\n",
              "      <td>BABUSHKA LIGHTS STRING OF 10</td>\n",
              "      <td>4</td>\n",
              "      <td>6.75</td>\n",
              "      <td>13448.0</td>\n",
              "      <td>United Kingdom</td>\n",
              "      <td>356</td>\n",
              "    </tr>\n",
              "    <tr>\n",
              "      <th>9</th>\n",
              "      <td>536401</td>\n",
              "      <td>22810</td>\n",
              "      <td>SET OF 6 T-LIGHTS SNOWMEN</td>\n",
              "      <td>1</td>\n",
              "      <td>2.95</td>\n",
              "      <td>15862.0</td>\n",
              "      <td>United Kingdom</td>\n",
              "      <td>425</td>\n",
              "    </tr>\n",
              "    <tr>\n",
              "      <th>10</th>\n",
              "      <td>536404</td>\n",
              "      <td>21061</td>\n",
              "      <td>PARTY INVITES FOOTBALL</td>\n",
              "      <td>12</td>\n",
              "      <td>0.85</td>\n",
              "      <td>16218.0</td>\n",
              "      <td>United Kingdom</td>\n",
              "      <td>212</td>\n",
              "    </tr>\n",
              "    <tr>\n",
              "      <th>11</th>\n",
              "      <td>536408</td>\n",
              "      <td>84970L</td>\n",
              "      <td>SINGLE HEART ZINC T-LIGHT HOLDER</td>\n",
              "      <td>12</td>\n",
              "      <td>0.95</td>\n",
              "      <td>14307.0</td>\n",
              "      <td>United Kingdom</td>\n",
              "      <td>361</td>\n",
              "    </tr>\n",
              "    <tr>\n",
              "      <th>12</th>\n",
              "      <td>536409</td>\n",
              "      <td>72802C</td>\n",
              "      <td>VANILLA SCENT CANDLE JEWELLED BOX</td>\n",
              "      <td>1</td>\n",
              "      <td>4.25</td>\n",
              "      <td>17908.0</td>\n",
              "      <td>United Kingdom</td>\n",
              "      <td>402</td>\n",
              "    </tr>\n",
              "    <tr>\n",
              "      <th>13</th>\n",
              "      <td>536412</td>\n",
              "      <td>22629</td>\n",
              "      <td>SPACEBOY LUNCH BOX</td>\n",
              "      <td>1</td>\n",
              "      <td>1.95</td>\n",
              "      <td>17920.0</td>\n",
              "      <td>United Kingdom</td>\n",
              "      <td>271</td>\n",
              "    </tr>\n",
              "    <tr>\n",
              "      <th>14</th>\n",
              "      <td>536412</td>\n",
              "      <td>22629</td>\n",
              "      <td>SPACEBOY LUNCH BOX</td>\n",
              "      <td>1</td>\n",
              "      <td>1.95</td>\n",
              "      <td>17920.0</td>\n",
              "      <td>United Kingdom</td>\n",
              "      <td>348</td>\n",
              "    </tr>\n",
              "    <tr>\n",
              "      <th>15</th>\n",
              "      <td>536412</td>\n",
              "      <td>22569</td>\n",
              "      <td>FELTCRAFT CUSHION BUTTERFLY</td>\n",
              "      <td>2</td>\n",
              "      <td>3.75</td>\n",
              "      <td>17920.0</td>\n",
              "      <td>United Kingdom</td>\n",
              "      <td>271</td>\n",
              "    </tr>\n",
              "    <tr>\n",
              "      <th>16</th>\n",
              "      <td>536412</td>\n",
              "      <td>22569</td>\n",
              "      <td>FELTCRAFT CUSHION BUTTERFLY</td>\n",
              "      <td>2</td>\n",
              "      <td>3.75</td>\n",
              "      <td>17920.0</td>\n",
              "      <td>United Kingdom</td>\n",
              "      <td>348</td>\n",
              "    </tr>\n",
              "    <tr>\n",
              "      <th>17</th>\n",
              "      <td>536415</td>\n",
              "      <td>22775</td>\n",
              "      <td>PURPLE DRAWERKNOB ACRYLIC EDWARDIAN</td>\n",
              "      <td>1</td>\n",
              "      <td>1.25</td>\n",
              "      <td>12838.0</td>\n",
              "      <td>United Kingdom</td>\n",
              "      <td>415</td>\n",
              "    </tr>\n",
              "    <tr>\n",
              "      <th>18</th>\n",
              "      <td>536420</td>\n",
              "      <td>22115</td>\n",
              "      <td>METAL SIGN EMPIRE TEA</td>\n",
              "      <td>6</td>\n",
              "      <td>2.95</td>\n",
              "      <td>16583.0</td>\n",
              "      <td>United Kingdom</td>\n",
              "      <td>29</td>\n",
              "    </tr>\n",
              "    <tr>\n",
              "      <th>19</th>\n",
              "      <td>536446</td>\n",
              "      <td>21890</td>\n",
              "      <td>S/6 WOODEN SKITTLES IN COTTON BAG</td>\n",
              "      <td>2</td>\n",
              "      <td>2.95</td>\n",
              "      <td>15983.0</td>\n",
              "      <td>United Kingdom</td>\n",
              "      <td>124</td>\n",
              "    </tr>\n",
              "  </tbody>\n",
              "</table>\n",
              "</div>\n",
              "      <button class=\"colab-df-convert\" onclick=\"convertToInteractive('df-8e509bec-492b-4a17-bd85-b999e72c6e81')\"\n",
              "              title=\"Convert this dataframe to an interactive table.\"\n",
              "              style=\"display:none;\">\n",
              "        \n",
              "  <svg xmlns=\"http://www.w3.org/2000/svg\" height=\"24px\"viewBox=\"0 0 24 24\"\n",
              "       width=\"24px\">\n",
              "    <path d=\"M0 0h24v24H0V0z\" fill=\"none\"/>\n",
              "    <path d=\"M18.56 5.44l.94 2.06.94-2.06 2.06-.94-2.06-.94-.94-2.06-.94 2.06-2.06.94zm-11 1L8.5 8.5l.94-2.06 2.06-.94-2.06-.94L8.5 2.5l-.94 2.06-2.06.94zm10 10l.94 2.06.94-2.06 2.06-.94-2.06-.94-.94-2.06-.94 2.06-2.06.94z\"/><path d=\"M17.41 7.96l-1.37-1.37c-.4-.4-.92-.59-1.43-.59-.52 0-1.04.2-1.43.59L10.3 9.45l-7.72 7.72c-.78.78-.78 2.05 0 2.83L4 21.41c.39.39.9.59 1.41.59.51 0 1.02-.2 1.41-.59l7.78-7.78 2.81-2.81c.8-.78.8-2.07 0-2.86zM5.41 20L4 18.59l7.72-7.72 1.47 1.35L5.41 20z\"/>\n",
              "  </svg>\n",
              "      </button>\n",
              "      \n",
              "  <style>\n",
              "    .colab-df-container {\n",
              "      display:flex;\n",
              "      flex-wrap:wrap;\n",
              "      gap: 12px;\n",
              "    }\n",
              "\n",
              "    .colab-df-convert {\n",
              "      background-color: #E8F0FE;\n",
              "      border: none;\n",
              "      border-radius: 50%;\n",
              "      cursor: pointer;\n",
              "      display: none;\n",
              "      fill: #1967D2;\n",
              "      height: 32px;\n",
              "      padding: 0 0 0 0;\n",
              "      width: 32px;\n",
              "    }\n",
              "\n",
              "    .colab-df-convert:hover {\n",
              "      background-color: #E2EBFA;\n",
              "      box-shadow: 0px 1px 2px rgba(60, 64, 67, 0.3), 0px 1px 3px 1px rgba(60, 64, 67, 0.15);\n",
              "      fill: #174EA6;\n",
              "    }\n",
              "\n",
              "    [theme=dark] .colab-df-convert {\n",
              "      background-color: #3B4455;\n",
              "      fill: #D2E3FC;\n",
              "    }\n",
              "\n",
              "    [theme=dark] .colab-df-convert:hover {\n",
              "      background-color: #434B5C;\n",
              "      box-shadow: 0px 1px 3px 1px rgba(0, 0, 0, 0.15);\n",
              "      filter: drop-shadow(0px 1px 2px rgba(0, 0, 0, 0.3));\n",
              "      fill: #FFFFFF;\n",
              "    }\n",
              "  </style>\n",
              "\n",
              "      <script>\n",
              "        const buttonEl =\n",
              "          document.querySelector('#df-8e509bec-492b-4a17-bd85-b999e72c6e81 button.colab-df-convert');\n",
              "        buttonEl.style.display =\n",
              "          google.colab.kernel.accessAllowed ? 'block' : 'none';\n",
              "\n",
              "        async function convertToInteractive(key) {\n",
              "          const element = document.querySelector('#df-8e509bec-492b-4a17-bd85-b999e72c6e81');\n",
              "          const dataTable =\n",
              "            await google.colab.kernel.invokeFunction('convertToInteractive',\n",
              "                                                     [key], {});\n",
              "          if (!dataTable) return;\n",
              "\n",
              "          const docLinkHtml = 'Like what you see? Visit the ' +\n",
              "            '<a target=\"_blank\" href=https://colab.research.google.com/notebooks/data_table.ipynb>data table notebook</a>'\n",
              "            + ' to learn more about interactive tables.';\n",
              "          element.innerHTML = '';\n",
              "          dataTable['output_type'] = 'display_data';\n",
              "          await google.colab.output.renderOutput(dataTable, element);\n",
              "          const docLink = document.createElement('div');\n",
              "          docLink.innerHTML = docLinkHtml;\n",
              "          element.appendChild(docLink);\n",
              "        }\n",
              "      </script>\n",
              "    </div>\n",
              "  </div>\n",
              "  "
            ]
          },
          "metadata": {},
          "execution_count": 13
        }
      ]
    },
    {
      "cell_type": "markdown",
      "metadata": {
        "id": "R_jqkxQm5Nrk"
      },
      "source": [
        "### Задача 5\n",
        "\n"
      ]
    },
    {
      "cell_type": "markdown",
      "metadata": {
        "id": "sriqito34pbh"
      },
      "source": [
        "Выведите квантили 0.4 и 0.6 по численным данным новой таблицы там, где это имеет смысл."
      ]
    },
    {
      "cell_type": "markdown",
      "metadata": {
        "id": "g3c0_pOQ7gIE"
      },
      "source": [
        "**Решение:**"
      ]
    },
    {
      "cell_type": "code",
      "metadata": {
        "id": "UFbVrfFx7t8h",
        "colab": {
          "base_uri": "https://localhost:8080/",
          "height": 112
        },
        "outputId": "050c50e6-a80d-4bda-b14a-e03a68f7970e"
      },
      "source": [
        "df_merge[['Quantity', 'UnitPrice', 'CustomerID', 'TransactionNum']].quantile([0.4, 0.6])"
      ],
      "execution_count": null,
      "outputs": [
        {
          "output_type": "execute_result",
          "data": {
            "text/plain": [
              "     Quantity  UnitPrice  CustomerID  TransactionNum\n",
              "0.4       2.0       1.95     16218.0           271.0\n",
              "0.6       6.0       2.95     17850.0           361.0"
            ],
            "text/html": [
              "\n",
              "  <div id=\"df-f097c65f-37a4-459f-b217-c29372de7aa8\">\n",
              "    <div class=\"colab-df-container\">\n",
              "      <div>\n",
              "<style scoped>\n",
              "    .dataframe tbody tr th:only-of-type {\n",
              "        vertical-align: middle;\n",
              "    }\n",
              "\n",
              "    .dataframe tbody tr th {\n",
              "        vertical-align: top;\n",
              "    }\n",
              "\n",
              "    .dataframe thead th {\n",
              "        text-align: right;\n",
              "    }\n",
              "</style>\n",
              "<table border=\"1\" class=\"dataframe\">\n",
              "  <thead>\n",
              "    <tr style=\"text-align: right;\">\n",
              "      <th></th>\n",
              "      <th>Quantity</th>\n",
              "      <th>UnitPrice</th>\n",
              "      <th>CustomerID</th>\n",
              "      <th>TransactionNum</th>\n",
              "    </tr>\n",
              "  </thead>\n",
              "  <tbody>\n",
              "    <tr>\n",
              "      <th>0.4</th>\n",
              "      <td>2.0</td>\n",
              "      <td>1.95</td>\n",
              "      <td>16218.0</td>\n",
              "      <td>271.0</td>\n",
              "    </tr>\n",
              "    <tr>\n",
              "      <th>0.6</th>\n",
              "      <td>6.0</td>\n",
              "      <td>2.95</td>\n",
              "      <td>17850.0</td>\n",
              "      <td>361.0</td>\n",
              "    </tr>\n",
              "  </tbody>\n",
              "</table>\n",
              "</div>\n",
              "      <button class=\"colab-df-convert\" onclick=\"convertToInteractive('df-f097c65f-37a4-459f-b217-c29372de7aa8')\"\n",
              "              title=\"Convert this dataframe to an interactive table.\"\n",
              "              style=\"display:none;\">\n",
              "        \n",
              "  <svg xmlns=\"http://www.w3.org/2000/svg\" height=\"24px\"viewBox=\"0 0 24 24\"\n",
              "       width=\"24px\">\n",
              "    <path d=\"M0 0h24v24H0V0z\" fill=\"none\"/>\n",
              "    <path d=\"M18.56 5.44l.94 2.06.94-2.06 2.06-.94-2.06-.94-.94-2.06-.94 2.06-2.06.94zm-11 1L8.5 8.5l.94-2.06 2.06-.94-2.06-.94L8.5 2.5l-.94 2.06-2.06.94zm10 10l.94 2.06.94-2.06 2.06-.94-2.06-.94-.94-2.06-.94 2.06-2.06.94z\"/><path d=\"M17.41 7.96l-1.37-1.37c-.4-.4-.92-.59-1.43-.59-.52 0-1.04.2-1.43.59L10.3 9.45l-7.72 7.72c-.78.78-.78 2.05 0 2.83L4 21.41c.39.39.9.59 1.41.59.51 0 1.02-.2 1.41-.59l7.78-7.78 2.81-2.81c.8-.78.8-2.07 0-2.86zM5.41 20L4 18.59l7.72-7.72 1.47 1.35L5.41 20z\"/>\n",
              "  </svg>\n",
              "      </button>\n",
              "      \n",
              "  <style>\n",
              "    .colab-df-container {\n",
              "      display:flex;\n",
              "      flex-wrap:wrap;\n",
              "      gap: 12px;\n",
              "    }\n",
              "\n",
              "    .colab-df-convert {\n",
              "      background-color: #E8F0FE;\n",
              "      border: none;\n",
              "      border-radius: 50%;\n",
              "      cursor: pointer;\n",
              "      display: none;\n",
              "      fill: #1967D2;\n",
              "      height: 32px;\n",
              "      padding: 0 0 0 0;\n",
              "      width: 32px;\n",
              "    }\n",
              "\n",
              "    .colab-df-convert:hover {\n",
              "      background-color: #E2EBFA;\n",
              "      box-shadow: 0px 1px 2px rgba(60, 64, 67, 0.3), 0px 1px 3px 1px rgba(60, 64, 67, 0.15);\n",
              "      fill: #174EA6;\n",
              "    }\n",
              "\n",
              "    [theme=dark] .colab-df-convert {\n",
              "      background-color: #3B4455;\n",
              "      fill: #D2E3FC;\n",
              "    }\n",
              "\n",
              "    [theme=dark] .colab-df-convert:hover {\n",
              "      background-color: #434B5C;\n",
              "      box-shadow: 0px 1px 3px 1px rgba(0, 0, 0, 0.15);\n",
              "      filter: drop-shadow(0px 1px 2px rgba(0, 0, 0, 0.3));\n",
              "      fill: #FFFFFF;\n",
              "    }\n",
              "  </style>\n",
              "\n",
              "      <script>\n",
              "        const buttonEl =\n",
              "          document.querySelector('#df-f097c65f-37a4-459f-b217-c29372de7aa8 button.colab-df-convert');\n",
              "        buttonEl.style.display =\n",
              "          google.colab.kernel.accessAllowed ? 'block' : 'none';\n",
              "\n",
              "        async function convertToInteractive(key) {\n",
              "          const element = document.querySelector('#df-f097c65f-37a4-459f-b217-c29372de7aa8');\n",
              "          const dataTable =\n",
              "            await google.colab.kernel.invokeFunction('convertToInteractive',\n",
              "                                                     [key], {});\n",
              "          if (!dataTable) return;\n",
              "\n",
              "          const docLinkHtml = 'Like what you see? Visit the ' +\n",
              "            '<a target=\"_blank\" href=https://colab.research.google.com/notebooks/data_table.ipynb>data table notebook</a>'\n",
              "            + ' to learn more about interactive tables.';\n",
              "          element.innerHTML = '';\n",
              "          dataTable['output_type'] = 'display_data';\n",
              "          await google.colab.output.renderOutput(dataTable, element);\n",
              "          const docLink = document.createElement('div');\n",
              "          docLink.innerHTML = docLinkHtml;\n",
              "          element.appendChild(docLink);\n",
              "        }\n",
              "      </script>\n",
              "    </div>\n",
              "  </div>\n",
              "  "
            ]
          },
          "metadata": {},
          "execution_count": 14
        }
      ]
    }
  ]
}