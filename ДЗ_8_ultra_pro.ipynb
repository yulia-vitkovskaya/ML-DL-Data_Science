{
  "nbformat": 4,
  "nbformat_minor": 0,
  "metadata": {
    "colab": {
      "provenance": []
    },
    "kernelspec": {
      "name": "python3",
      "display_name": "Python 3"
    }
  },
  "cells": [
    {
      "cell_type": "code",
      "metadata": {
        "id": "ft_aZI3JcEkv"
      },
      "source": [
        "def P(n): #(факторил)\n",
        "  f =1\n",
        "  for x in range(2,n+1):\n",
        "    f*=x\n",
        "  return f\n",
        "\n",
        "# Сочетание\n",
        "def C_n_m(n,m):\n",
        "  return P(n)/ (P(n-m)* P(m))\n",
        "\n",
        "# Размещение\n",
        "def A_(n,m):\n",
        "  return C_n_m(n,m) * P(m)\n",
        "\n",
        "# Перестановка с повторением\n",
        "def P_rep(n,m):\n",
        "  add = 1\n",
        "  for x in m:\n",
        "    add*=P(x)\n",
        "  return P(n)/ add\n",
        "\n",
        "# Сочетание с повторением\n",
        "def C_n_m_rep(n,m):\n",
        "  return P(n+m-1)/ (P(n-1)* P(m))\n",
        "\n",
        "# Размещение с повторением\n",
        "def A_rep(n,m):\n",
        "  return n**m\n",
        "\n",
        "\n"
      ],
      "execution_count": null,
      "outputs": []
    },
    {
      "cell_type": "markdown",
      "metadata": {
        "id": "k4-R0Bi7a7q7"
      },
      "source": [
        "#Комбинаторика"
      ]
    },
    {
      "cell_type": "markdown",
      "metadata": {
        "id": "9U674MWTyE5u"
      },
      "source": [
        "###Задача 1\n",
        "\n",
        "Юноша занимается спортом по следующей программе:\n",
        " 3 дня в неделю - легкая атлетика.\n",
        " 2 дня - силовые тренировки.\n",
        " 1 день - плавание.\n",
        " 1 день - отдых.\n",
        "\n",
        "* Сколькими способами он может составить себе расписание занятий на неделю?\n",
        "* Сколькими способами он может составить себе расписание занятий на неделю, если нужно 2 дня на плавание, а не 1?"
      ]
    },
    {
      "cell_type": "code",
      "metadata": {
        "id": "VFiFsQBwyfVa",
        "colab": {
          "base_uri": "https://localhost:8080/"
        },
        "outputId": "6958daf7-0f0d-4383-c32e-f8daddeed1ec"
      },
      "source": [
        "print(f'1) {P_rep(7, [3, 2, 1, 1])}')"
      ],
      "execution_count": null,
      "outputs": [
        {
          "output_type": "stream",
          "name": "stdout",
          "text": [
            "1) 420.0\n"
          ]
        }
      ]
    },
    {
      "cell_type": "code",
      "source": [
        "print('0, поскольку 8 дней занятий нельзя разместить в неделю')"
      ],
      "metadata": {
        "id": "tzJbfzzNQpVU",
        "outputId": "f5a096c5-bcd8-404a-a4c2-2e1eb31793c7",
        "colab": {
          "base_uri": "https://localhost:8080/"
        }
      },
      "execution_count": null,
      "outputs": [
        {
          "output_type": "stream",
          "name": "stdout",
          "text": [
            "0, поскольку 8 дней занятий нельзя разместить в неделю\n"
          ]
        }
      ]
    },
    {
      "cell_type": "markdown",
      "metadata": {
        "id": "gAMyvdaeyFBk"
      },
      "source": [
        "###Задача 2\n",
        "Сколько различных сочетаний можно получить перестановкой букв в следующем словосочетании: НУЖНО ЛЮБИТЬ МАТЕМАТИКУ И КОТИКОВ?"
      ]
    },
    {
      "cell_type": "code",
      "metadata": {
        "id": "frLN-aMCeA7e",
        "colab": {
          "base_uri": "https://localhost:8080/"
        },
        "outputId": "711c6086-ab96-44d9-f7f8-3e70030ede5d"
      },
      "source": [
        "string = 'НУЖНО ЛЮБИТЬ МАТЕМАТИКУ И КОТИКОВ'\n",
        "string = string.replace(' ', '')\n",
        "len = len(string)\n",
        "povt = [2, 2, 3, 4, 4, 2, 2, 3]\n",
        "print(P_rep(len, povt))"
      ],
      "execution_count": null,
      "outputs": [
        {
          "output_type": "stream",
          "name": "stdout",
          "text": [
            "2.6649793817936504e+25\n"
          ]
        }
      ]
    },
    {
      "cell_type": "markdown",
      "metadata": {
        "id": "0q9uVZC5a6KU"
      },
      "source": [
        "#Множества"
      ]
    },
    {
      "cell_type": "markdown",
      "metadata": {
        "id": "G3WaP_OSu8Kw"
      },
      "source": [
        "###Задача 1\n",
        "\n",
        "Доказать, что $ A \\(A\\B) = A\\cap B $."
      ]
    },
    {
      "cell_type": "markdown",
      "source": [
        "1 случай:\n",
        "\n",
        "A = {1, 2, 3}\n",
        "\n",
        "B = {4, 5, 6}\n",
        "\n",
        "A∩B = Ø\n",
        "\n",
        "A\\B = {1, 2, 3}\n",
        "\n",
        "A\\{1, 2, 3} = Ø\n",
        "\n",
        "A∩B = A\\(A\\B) = Ø"
      ],
      "metadata": {
        "id": "kIHhPpMVXbRB"
      }
    },
    {
      "cell_type": "markdown",
      "source": [
        "2 случай:\n",
        "\n",
        "A = {1, 2, 3}\n",
        "\n",
        "B = {4, 5, 3}\n",
        "\n",
        "A∩B = {3}\n",
        "\n",
        "A\\B = {1, 2}\n",
        "\n",
        "A\\{1, 2} = {3}\n",
        "\n",
        "A∩B = A\\(A\\B) = {3}"
      ],
      "metadata": {
        "id": "4P5dvyU3ZgKO"
      }
    },
    {
      "cell_type": "markdown",
      "source": [
        "3 случай:\n",
        "\n",
        "A = {1, 2, 3}\n",
        "\n",
        "B = {1, 2, 3}\n",
        "\n",
        "A∩B = {1, 2, 3}\n",
        "\n",
        "A\\B = Ø\n",
        "\n",
        "A\\Ø = {1, 2, 3}\n",
        "\n",
        "A∩B = A\\(A\\B) = {1, 2, 3}"
      ],
      "metadata": {
        "id": "9TAlRUP0ZqXR"
      }
    },
    {
      "cell_type": "markdown",
      "metadata": {
        "id": "emTEZyOPu8Sg"
      },
      "source": [
        "###Задача 2\n",
        "\n",
        "Доказать, что $ A = (A\\cap B) \\cup (A\\B) $."
      ]
    },
    {
      "cell_type": "markdown",
      "source": [
        "1 случай:\n",
        "\n",
        "A = {1, 2, 3}\n",
        "\n",
        "B = {4, 5, 6}\n",
        "\n",
        "A∩B = Ø\n",
        "\n",
        "A\\B = {1, 2, 3}\n",
        "\n",
        "Ø U {1, 2, 3} = {1, 2, 3}\n",
        "\n",
        "A = (A∩B) ∪ (A\\B) = {1, 2, 3}"
      ],
      "metadata": {
        "id": "EAlE4FdrZ3DV"
      }
    },
    {
      "cell_type": "markdown",
      "source": [
        "2 случай:\n",
        "\n",
        "A = {1, 2, 3}\n",
        "\n",
        "B = {4, 5, 3}\n",
        "\n",
        "A∩B = {3}\n",
        "\n",
        "A\\B = {1, 2}\n",
        "\n",
        "{3} U {1, 2} = {1, 2, 3}\n",
        "\n",
        "A = (A∩B) ∪ (A\\B) = {1, 2, 3}"
      ],
      "metadata": {
        "id": "1EWkkgjBahqx"
      }
    },
    {
      "cell_type": "markdown",
      "source": [
        "3 случай:\n",
        "\n",
        "A = {1, 2, 3}\n",
        "\n",
        "B = {1, 2, 3}\n",
        "\n",
        "A∩B = {1, 2, 3}\n",
        "\n",
        "A\\B = Ø\n",
        "\n",
        "{1, 2, 3} U Ø = {1, 2, 3}\n",
        "\n",
        "A = (A∩B) ∪ (A\\B) = {1, 2, 3}"
      ],
      "metadata": {
        "id": "yLW5Jc0naq48"
      }
    }
  ]
}