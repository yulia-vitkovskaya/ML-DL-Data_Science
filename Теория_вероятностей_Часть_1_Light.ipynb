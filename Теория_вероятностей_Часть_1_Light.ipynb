{
  "nbformat": 4,
  "nbformat_minor": 0,
  "metadata": {
    "colab": {
      "provenance": []
    },
    "kernelspec": {
      "name": "python3",
      "display_name": "Python 3"
    }
  },
  "cells": [
    {
      "cell_type": "markdown",
      "metadata": {
        "id": "yjsHdhgej7VK"
      },
      "source": [
        "Домашнее задание. Теория вероятностей. Часть 1. Light"
      ]
    },
    {
      "cell_type": "markdown",
      "metadata": {
        "id": "FrhCwhJ9j9mj"
      },
      "source": [
        "Задача 1\n",
        "\n",
        "Магазин получил продукцию с четырех оптовых складов: 5 ящиков с первого склада, 4 со второго, 8 с третьего и 6 с четвёртого. Случайным образом выбран ящик для продажи. Какова вероятность того , что это будет ящик со второго или четвёртого склада."
      ]
    },
    {
      "cell_type": "code",
      "metadata": {
        "id": "emhA1vVYpNAt",
        "colab": {
          "base_uri": "https://localhost:8080/"
        },
        "outputId": "c3e409d1-3934-4f82-87c4-261cf00b98c3"
      },
      "source": [
        "print(4/23 + 6/23)"
      ],
      "execution_count": null,
      "outputs": [
        {
          "output_type": "stream",
          "name": "stdout",
          "text": [
            "0.43478260869565216\n"
          ]
        }
      ]
    },
    {
      "cell_type": "markdown",
      "metadata": {
        "id": "s90NqXS1o1Ab"
      },
      "source": [
        "Задача 2\n",
        "\n",
        "В магазин поступило 25 холодильников, четыре из которых имеют заводской дефект. Случайным образом выбирают один холодильник. Какова вероятность того, что он будет без дефекта?"
      ]
    },
    {
      "cell_type": "code",
      "metadata": {
        "id": "zNDKUOpxpNYC",
        "colab": {
          "base_uri": "https://localhost:8080/"
        },
        "outputId": "52ee91bd-3278-4349-c337-6c7ed6fe21a6"
      },
      "source": [
        "print(21/25)"
      ],
      "execution_count": null,
      "outputs": [
        {
          "output_type": "stream",
          "name": "stdout",
          "text": [
            "0.84\n"
          ]
        }
      ]
    },
    {
      "cell_type": "markdown",
      "metadata": {
        "id": "jkvpcOarpN8O"
      },
      "source": [
        "Задача 3\n",
        "\n",
        "Абонент забыл пин-код к своей сим-карте, однако помнит, что он содержит три «двойки», а одна из цифр – то ли «пятёрка», то ли «шестёрка». Какова вероятность успешной авторизации с первой попытки? (Три двойки не обязательно идут подряд)."
      ]
    },
    {
      "cell_type": "code",
      "metadata": {
        "id": "jqPCMYXCpVBG",
        "colab": {
          "base_uri": "https://localhost:8080/"
        },
        "outputId": "b601b8cd-240d-46f4-aac3-6d274bcd325c"
      },
      "source": [
        "pn_1 = ['2225', '2252', '2522', '5222'] #длина 4\n",
        "pn_2 = ['2226', '2262', '2622', '6222'] #длина 4\n",
        "print(1/8)"
      ],
      "execution_count": null,
      "outputs": [
        {
          "output_type": "stream",
          "name": "stdout",
          "text": [
            "0.125\n"
          ]
        }
      ]
    },
    {
      "cell_type": "markdown",
      "metadata": {
        "id": "6KipJ0zrpVYi"
      },
      "source": [
        "Задача 4\n",
        "\n",
        "Найти вероятность того, что при броске двух игральных костей произведение очков\n",
        "\n",
        "* будет равно 8;\n",
        "* окажется не менее 23;\n",
        "* будет нечётным."
      ]
    },
    {
      "cell_type": "code",
      "metadata": {
        "id": "qAFMFRvLphwU",
        "colab": {
          "base_uri": "https://localhost:8080/"
        },
        "outputId": "5ba8fe6e-1155-47c7-a2f2-4ab9d95b1887"
      },
      "source": [
        "#всего исходов 6^2 = 36\n",
        "#удачные случаи для первого пункта: (4,2), (2,4)\n",
        "print(2/36)\n",
        "#удачные случаи для второго пункта: (6,6), (6,5), (5,6), (6,4), (4,6), (5,5)\n",
        "print(6/36)\n",
        "#удачные случаи для третьего пункта, когда в первом случае выпадает нечётное число (1, 3, 5)\n",
        "#и во втором случае выпадает нечётное число (1, 3, 5), в совокупности они дают 3^2 = 9\n",
        "print(9/36)"
      ],
      "execution_count": null,
      "outputs": [
        {
          "output_type": "stream",
          "name": "stdout",
          "text": [
            "0.05555555555555555\n",
            "0.16666666666666666\n",
            "0.25\n"
          ]
        }
      ]
    },
    {
      "cell_type": "markdown",
      "metadata": {
        "id": "BiN1qSBWpiCl"
      },
      "source": [
        "Задача 5\n",
        "\n",
        "В коробке 11 жёлтых и 7 зелёных пуговиц. Наугад извлекаются две пуговицы. Какова вероятность того, что они будут одного цвета?"
      ]
    },
    {
      "cell_type": "code",
      "metadata": {
        "id": "M9uE25i_prdY",
        "colab": {
          "base_uri": "https://localhost:8080/"
        },
        "outputId": "61118a1b-07f9-4604-b621-2c08365875ef"
      },
      "source": [
        "print(11/18 * 10/17 + 7/18 * 6/17)"
      ],
      "execution_count": null,
      "outputs": [
        {
          "output_type": "stream",
          "name": "stdout",
          "text": [
            "0.4967320261437909\n"
          ]
        }
      ]
    }
  ]
}