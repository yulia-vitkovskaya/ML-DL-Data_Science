{
  "nbformat": 4,
  "nbformat_minor": 0,
  "metadata": {
    "colab": {
      "provenance": []
    },
    "kernelspec": {
      "name": "python3",
      "display_name": "Python 3"
    },
    "language_info": {
      "name": "python"
    }
  },
  "cells": [
    {
      "cell_type": "markdown",
      "source": [
        "\n",
        "# Задание"
      ],
      "metadata": {
        "id": "M_4jyiM4YsKj"
      }
    },
    {
      "cell_type": "markdown",
      "source": [
        "Распознайте рукописную цифру, написанную на листе от руки. Последовательность шагов следующая:\n",
        "\n",
        "*   На бумаге рисуем произвольную цифру (желательно нарисовать цифру размером не более 5 * 5 мм и без наклона. В занятии нейронка обучалась на цифрах американских студентов. Эти цифры были написаны на тетрадных листах в клетку и имели схожий размер).\n",
        "*   Фотографируем. Загружаем фото в Collaboratory.\n",
        "*   С помощью функции image.load_img(path, target_size=(28, 28), color_mode = ‘grayscale’) загружаем картинку в переменную.\n",
        "*   С помощью функции image.img_to_array(img) преобразуем изображение в numpy-массив.\n",
        "*   Выполняем инверсию цветов, нормирование и решейп массива.\n",
        "*   Выполняем распознавание собственной рукописной цифры.\n",
        "\n",
        "Примечание: точность распознавания рукописных цифр может быть достаточно низкой, т.к. рукописные цифры после преобразований хоть и похожи на содержащиеся в базе, но могут отличаться по конфигурации, толщине линий и т.д."
      ],
      "metadata": {
        "id": "7YJp222oYpcP"
      }
    },
    {
      "cell_type": "markdown",
      "source": [
        "## **Импорт библиотек**"
      ],
      "metadata": {
        "id": "-zPgOnOMiN82"
      }
    },
    {
      "cell_type": "code",
      "execution_count": null,
      "metadata": {
        "id": "ygHDzDzKh7IW"
      },
      "outputs": [],
      "source": [
        "from tensorflow.keras.datasets import mnist #Библиотека с базой Mnist\n",
        "from tensorflow.keras.models import Sequential # Подлючаем класс создания модели Sequential\n",
        "from tensorflow.keras.layers import Dense # Подключаем класс Dense - полносвязный слой\n",
        "from tensorflow.keras.optimizers import Adam # Подключаем оптимизатор Adam\n",
        "from tensorflow.keras import utils #Утилиты для to_categorical\n",
        "from tensorflow.keras.preprocessing import image #Для отрисовки изображения\n",
        "import numpy as np # Подключаем библиотеку numpy\n",
        "import pylab # Модуль для построения графиков\n",
        "import matplotlib.pyplot as plt #Отрисовка изображений\n",
        "from PIL import Image #Отрисовка изображений\n",
        "#Отрисовывать изображения в ноутбуке, а не в консоль или файл\n",
        "%matplotlib inline"
      ]
    },
    {
      "cell_type": "markdown",
      "source": [
        "## **Загрузка базы MNIST**"
      ],
      "metadata": {
        "id": "tpVcQxPIiZOv"
      }
    },
    {
      "cell_type": "code",
      "source": [
        "(x_train_org, y_train_org), (x_test_org, y_test_org) = mnist.load_data()"
      ],
      "metadata": {
        "colab": {
          "base_uri": "https://localhost:8080/"
        },
        "id": "iC41LYuFikGg",
        "outputId": "ef04ab3f-1e38-4bd5-d2f8-8eb605e409e1"
      },
      "execution_count": null,
      "outputs": [
        {
          "output_type": "stream",
          "name": "stdout",
          "text": [
            "Downloading data from https://storage.googleapis.com/tensorflow/tf-keras-datasets/mnist.npz\n",
            "11490434/11490434 [==============================] - 0s 0us/step\n"
          ]
        }
      ]
    },
    {
      "cell_type": "markdown",
      "source": [
        "## **Нормирование и преобразование x_train и y_train**"
      ],
      "metadata": {
        "id": "vtLwdME_jX1_"
      }
    },
    {
      "cell_type": "code",
      "source": [
        "x_train_org.shape"
      ],
      "metadata": {
        "colab": {
          "base_uri": "https://localhost:8080/"
        },
        "id": "M8InFTnCjae7",
        "outputId": "3c227f70-8b0f-4cc7-eade-8f7de2845625"
      },
      "execution_count": null,
      "outputs": [
        {
          "output_type": "execute_result",
          "data": {
            "text/plain": [
              "(60000, 28, 28)"
            ]
          },
          "metadata": {},
          "execution_count": 5
        }
      ]
    },
    {
      "cell_type": "code",
      "source": [
        "#смена разрешения изображений\n",
        "x_train = x_train_org.reshape(60000, 784)\n",
        "x_test = x_test_org.reshape(10000, 784)\n",
        "print(x_train.shape)\n",
        "print(x_test.shape)"
      ],
      "metadata": {
        "colab": {
          "base_uri": "https://localhost:8080/"
        },
        "id": "Dhik_6IvjqG9",
        "outputId": "84f987d5-666b-4778-83bd-0fdc0fa56537"
      },
      "execution_count": null,
      "outputs": [
        {
          "output_type": "stream",
          "name": "stdout",
          "text": [
            "(60000, 784)\n",
            "(10000, 784)\n"
          ]
        }
      ]
    },
    {
      "cell_type": "code",
      "source": [
        "#нормализация входных картинок\n",
        "x_train = x_train.astype('float32') / 255\n",
        "x_test = x_test.astype('float32') / 255"
      ],
      "metadata": {
        "id": "3EDnYfoUkQSo"
      },
      "execution_count": null,
      "outputs": []
    },
    {
      "cell_type": "code",
      "source": [
        "#Преобразуем в формат one code encoding\n",
        "y_train = utils.to_categorical(y_train_org, 10)\n",
        "y_test = utils.to_categorical(y_test_org, 10)"
      ],
      "metadata": {
        "id": "Ti7hAn_9k_ge"
      },
      "execution_count": null,
      "outputs": []
    },
    {
      "cell_type": "markdown",
      "source": [
        "## **Создание нейронной сети**"
      ],
      "metadata": {
        "id": "0O_9_WAHl1Cz"
      }
    },
    {
      "cell_type": "code",
      "source": [
        "model = Sequential()\n",
        "model.add(Dense(800, input_dim = 784, activation = 'relu'))\n",
        "model.add(Dense(400, activation = 'relu'))\n",
        "model.add(Dense(10, activation = 'softmax'))"
      ],
      "metadata": {
        "id": "9DelLv7flx3v"
      },
      "execution_count": null,
      "outputs": []
    },
    {
      "cell_type": "code",
      "source": [
        "model.compile(optimizer='Adam', loss='categorical_crossentropy')\n",
        "print(model.summary())"
      ],
      "metadata": {
        "colab": {
          "base_uri": "https://localhost:8080/"
        },
        "id": "TQnvTrCAnyOt",
        "outputId": "8e2fa03a-ff89-417f-d8f3-692290d35da3"
      },
      "execution_count": null,
      "outputs": [
        {
          "output_type": "stream",
          "name": "stdout",
          "text": [
            "Model: \"sequential\"\n",
            "_________________________________________________________________\n",
            " Layer (type)                Output Shape              Param #   \n",
            "=================================================================\n",
            " dense (Dense)               (None, 800)               628000    \n",
            "                                                                 \n",
            " dense_1 (Dense)             (None, 400)               320400    \n",
            "                                                                 \n",
            " dense_2 (Dense)             (None, 10)                4010      \n",
            "                                                                 \n",
            "=================================================================\n",
            "Total params: 952,410\n",
            "Trainable params: 952,410\n",
            "Non-trainable params: 0\n",
            "_________________________________________________________________\n",
            "None\n"
          ]
        }
      ]
    },
    {
      "cell_type": "markdown",
      "source": [
        "## **Обучение нейронной сети**"
      ],
      "metadata": {
        "id": "9cFfkNyWoQW8"
      }
    },
    {
      "cell_type": "code",
      "source": [
        "model.fit(x_train, y_train, batch_size = 128, epochs = 16, verbose = 1)"
      ],
      "metadata": {
        "colab": {
          "base_uri": "https://localhost:8080/"
        },
        "id": "_BG-jF3poT7L",
        "outputId": "2aa15048-2e36-49d9-ca35-cdfda9ca340d"
      },
      "execution_count": null,
      "outputs": [
        {
          "output_type": "stream",
          "name": "stdout",
          "text": [
            "Epoch 1/16\n",
            "469/469 [==============================] - 7s 13ms/step - loss: 0.2088\n",
            "Epoch 2/16\n",
            "469/469 [==============================] - 6s 12ms/step - loss: 0.0754\n",
            "Epoch 3/16\n",
            "469/469 [==============================] - 6s 13ms/step - loss: 0.0465\n",
            "Epoch 4/16\n",
            "469/469 [==============================] - 6s 12ms/step - loss: 0.0336\n",
            "Epoch 5/16\n",
            "469/469 [==============================] - 6s 13ms/step - loss: 0.0256\n",
            "Epoch 6/16\n",
            "469/469 [==============================] - 6s 12ms/step - loss: 0.0205\n",
            "Epoch 7/16\n",
            "469/469 [==============================] - 6s 13ms/step - loss: 0.0196\n",
            "Epoch 8/16\n",
            "469/469 [==============================] - 6s 12ms/step - loss: 0.0153\n",
            "Epoch 9/16\n",
            "469/469 [==============================] - 6s 14ms/step - loss: 0.0118\n",
            "Epoch 10/16\n",
            "469/469 [==============================] - 6s 12ms/step - loss: 0.0120\n",
            "Epoch 11/16\n",
            "469/469 [==============================] - 6s 13ms/step - loss: 0.0134\n",
            "Epoch 12/16\n",
            "469/469 [==============================] - 6s 12ms/step - loss: 0.0113\n",
            "Epoch 13/16\n",
            "469/469 [==============================] - 6s 13ms/step - loss: 0.0107\n",
            "Epoch 14/16\n",
            "469/469 [==============================] - 6s 12ms/step - loss: 0.0111\n",
            "Epoch 15/16\n",
            "469/469 [==============================] - 6s 14ms/step - loss: 0.0079\n",
            "Epoch 16/16\n",
            "469/469 [==============================] - 6s 12ms/step - loss: 0.0084\n"
          ]
        },
        {
          "output_type": "execute_result",
          "data": {
            "text/plain": [
              "<keras.callbacks.History at 0x7f3eb0e9fd90>"
            ]
          },
          "metadata": {},
          "execution_count": 11
        }
      ]
    },
    {
      "cell_type": "markdown",
      "source": [
        "## **Добавление картинки**"
      ],
      "metadata": {
        "id": "lXGDOf37w-YY"
      }
    },
    {
      "cell_type": "code",
      "source": [
        "img = image.load_img('seven.jpg', target_size=(28, 28), color_mode = 'grayscale')"
      ],
      "metadata": {
        "id": "WKd9EFpRD6xu"
      },
      "execution_count": null,
      "outputs": []
    },
    {
      "cell_type": "code",
      "source": [
        "img.show()"
      ],
      "metadata": {
        "colab": {
          "base_uri": "https://localhost:8080/",
          "height": 45
        },
        "id": "mOPqkZnQyS73",
        "outputId": "010f682f-3a00-49c7-b0a9-53fb3a1243b7"
      },
      "execution_count": null,
      "outputs": [
        {
          "output_type": "display_data",
          "data": {
            "text/plain": [
              "<PIL.Image.Image image mode=L size=28x28 at 0x7F3F4E9A4A30>"
            ],
            "image/png": "[encoded data removed]"
          },
          "metadata": {}
        }
      ]
    },
    {
      "cell_type": "code",
      "source": [
        "img_arr = image.img_to_array(img)"
      ],
      "metadata": {
        "id": "u-CKbYssxRJn"
      },
      "execution_count": null,
      "outputs": []
    },
    {
      "cell_type": "code",
      "source": [
        "img_arr.shape"
      ],
      "metadata": {
        "colab": {
          "base_uri": "https://localhost:8080/"
        },
        "id": "WI3JQcg3xqWm",
        "outputId": "7f709775-e394-4aec-a65f-b611b8ff2760"
      },
      "execution_count": null,
      "outputs": [
        {
          "output_type": "execute_result",
          "data": {
            "text/plain": [
              "(28, 28, 1)"
            ]
          },
          "metadata": {},
          "execution_count": 26
        }
      ]
    },
    {
      "cell_type": "code",
      "source": [
        "img_test = img_arr.reshape(1, 784)"
      ],
      "metadata": {
        "id": "Giy5FgKYxkEY"
      },
      "execution_count": null,
      "outputs": []
    },
    {
      "cell_type": "code",
      "source": [
        "img_test = img_test.astype('float32') / 255"
      ],
      "metadata": {
        "id": "IVYwYRncxz40"
      },
      "execution_count": null,
      "outputs": []
    },
    {
      "cell_type": "markdown",
      "source": [
        "## **Проверка**"
      ],
      "metadata": {
        "id": "fRkWHxAWyKxC"
      }
    },
    {
      "cell_type": "code",
      "source": [
        "img_test.shape"
      ],
      "metadata": {
        "colab": {
          "base_uri": "https://localhost:8080/"
        },
        "id": "_UPldKTcyN2N",
        "outputId": "df8aba00-e547-4e5d-bfad-a477a0277ca9"
      },
      "execution_count": null,
      "outputs": [
        {
          "output_type": "execute_result",
          "data": {
            "text/plain": [
              "(1, 784)"
            ]
          },
          "metadata": {},
          "execution_count": 30
        }
      ]
    },
    {
      "cell_type": "code",
      "source": [
        "prediction = model.predict(img_test)"
      ],
      "metadata": {
        "colab": {
          "base_uri": "https://localhost:8080/"
        },
        "id": "0-tRpD9PyvO4",
        "outputId": "9b6d026b-6692-4536-ba89-dfcc4027c1d7"
      },
      "execution_count": null,
      "outputs": [
        {
          "output_type": "stream",
          "name": "stdout",
          "text": [
            "1/1 [==============================] - 0s 14ms/step\n"
          ]
        }
      ]
    },
    {
      "cell_type": "code",
      "source": [
        "print(prediction)"
      ],
      "metadata": {
        "colab": {
          "base_uri": "https://localhost:8080/"
        },
        "id": "QEZIuSJGzoeC",
        "outputId": "6e355bff-e18d-4d7a-b1f3-c112d552e031"
      },
      "execution_count": null,
      "outputs": [
        {
          "output_type": "stream",
          "name": "stdout",
          "text": [
            "[[9.9812216e-01 1.2901731e-07 3.4119381e-08 1.0125666e-06 2.8151267e-10\n",
            "  2.9425873e-08 1.0290685e-06 1.8756457e-03 2.5138169e-10 4.2125158e-11]]\n"
          ]
        }
      ]
    },
    {
      "cell_type": "code",
      "source": [
        "ans = np.argmax(prediction)\n",
        "print(ans)"
      ],
      "metadata": {
        "colab": {
          "base_uri": "https://localhost:8080/"
        },
        "id": "Nmu3jfJcy7-w",
        "outputId": "5c6f52e8-78e1-4a62-8d26-db7d036b713b"
      },
      "execution_count": null,
      "outputs": [
        {
          "output_type": "stream",
          "name": "stdout",
          "text": [
            "0\n"
          ]
        }
      ]
    }
  ]
}