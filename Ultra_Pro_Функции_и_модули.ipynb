{
  "nbformat": 4,
  "nbformat_minor": 0,
  "metadata": {
    "colab": {
      "provenance": []
    },
    "kernelspec": {
      "name": "python3",
      "display_name": "Python 3"
    }
  },
  "cells": [
    {
      "cell_type": "markdown",
      "metadata": {
        "id": "NRUICBBzlLh2"
      },
      "source": [
        "# Домашнее задание\n",
        "Функции и модули\n",
        "# Ultra Pro"
      ]
    },
    {
      "cell_type": "markdown",
      "metadata": {
        "id": "j0nWwQpIaPch"
      },
      "source": [
        "**Задача 1**\n",
        "\n",
        "Уже весна, скоро в отпуск. Необходимо написать функцию расчета стоимости вашего путешествия.\n",
        "\n",
        "Определите функцию с названием ```hotel_cost``` и с аргументом \"Количество ночей\" в качестве входных данных. Цена отеля будет 140 у. е. за ночь. Выходит, функция должна вернуть стоимость всех ночей.\n",
        "\n",
        "Определите функцию под названием ```plane_ride_cost```, которая на вход принимает строку \"Город\". Такая функция должна вернуть цену перелета в зависимости от места: если это Крым, то перелет обойдется в 120 у. е.,\n",
        "       если Шри-Ланка - 800 у. е.,\n",
        "       если Каир - 400 у. е.,\n",
        "       если Сочи - 120 у. е.\n",
        "\n",
        "Напишите функцию ```rental_car_cost``` с аргументом \"Количество дней\". Эта функция должна рассчитать стоимость аренды авто, если за сутки вы должны оплачивать саму ренту (40 у. е.) + стоимость услуг страхового агентства (+1% от суммарной стоимости услуг каждый следующий день. Т. е. первый день 1% от стоимости, второй - берется 1% от стоимости предыдущего дня (включая 1% за предыдущий день)  и т. д.(следовательно сумма аренды авто за первый день будет составлять 40 * 1.01,\n",
        "за второй день 40 * 1.01 * 1.01, за третий день 40 * 1.01 * 1.01 * 1.01 и т.д.) Если вы арендуете на 7 и более дней, то скидка - 50 у. е., если от 3 до 6 дней включительно - 20 у. е. Обе скидки получить сразу нельзя.\n",
        "Задача состоит в том, чтобы эти функции (```hotel_cost, plane_ride_cost, rental_car_cost```) были локальными в составе одной глобальной функции trip_cost, которая бы возвращала сумму этих локальных функций."
      ]
    },
    {
      "cell_type": "markdown",
      "metadata": {
        "id": "EaYeDHxcuO_s"
      },
      "source": [
        "**Решение:**"
      ]
    },
    {
      "cell_type": "code",
      "metadata": {
        "id": "pngcgEEkaQbG"
      },
      "source": [
        "def journey_cost(days, town, car_days):\n",
        "\n",
        "  def hotel_cost(days):\n",
        "    return days*140\n",
        "\n",
        "  def plane_ride_cost(town):\n",
        "\n",
        "    if town == 'Крым':\n",
        "      return 120\n",
        "    elif town == 'Шри-Ланка':\n",
        "      return 800\n",
        "    elif town == 'Каир':\n",
        "      return 400\n",
        "    elif town == 'Сочи':\n",
        "      return 120\n",
        "    else:\n",
        "      return 'Ошибка'\n",
        "\n",
        "  def rental_car_cost(car_days):\n",
        "    if car_days >= 7:\n",
        "      discount = 0.5\n",
        "    elif (car_days >= 3 and car_days <= 6):\n",
        "      discount = 0.2\n",
        "    else:\n",
        "      discount = 1\n",
        "\n",
        "    car_rent = 0\n",
        "    for i in range(car_days):\n",
        "      car_rent += 40 * 1.01**(i+1)\n",
        "\n",
        "    if car_rent == 0:\n",
        "      return 0\n",
        "\n",
        "    cost = car_rent - (car_rent * discount)\n",
        "\n",
        "    return cost\n",
        "\n",
        "  return hotel_cost(days) + plane_ride_cost(town) + rental_car_cost(car_days)"
      ],
      "execution_count": null,
      "outputs": []
    },
    {
      "cell_type": "code",
      "source": [
        "print(journey_cost(8, 'Шри-Ланка', 5))\n",
        "print(journey_cost(4, 'Каир', 0))"
      ],
      "metadata": {
        "colab": {
          "base_uri": "https://localhost:8080/"
        },
        "id": "4keG-JciwUy_",
        "outputId": "7a22ca4a-faec-4ef7-a54a-8f918c85532f"
      },
      "execution_count": null,
      "outputs": [
        {
          "output_type": "stream",
          "name": "stdout",
          "text": [
            "2084.8644819232\n",
            "960\n"
          ]
        }
      ]
    },
    {
      "cell_type": "markdown",
      "metadata": {
        "id": "vx8FJjcGrx4b"
      },
      "source": [
        "**Задача 2**\n",
        "\n",
        "Напишите функцию, которая считает факториал заданного числа."
      ]
    },
    {
      "cell_type": "markdown",
      "metadata": {
        "id": "V_qeKIlWuWNw"
      },
      "source": [
        "**Решение:**"
      ]
    },
    {
      "cell_type": "code",
      "metadata": {
        "id": "rwkN-nciXC41"
      },
      "source": [
        "def factorial(num):\n",
        "  if num == 1:\n",
        "    return 1\n",
        "  return num * factorial(num-1)"
      ],
      "execution_count": null,
      "outputs": []
    },
    {
      "cell_type": "code",
      "source": [
        "factorial(7)"
      ],
      "metadata": {
        "colab": {
          "base_uri": "https://localhost:8080/"
        },
        "id": "gt8p8L-2xA_r",
        "outputId": "1916f853-26ba-4f45-9c33-30a4a7152a08"
      },
      "execution_count": null,
      "outputs": [
        {
          "output_type": "execute_result",
          "data": {
            "text/plain": [
              "5040"
            ]
          },
          "metadata": {},
          "execution_count": 8
        }
      ]
    },
    {
      "cell_type": "markdown",
      "metadata": {
        "id": "T8a_TGxGt7Yy"
      },
      "source": [
        "**Задача 3**\n",
        "\n",
        "Напишите **лямбда**-функцию, которая считает полную площадь конуса:\n",
        "S = πR(l + R)."
      ]
    },
    {
      "cell_type": "markdown",
      "metadata": {
        "id": "cSrfBueQuYJi"
      },
      "source": [
        "**Решение:**"
      ]
    },
    {
      "cell_type": "code",
      "metadata": {
        "id": "c2M4DJJxtsTT"
      },
      "source": [
        "from math import pi\n",
        "\n",
        "ploshad = lambda l, r: pi*r*(l+r)"
      ],
      "execution_count": null,
      "outputs": []
    },
    {
      "cell_type": "code",
      "source": [
        "ploshad(6, 6)"
      ],
      "metadata": {
        "colab": {
          "base_uri": "https://localhost:8080/"
        },
        "id": "IWR70Z8Xx49p",
        "outputId": "aae51b62-1b09-49bb-8c0a-21c1017cc0c3"
      },
      "execution_count": null,
      "outputs": [
        {
          "output_type": "execute_result",
          "data": {
            "text/plain": [
              "226.1946710584651"
            ]
          },
          "metadata": {},
          "execution_count": 10
        }
      ]
    },
    {
      "cell_type": "markdown",
      "metadata": {
        "id": "6fXQoIiVysbl"
      },
      "source": [
        "**Задача 4**\n",
        "\n",
        "Напишите 2 локальные функции, которые будут переводить рубли в доллары и рубли в евро, внутри глобальной функции, которая будет принимать на вход число (рубли) и выводить конвертированные валюты(доллары и евро)."
      ]
    },
    {
      "cell_type": "markdown",
      "metadata": {
        "id": "N78DnlmDuchl"
      },
      "source": [
        "**Решение:**"
      ]
    },
    {
      "cell_type": "code",
      "metadata": {
        "id": "N7uDMsRoxCvC"
      },
      "source": [
        "def rub_exchange(rub):\n",
        "\n",
        "  def rub2dol(rub):\n",
        "    return round(rub/81.74, 2)\n",
        "\n",
        "  def rub2eur(rub):\n",
        "    return round(rub/89.17, 2)\n",
        "\n",
        "  print('Доллар: ', rub2dol(rub))\n",
        "  print('Доллар: ', rub2eur(rub))"
      ],
      "execution_count": null,
      "outputs": []
    },
    {
      "cell_type": "code",
      "source": [
        "rub_exchange(100)"
      ],
      "metadata": {
        "colab": {
          "base_uri": "https://localhost:8080/"
        },
        "id": "xwM27sEoz0CY",
        "outputId": "e7be19c8-b46d-46c2-de2c-4af39d83dfe5"
      },
      "execution_count": null,
      "outputs": [
        {
          "output_type": "stream",
          "name": "stdout",
          "text": [
            "Доллар:  1.22\n",
            "Доллар:  1.12\n"
          ]
        }
      ]
    },
    {
      "cell_type": "markdown",
      "metadata": {
        "id": "TtWCCVfN6nCc"
      },
      "source": [
        "**Задача 5**\n",
        "\n",
        "Напишите функцию-генератор, которая будет выводить числа Фибоначчи."
      ]
    },
    {
      "cell_type": "markdown",
      "metadata": {
        "id": "zcFv7fKOuefN"
      },
      "source": [
        "**Решение:**"
      ]
    },
    {
      "cell_type": "code",
      "source": [
        "def fibonacci():\n",
        "  a=0\n",
        "  b=1\n",
        "  while True:\n",
        "    yield a\n",
        "    a,b= b,a+b\n",
        "\n",
        "fib = fibonacci()\n"
      ],
      "metadata": {
        "id": "VcVQ1n5J1E5v"
      },
      "execution_count": null,
      "outputs": []
    },
    {
      "cell_type": "code",
      "source": [
        "print(', '.join(str(next(fib)) for _ in range(10)))"
      ],
      "metadata": {
        "colab": {
          "base_uri": "https://localhost:8080/"
        },
        "id": "scMZ0gBS1LIR",
        "outputId": "1fe2f322-b30e-4784-98c5-eb57f69bdb37"
      },
      "execution_count": null,
      "outputs": [
        {
          "output_type": "stream",
          "name": "stdout",
          "text": [
            "0, 1, 1, 2, 3, 5, 8, 13, 21, 34\n"
          ]
        }
      ]
    }
  ]
}