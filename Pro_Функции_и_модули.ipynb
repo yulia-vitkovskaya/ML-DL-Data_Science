{
  "nbformat": 4,
  "nbformat_minor": 0,
  "metadata": {
    "colab": {
      "provenance": []
    },
    "kernelspec": {
      "name": "python3",
      "display_name": "Python 3"
    }
  },
  "cells": [
    {
      "cell_type": "markdown",
      "metadata": {
        "id": "NRUICBBzlLh2"
      },
      "source": [
        "# Домашнее задание\n",
        "Функции и модули\n",
        "# Pro"
      ]
    },
    {
      "cell_type": "markdown",
      "metadata": {
        "id": "MdkF-g7RaL-e"
      },
      "source": [
        "**Задача 1**\n",
        "\n",
        "Напишите функцию, которая принимает на вход строку и считает количество букв в  верхнем и нижнем регистрах.\n",
        "Пример: 'На берегу Амазонки сидел Фернандо'.\n",
        "Что должно быть на выходе?\n",
        "\n",
        "Количество букв в верхнем регистре: 3\n",
        "\n",
        "Количество букв в нижнем регистре: 26"
      ]
    },
    {
      "cell_type": "markdown",
      "metadata": {
        "id": "RY_Va0a0tISa"
      },
      "source": [
        "**Решение:**"
      ]
    },
    {
      "cell_type": "code",
      "metadata": {
        "id": "fI31-iKKZpfK"
      },
      "source": [
        "def upp_low_string(stroka):\n",
        "  stroka.replace(' ', '')\n",
        "  upper_let = 0\n",
        "  lower_let = 0\n",
        "  for letter in stroka:\n",
        "    if letter.isupper():\n",
        "      upper_let +=1\n",
        "    if letter.islower():\n",
        "      lower_let += 1\n",
        "  return upper_let, lower_let"
      ],
      "execution_count": null,
      "outputs": []
    },
    {
      "cell_type": "code",
      "source": [
        "upper_let, lower_let = upp_low_string('На берегу Амазонки сидел Фернандо')\n",
        "print('Количество букв в верхнем регистре:', upper_let)\n",
        "print('Количество букв в нижнем регистре:', lower_let)"
      ],
      "metadata": {
        "colab": {
          "base_uri": "https://localhost:8080/"
        },
        "id": "kF4WgOuoKdV0",
        "outputId": "5b3964ad-2ca8-4a45-f9b8-b28c2123bf82"
      },
      "execution_count": null,
      "outputs": [
        {
          "output_type": "stream",
          "name": "stdout",
          "text": [
            "Количество букв в верхнем регистре: 3\n",
            "Количество букв в нижнем регистре: 26\n"
          ]
        }
      ]
    },
    {
      "cell_type": "markdown",
      "metadata": {
        "id": "62u1ta9Dbd6I"
      },
      "source": [
        "**Задача 2**\n",
        "\n",
        "Напишите функцию, которая принимает на вход число и проверяет, если оно простое.\n",
        "\n",
        "Простые числа - это натуральные(целые положительные) числа, которые делятся только на себя или на единицу.\n",
        "Пример: 3 - это простое число, т. к. нацело 3 делится только на 3 и на 1."
      ]
    },
    {
      "cell_type": "markdown",
      "metadata": {
        "id": "j7zRnbUqtPWz"
      },
      "source": [
        "**Решение:**"
      ]
    },
    {
      "cell_type": "code",
      "metadata": {
        "id": "WQrf7m37bbzg"
      },
      "source": [
        "def is_prime(num):\n",
        "  if (num == 2 or num == 3): return True\n",
        "  if (num % 2 == 0 or num < 2): return False\n",
        "  for i in range(3, int(num**0.5) + 1, 2):\n",
        "    if (num % i == 0):\n",
        "      return False\n",
        "  return True"
      ],
      "execution_count": null,
      "outputs": []
    },
    {
      "cell_type": "code",
      "source": [
        "print(is_prime(77))\n",
        "print(is_prime(7))\n",
        "print(is_prime(86))"
      ],
      "metadata": {
        "colab": {
          "base_uri": "https://localhost:8080/"
        },
        "id": "F1E431cmPXcI",
        "outputId": "a3e32f59-ef9e-47da-a2c4-93e72b91dc7f"
      },
      "execution_count": null,
      "outputs": [
        {
          "output_type": "stream",
          "name": "stdout",
          "text": [
            "False\n",
            "True\n",
            "False\n"
          ]
        }
      ]
    },
    {
      "cell_type": "markdown",
      "metadata": {
        "id": "EB8q1Uqmb3EM"
      },
      "source": [
        "**Задача 3**\n",
        "\n",
        "Напишите функцию, которая проверяет, если число совершенное.\n",
        "Совершенным числом является положительное число, такое, что оно является суммой собственных положительных делителей (все, кроме самого числа).\n",
        "Пример: первым в числовом ряду совершенным числом является 6: 1+2+3=6\n",
        "Найдите такие числа в промежутке, который вы будете вводить с клавиатуры (два числа: начало и конец промежутка), например, промежуток от 5 до 150."
      ]
    },
    {
      "cell_type": "markdown",
      "metadata": {
        "id": "YBvBJLLhtRj2"
      },
      "source": [
        "**Решение:**"
      ]
    },
    {
      "cell_type": "code",
      "metadata": {
        "id": "nw5dUEKobkcK"
      },
      "source": [
        "def perfect_num(num):\n",
        "  sum = 0\n",
        "  for i in range(1, num):\n",
        "    if num % i == 0:\n",
        "      sum += i\n",
        "  return num == sum\n",
        "\n",
        "def perfect_list():\n",
        "  begin = int(input('Введите с клавиатуры начало промежутка: '))\n",
        "  end = int(input('Введите с клавиатуры конец промежутка: '))\n",
        "  for j in range(begin, end+1):\n",
        "    if perfect_num(j):\n",
        "      print(f'{j} является совершенным числом')"
      ],
      "execution_count": null,
      "outputs": []
    },
    {
      "cell_type": "code",
      "source": [
        "perfect_list()"
      ],
      "metadata": {
        "colab": {
          "base_uri": "https://localhost:8080/"
        },
        "id": "XKhv57cjSDxk",
        "outputId": "dd9dce18-59e6-4db2-ae0b-b12e3d180caf"
      },
      "execution_count": null,
      "outputs": [
        {
          "output_type": "stream",
          "name": "stdout",
          "text": [
            "Введите с клавиатуры начало промежутка: 5\n",
            "Введите с клавиатуры конец промежутка: 150\n",
            "6 является совершенным числом\n",
            "28 является совершенным числом\n"
          ]
        }
      ]
    },
    {
      "cell_type": "markdown",
      "metadata": {
        "id": "C6wZrXBkcREG"
      },
      "source": [
        "**Задача 4**\n",
        "\n",
        "Напишите функцию, которая проверяет, если фраза является палиндромом. Пример такой фразы:\n",
        "\n",
        "а роза упала на лапу Азора."
      ]
    },
    {
      "cell_type": "markdown",
      "metadata": {
        "id": "Zl_EcHNztTkD"
      },
      "source": [
        "**Решение:**"
      ]
    },
    {
      "cell_type": "code",
      "metadata": {
        "id": "A8L1JTAOcQnn"
      },
      "source": [
        "def polyndrom(stroka):\n",
        "  stroka =  stroka.lower().replace(' ', '').replace(',', '')\n",
        "\n",
        "  return stroka == stroka[::-1]"
      ],
      "execution_count": null,
      "outputs": []
    },
    {
      "cell_type": "code",
      "source": [
        "polyndrom('шалаш')\n",
        "polyndrom('а роза упала на лапу Азора')"
      ],
      "metadata": {
        "colab": {
          "base_uri": "https://localhost:8080/"
        },
        "id": "2j5zjUUAWlCm",
        "outputId": "d031f126-916c-43d9-cfe6-4c5a49beef27"
      },
      "execution_count": null,
      "outputs": [
        {
          "output_type": "execute_result",
          "data": {
            "text/plain": [
              "True"
            ]
          },
          "metadata": {},
          "execution_count": 72
        }
      ]
    },
    {
      "cell_type": "markdown",
      "metadata": {
        "id": "xj7JnUMCdKDa"
      },
      "source": [
        "**Задача 5**\n",
        "\n",
        "Посчитать значение $\\cos^2(\\pi/7)$ и $\\sin^2(\\pi/7)$, используя указанные функции из библиотеки ```math```, применив для этого **каждую** из конструкций импорта:\n",
        "```\n",
        "# 1. Импорт модуля или модулей целиком\n",
        "import имя_модуля\n",
        "\n",
        "# 2. Импорт модуля с присвоением псевдонима модулю\n",
        "import имя_модуля as новое_имя\n",
        "\n",
        "# 3. Импорт конкретного объекта из модуля\n",
        "from имя_модуля import имя_объекта\n",
        "from имя_модуля import имя_объекта1, имя_объекта2\n",
        "\n",
        "# 4. Импорт конкретного объекта из модуля с присвоением псевдонима объекту\n",
        "from имя_модуля import имя_объекта as псевдоним_объекта\n",
        "\n",
        "# 5. Импорт всех объектов из модуля\n",
        "from имя_модуля import *\n",
        "```\n",
        "Найдите сумму $\\cos^2(\\pi/7)$ и $\\sin^2(\\pi/7)$.\n"
      ]
    },
    {
      "cell_type": "markdown",
      "metadata": {
        "id": "yVx2wkb1tWV5"
      },
      "source": [
        "**Решение:**"
      ]
    },
    {
      "cell_type": "code",
      "metadata": {
        "id": "nYI9t8umdYur",
        "colab": {
          "base_uri": "https://localhost:8080/"
        },
        "outputId": "d15a7e39-3566-4bb6-b7b8-3ebdf8591d6f"
      },
      "source": [
        "import math\n",
        "\n",
        "print(math.cos(math.pi/7)**2 + math.sin(math.pi/7)**2)"
      ],
      "execution_count": null,
      "outputs": [
        {
          "output_type": "stream",
          "name": "stdout",
          "text": [
            "1.0\n"
          ]
        }
      ]
    },
    {
      "cell_type": "code",
      "source": [
        "import math as m\n",
        "\n",
        "print(m.cos(m.pi/7)**2 + m.sin(m.pi/7)**2)"
      ],
      "metadata": {
        "colab": {
          "base_uri": "https://localhost:8080/"
        },
        "id": "4llKdYVKYrUc",
        "outputId": "ce806500-444b-4a5e-e38d-06c623eaf412"
      },
      "execution_count": null,
      "outputs": [
        {
          "output_type": "stream",
          "name": "stdout",
          "text": [
            "1.0\n"
          ]
        }
      ]
    },
    {
      "cell_type": "code",
      "source": [
        "from math import pi\n",
        "from math import sin, cos\n",
        "\n",
        "print(cos(pi/7)**2 + sin(pi/7)**2)"
      ],
      "metadata": {
        "colab": {
          "base_uri": "https://localhost:8080/"
        },
        "id": "gzwXMsjfY01Q",
        "outputId": "846dd808-9733-4cc2-c09c-dea130b97f44"
      },
      "execution_count": null,
      "outputs": [
        {
          "output_type": "stream",
          "name": "stdout",
          "text": [
            "1.0\n"
          ]
        }
      ]
    },
    {
      "cell_type": "code",
      "source": [
        "from math import pi as p\n",
        "from math import sin as s\n",
        "from math import cos as c\n",
        "\n",
        "print(c(p/7)**2 + s(p/7)**2)"
      ],
      "metadata": {
        "colab": {
          "base_uri": "https://localhost:8080/"
        },
        "id": "0Ckca2GVZJAS",
        "outputId": "6fb70ef8-029b-4209-8672-44221b4c0726"
      },
      "execution_count": null,
      "outputs": [
        {
          "output_type": "stream",
          "name": "stdout",
          "text": [
            "1.0\n"
          ]
        }
      ]
    },
    {
      "cell_type": "code",
      "source": [
        "from math import *\n",
        "\n",
        "print(cos(pi/7)**2 + sin(pi/7)**2)"
      ],
      "metadata": {
        "colab": {
          "base_uri": "https://localhost:8080/"
        },
        "id": "ZXKNGVflZXrh",
        "outputId": "a0308c0c-d0e6-404b-98f7-0f5971c5cb1a"
      },
      "execution_count": null,
      "outputs": [
        {
          "output_type": "stream",
          "name": "stdout",
          "text": [
            "1.0\n"
          ]
        }
      ]
    }
  ]
}