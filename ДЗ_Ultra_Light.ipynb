{
  "nbformat": 4,
  "nbformat_minor": 0,
  "metadata": {
    "colab": {
      "provenance": [],
      "gpuType": "T4"
    },
    "kernelspec": {
      "name": "python3",
      "display_name": "Python 3"
    },
    "language_info": {
      "name": "python"
    },
    "accelerator": "GPU"
  },
  "cells": [
    {
      "cell_type": "markdown",
      "source": [
        "## **Импорт библиотек**"
      ],
      "metadata": {
        "id": "TUytexK8p3eX"
      }
    },
    {
      "cell_type": "code",
      "execution_count": null,
      "metadata": {
        "id": "ohVTUakepwqw"
      },
      "outputs": [],
      "source": [
        "from tensorflow.keras.datasets import mnist #Библиотека с базой Mnist\n",
        "from tensorflow.keras.models import Sequential # Подлючаем класс создания модели Sequential\n",
        "from tensorflow.keras.layers import Dense # Подключаем класс Dense - полносвязный слой\n",
        "from tensorflow.keras.optimizers import Adam # Подключаем оптимизатор Adam\n",
        "from tensorflow.keras import utils #Утилиты для to_categorical\n",
        "from tensorflow.keras.preprocessing import image #Для отрисовки изображения\n",
        "from sklearn.model_selection import train_test_split\n",
        "import numpy as np # Подключаем библиотеку numpy\n",
        "import pylab # Модуль для построения графиков\n",
        "import matplotlib.pyplot as plt #Отрисовка изображений\n",
        "from PIL import Image #Отрисовка изображений\n",
        "#Отрисовывать изображения в ноутбуке, а не в консоль или файл\n",
        "%matplotlib inline"
      ]
    },
    {
      "cell_type": "markdown",
      "source": [
        "## **Загрузка базы MNIST**"
      ],
      "metadata": {
        "id": "1tn_hJ36p8W0"
      }
    },
    {
      "cell_type": "code",
      "source": [
        "(x_train_org, y_train_org), (x_test_org, y_test_org) = mnist.load_data()"
      ],
      "metadata": {
        "id": "ojCyNxAyqAH3"
      },
      "execution_count": null,
      "outputs": []
    },
    {
      "cell_type": "markdown",
      "source": [
        "### **test_size = 0.1**"
      ],
      "metadata": {
        "id": "daPgV0kybrMv"
      }
    },
    {
      "cell_type": "code",
      "source": [
        "x_train, x_val, y_train, y_val = train_test_split(x_train_org, y_train_org, test_size=0.1, shuffle=True)\n",
        "print (x_train.shape)\n",
        "print (x_val.shape)\n",
        "print (y_train.shape)\n",
        "print (y_val.shape)"
      ],
      "metadata": {
        "colab": {
          "base_uri": "https://localhost:8080/"
        },
        "id": "x6HqICTIZ82X",
        "outputId": "8e3c31ac-818b-4922-ee38-52025108384e"
      },
      "execution_count": null,
      "outputs": [
        {
          "output_type": "stream",
          "name": "stdout",
          "text": [
            "(54000, 28, 28)\n",
            "(6000, 28, 28)\n",
            "(54000,)\n",
            "(6000,)\n"
          ]
        }
      ]
    },
    {
      "cell_type": "markdown",
      "source": [
        "## **Нормирование и преобразование x_train и y_train**"
      ],
      "metadata": {
        "id": "OK8t9ccWqDR6"
      }
    },
    {
      "cell_type": "code",
      "source": [
        "#смена разрешения изображений\n",
        "x_train = x_train.reshape(54000, 784)\n",
        "x_val = x_val.reshape(6000, 784)\n",
        "x_test = x_test_org.reshape(10000, 784)\n",
        "print(x_train.shape)\n",
        "print(x_val.shape)"
      ],
      "metadata": {
        "colab": {
          "base_uri": "https://localhost:8080/"
        },
        "id": "hMSnYWdGqOpD",
        "outputId": "e1535cf0-08d7-4337-c1b3-cc9f553dda0e"
      },
      "execution_count": null,
      "outputs": [
        {
          "output_type": "stream",
          "name": "stdout",
          "text": [
            "(54000, 784)\n",
            "(6000, 784)\n"
          ]
        }
      ]
    },
    {
      "cell_type": "code",
      "source": [
        "#нормализация входных картинок\n",
        "x_train = x_train.astype('float32') / 255\n",
        "x_val = x_val.astype('float32') / 255\n",
        "x_test = x_test.astype('float32') /255"
      ],
      "metadata": {
        "id": "nh-Ohyjjqjwx"
      },
      "execution_count": null,
      "outputs": []
    },
    {
      "cell_type": "code",
      "source": [
        "#Преобразуем в формат one code encoding\n",
        "y_train = utils.to_categorical(y_train, 10)\n",
        "y_val = utils.to_categorical(y_val, 10)\n",
        "y_test = utils.to_categorical(y_test_org, 10)"
      ],
      "metadata": {
        "id": "wdN6fb8kql86"
      },
      "execution_count": null,
      "outputs": []
    },
    {
      "cell_type": "markdown",
      "source": [
        "## **Создание и обучение нейронной сети**"
      ],
      "metadata": {
        "id": "LttWkUkIqtsk"
      }
    },
    {
      "cell_type": "code",
      "source": [
        "model = Sequential()\n",
        "model.add(Dense(800, input_dim=784, activation=\"relu\"))\n",
        "model.add(Dense(400, activation=\"relu\"))\n",
        "model.add(Dense(10, activation=\"softmax\"))\n",
        "\n",
        "model.compile(loss=\"categorical_crossentropy\", optimizer=\"adam\", metrics=[\"accuracy\"])\n",
        "model.fit(x_train, y_train, batch_size=128, epochs=15, verbose=1, validation_data=(x_val, y_val))\n",
        "acc_test = model.evaluate(x_test, y_test)\n",
        "print(acc_test[1])"
      ],
      "metadata": {
        "colab": {
          "base_uri": "https://localhost:8080/"
        },
        "id": "_njY0Nnwar5o",
        "outputId": "10d0d2a6-3389-442b-913b-5523c18aec0c"
      },
      "execution_count": null,
      "outputs": [
        {
          "output_type": "stream",
          "name": "stdout",
          "text": [
            "Epoch 1/15\n",
            "422/422 [==============================] - 3s 4ms/step - loss: 0.2129 - accuracy: 0.9366 - val_loss: 0.1068 - val_accuracy: 0.9673\n",
            "Epoch 2/15\n",
            "422/422 [==============================] - 2s 4ms/step - loss: 0.0808 - accuracy: 0.9752 - val_loss: 0.0799 - val_accuracy: 0.9738\n",
            "Epoch 3/15\n",
            "422/422 [==============================] - 2s 5ms/step - loss: 0.0480 - accuracy: 0.9851 - val_loss: 0.0591 - val_accuracy: 0.9808\n",
            "Epoch 4/15\n",
            "422/422 [==============================] - 2s 4ms/step - loss: 0.0349 - accuracy: 0.9889 - val_loss: 0.0653 - val_accuracy: 0.9787\n",
            "Epoch 5/15\n",
            "422/422 [==============================] - 2s 4ms/step - loss: 0.0261 - accuracy: 0.9916 - val_loss: 0.0649 - val_accuracy: 0.9810\n",
            "Epoch 6/15\n",
            "422/422 [==============================] - 2s 4ms/step - loss: 0.0237 - accuracy: 0.9922 - val_loss: 0.0677 - val_accuracy: 0.9798\n",
            "Epoch 7/15\n",
            "422/422 [==============================] - 2s 4ms/step - loss: 0.0181 - accuracy: 0.9939 - val_loss: 0.0727 - val_accuracy: 0.9812\n",
            "Epoch 8/15\n",
            "422/422 [==============================] - 2s 4ms/step - loss: 0.0162 - accuracy: 0.9944 - val_loss: 0.0690 - val_accuracy: 0.9817\n",
            "Epoch 9/15\n",
            "422/422 [==============================] - 2s 4ms/step - loss: 0.0108 - accuracy: 0.9966 - val_loss: 0.0790 - val_accuracy: 0.9845\n",
            "Epoch 10/15\n",
            "422/422 [==============================] - 2s 5ms/step - loss: 0.0128 - accuracy: 0.9957 - val_loss: 0.0866 - val_accuracy: 0.9797\n",
            "Epoch 11/15\n",
            "422/422 [==============================] - 2s 4ms/step - loss: 0.0164 - accuracy: 0.9949 - val_loss: 0.0823 - val_accuracy: 0.9815\n",
            "Epoch 12/15\n",
            "422/422 [==============================] - 2s 4ms/step - loss: 0.0138 - accuracy: 0.9954 - val_loss: 0.0673 - val_accuracy: 0.9830\n",
            "Epoch 13/15\n",
            "422/422 [==============================] - 2s 4ms/step - loss: 0.0098 - accuracy: 0.9966 - val_loss: 0.0730 - val_accuracy: 0.9830\n",
            "Epoch 14/15\n",
            "422/422 [==============================] - 2s 4ms/step - loss: 0.0095 - accuracy: 0.9967 - val_loss: 0.0842 - val_accuracy: 0.9817\n",
            "Epoch 15/15\n",
            "422/422 [==============================] - 2s 4ms/step - loss: 0.0081 - accuracy: 0.9971 - val_loss: 0.0837 - val_accuracy: 0.9833\n",
            "313/313 [==============================] - 1s 2ms/step - loss: 0.0984 - accuracy: 0.9799\n",
            "0.9799000024795532\n"
          ]
        }
      ]
    },
    {
      "cell_type": "markdown",
      "source": [
        "### **test_size = 0.5**"
      ],
      "metadata": {
        "id": "wUV6AiBPc2CD"
      }
    },
    {
      "cell_type": "code",
      "source": [
        "x_train, x_val, y_train, y_val = train_test_split(x_train_org, y_train_org, test_size=0.5, shuffle=True)\n",
        "print (x_train.shape)\n",
        "print (x_val.shape)\n",
        "print (y_train.shape)\n",
        "print (y_val.shape)"
      ],
      "metadata": {
        "colab": {
          "base_uri": "https://localhost:8080/"
        },
        "id": "15YA5syac3-R",
        "outputId": "9a162c4d-ea58-439e-8996-def4d5d19b4a"
      },
      "execution_count": null,
      "outputs": [
        {
          "output_type": "stream",
          "name": "stdout",
          "text": [
            "(30000, 28, 28)\n",
            "(30000, 28, 28)\n",
            "(30000,)\n",
            "(30000,)\n"
          ]
        }
      ]
    },
    {
      "cell_type": "markdown",
      "source": [
        "## **Нормирование и преобразование x_train и y_train**"
      ],
      "metadata": {
        "id": "b9j5iM-vc-nT"
      }
    },
    {
      "cell_type": "code",
      "source": [
        "x_train = x_train.reshape(30000, 784)\n",
        "x_val = x_val.reshape(30000, 784)\n",
        "x_test = x_test_org.reshape(10000, 784)\n",
        "print(x_train.shape)\n",
        "print(x_val.shape)"
      ],
      "metadata": {
        "colab": {
          "base_uri": "https://localhost:8080/"
        },
        "id": "61Sa5H4jc77L",
        "outputId": "4f3fb239-dfe9-412c-f1d8-7ba184c51743"
      },
      "execution_count": null,
      "outputs": [
        {
          "output_type": "stream",
          "name": "stdout",
          "text": [
            "(30000, 784)\n",
            "(30000, 784)\n"
          ]
        }
      ]
    },
    {
      "cell_type": "code",
      "source": [
        "x_train = x_train.astype('float32') / 255\n",
        "x_val = x_val.astype('float32') / 255\n",
        "x_test = x_test.astype('float32') /255"
      ],
      "metadata": {
        "id": "14bvZaiFdDJN"
      },
      "execution_count": null,
      "outputs": []
    },
    {
      "cell_type": "code",
      "source": [
        "y_train = utils.to_categorical(y_train, 10)\n",
        "y_val = utils.to_categorical(y_val, 10)\n",
        "y_test = utils.to_categorical(y_test_org, 10)"
      ],
      "metadata": {
        "id": "bFtpSQBqdDtM"
      },
      "execution_count": null,
      "outputs": []
    },
    {
      "cell_type": "markdown",
      "source": [
        "## **Создание и обучение нейронной сети**"
      ],
      "metadata": {
        "id": "NdRvC1RkdGrV"
      }
    },
    {
      "cell_type": "code",
      "source": [
        "model = Sequential()\n",
        "model.add(Dense(800, input_dim=784, activation=\"relu\"))\n",
        "model.add(Dense(400, activation=\"relu\"))\n",
        "model.add(Dense(10, activation=\"softmax\"))\n",
        "\n",
        "model.compile(loss=\"categorical_crossentropy\", optimizer=\"adam\", metrics=[\"accuracy\"])\n",
        "model.fit(x_train, y_train, batch_size=128, epochs=15, verbose=1, validation_data=(x_val, y_val))\n",
        "acc_test = model.evaluate(x_test, y_test)\n",
        "print(acc_test[1])"
      ],
      "metadata": {
        "colab": {
          "base_uri": "https://localhost:8080/"
        },
        "id": "vZ4Z29gGdJP7",
        "outputId": "459ee1d4-a321-4a22-98ee-6c3494f10c42"
      },
      "execution_count": null,
      "outputs": [
        {
          "output_type": "stream",
          "name": "stdout",
          "text": [
            "Epoch 1/15\n",
            "235/235 [==============================] - 3s 7ms/step - loss: 0.2850 - accuracy: 0.9142 - val_loss: 0.1566 - val_accuracy: 0.9514\n",
            "Epoch 2/15\n",
            "235/235 [==============================] - 1s 5ms/step - loss: 0.1025 - accuracy: 0.9693 - val_loss: 0.1373 - val_accuracy: 0.9574\n",
            "Epoch 3/15\n",
            "235/235 [==============================] - 2s 7ms/step - loss: 0.0599 - accuracy: 0.9818 - val_loss: 0.0943 - val_accuracy: 0.9716\n",
            "Epoch 4/15\n",
            "235/235 [==============================] - 2s 7ms/step - loss: 0.0391 - accuracy: 0.9878 - val_loss: 0.0971 - val_accuracy: 0.9719\n",
            "Epoch 5/15\n",
            "235/235 [==============================] - 1s 5ms/step - loss: 0.0274 - accuracy: 0.9916 - val_loss: 0.1049 - val_accuracy: 0.9715\n",
            "Epoch 6/15\n",
            "235/235 [==============================] - 1s 6ms/step - loss: 0.0217 - accuracy: 0.9931 - val_loss: 0.1025 - val_accuracy: 0.9730\n",
            "Epoch 7/15\n",
            "235/235 [==============================] - 1s 6ms/step - loss: 0.0182 - accuracy: 0.9936 - val_loss: 0.1025 - val_accuracy: 0.9745\n",
            "Epoch 8/15\n",
            "235/235 [==============================] - 1s 6ms/step - loss: 0.0173 - accuracy: 0.9948 - val_loss: 0.1346 - val_accuracy: 0.9692\n",
            "Epoch 9/15\n",
            "235/235 [==============================] - 2s 7ms/step - loss: 0.0170 - accuracy: 0.9943 - val_loss: 0.1050 - val_accuracy: 0.9760\n",
            "Epoch 10/15\n",
            "235/235 [==============================] - 2s 7ms/step - loss: 0.0064 - accuracy: 0.9982 - val_loss: 0.1044 - val_accuracy: 0.9768\n",
            "Epoch 11/15\n",
            "235/235 [==============================] - 2s 10ms/step - loss: 0.0033 - accuracy: 0.9990 - val_loss: 0.0999 - val_accuracy: 0.9784\n",
            "Epoch 12/15\n",
            "235/235 [==============================] - 1s 6ms/step - loss: 0.0060 - accuracy: 0.9984 - val_loss: 0.1072 - val_accuracy: 0.9751\n",
            "Epoch 13/15\n",
            "235/235 [==============================] - 1s 6ms/step - loss: 0.0153 - accuracy: 0.9948 - val_loss: 0.1534 - val_accuracy: 0.9657\n",
            "Epoch 14/15\n",
            "235/235 [==============================] - 1s 6ms/step - loss: 0.0219 - accuracy: 0.9924 - val_loss: 0.1102 - val_accuracy: 0.9748\n",
            "Epoch 15/15\n",
            "235/235 [==============================] - 1s 6ms/step - loss: 0.0072 - accuracy: 0.9975 - val_loss: 0.1214 - val_accuracy: 0.9754\n",
            "313/313 [==============================] - 1s 2ms/step - loss: 0.1193 - accuracy: 0.9744\n",
            "0.974399983882904\n"
          ]
        }
      ]
    },
    {
      "cell_type": "markdown",
      "source": [
        "### **test_size = 0.9**"
      ],
      "metadata": {
        "id": "SPnPKdLjfFet"
      }
    },
    {
      "cell_type": "code",
      "source": [
        "x_train, x_val, y_train, y_val = train_test_split(x_train_org, y_train_org, test_size=0.9, shuffle=True)\n",
        "print (x_train.shape)\n",
        "print (x_val.shape)\n",
        "print (y_train.shape)\n",
        "print (y_val.shape)"
      ],
      "metadata": {
        "colab": {
          "base_uri": "https://localhost:8080/"
        },
        "id": "ajbkKmWXfIeI",
        "outputId": "765a84de-fc91-4d24-e4f9-bdf688cd005f"
      },
      "execution_count": null,
      "outputs": [
        {
          "output_type": "stream",
          "name": "stdout",
          "text": [
            "(6000, 28, 28)\n",
            "(54000, 28, 28)\n",
            "(6000,)\n",
            "(54000,)\n"
          ]
        }
      ]
    },
    {
      "cell_type": "markdown",
      "source": [
        "## **Нормирование и преобразование x_train и y_train**"
      ],
      "metadata": {
        "id": "6SMF-AmPfLfH"
      }
    },
    {
      "cell_type": "code",
      "source": [
        "x_train = x_train.reshape(6000, 784)\n",
        "x_val = x_val.reshape(54000, 784)\n",
        "x_test = x_test_org.reshape(10000, 784)\n",
        "print(x_train.shape)\n",
        "print(x_val.shape)"
      ],
      "metadata": {
        "colab": {
          "base_uri": "https://localhost:8080/"
        },
        "id": "WCiP8-4bfPZx",
        "outputId": "89f42b29-119d-4e13-fafa-9a2abfa5f9d9"
      },
      "execution_count": null,
      "outputs": [
        {
          "output_type": "stream",
          "name": "stdout",
          "text": [
            "(6000, 784)\n",
            "(54000, 784)\n"
          ]
        }
      ]
    },
    {
      "cell_type": "code",
      "source": [
        "x_train = x_train.astype('float32') / 255\n",
        "x_val = x_val.astype('float32') / 255\n",
        "x_test = x_test.astype('float32') /255"
      ],
      "metadata": {
        "id": "AzqSniDxfS3y"
      },
      "execution_count": null,
      "outputs": []
    },
    {
      "cell_type": "code",
      "source": [
        "y_train = utils.to_categorical(y_train, 10)\n",
        "y_val = utils.to_categorical(y_val, 10)\n",
        "y_test = utils.to_categorical(y_test_org, 10)"
      ],
      "metadata": {
        "id": "6yf2UgoJfVj3"
      },
      "execution_count": null,
      "outputs": []
    },
    {
      "cell_type": "markdown",
      "source": [
        "## **Создание и обучение нейронной сети**"
      ],
      "metadata": {
        "id": "WhdUfAbifYrc"
      }
    },
    {
      "cell_type": "code",
      "source": [
        "model = Sequential()\n",
        "model.add(Dense(800, input_dim=784, activation=\"relu\"))\n",
        "model.add(Dense(400, activation=\"relu\"))\n",
        "model.add(Dense(10, activation=\"softmax\"))\n",
        "\n",
        "model.compile(loss=\"categorical_crossentropy\", optimizer=\"adam\", metrics=[\"accuracy\"])\n",
        "model.fit(x_train, y_train, batch_size=128, epochs=15, verbose=1, validation_data=(x_val, y_val))\n",
        "acc_test = model.evaluate(x_test, y_test)\n",
        "print(acc_test[1])"
      ],
      "metadata": {
        "colab": {
          "base_uri": "https://localhost:8080/"
        },
        "id": "CCPiGZY7fcEX",
        "outputId": "a2c94a67-52c0-4ef7-9ee2-1cc62c1bbf50"
      },
      "execution_count": null,
      "outputs": [
        {
          "output_type": "stream",
          "name": "stdout",
          "text": [
            "Epoch 1/15\n",
            "47/47 [==============================] - 3s 32ms/step - loss: 0.6077 - accuracy: 0.8193 - val_loss: 0.2918 - val_accuracy: 0.9134\n",
            "Epoch 2/15\n",
            "47/47 [==============================] - 1s 31ms/step - loss: 0.2149 - accuracy: 0.9387 - val_loss: 0.2374 - val_accuracy: 0.9275\n",
            "Epoch 3/15\n",
            "47/47 [==============================] - 2s 33ms/step - loss: 0.1254 - accuracy: 0.9608 - val_loss: 0.2290 - val_accuracy: 0.9299\n",
            "Epoch 4/15\n",
            "47/47 [==============================] - 1s 31ms/step - loss: 0.0787 - accuracy: 0.9793 - val_loss: 0.1900 - val_accuracy: 0.9460\n",
            "Epoch 5/15\n",
            "47/47 [==============================] - 2s 33ms/step - loss: 0.0474 - accuracy: 0.9887 - val_loss: 0.1823 - val_accuracy: 0.9488\n",
            "Epoch 6/15\n",
            "47/47 [==============================] - 1s 22ms/step - loss: 0.0218 - accuracy: 0.9967 - val_loss: 0.1983 - val_accuracy: 0.9444\n",
            "Epoch 7/15\n",
            "47/47 [==============================] - 1s 23ms/step - loss: 0.0121 - accuracy: 0.9992 - val_loss: 0.1854 - val_accuracy: 0.9510\n",
            "Epoch 8/15\n",
            "47/47 [==============================] - 1s 31ms/step - loss: 0.0066 - accuracy: 1.0000 - val_loss: 0.1850 - val_accuracy: 0.9524\n",
            "Epoch 9/15\n",
            "47/47 [==============================] - 1s 23ms/step - loss: 0.0037 - accuracy: 1.0000 - val_loss: 0.1866 - val_accuracy: 0.9534\n",
            "Epoch 10/15\n",
            "47/47 [==============================] - 1s 31ms/step - loss: 0.0025 - accuracy: 1.0000 - val_loss: 0.1905 - val_accuracy: 0.9534\n",
            "Epoch 11/15\n",
            "47/47 [==============================] - 1s 28ms/step - loss: 0.0018 - accuracy: 1.0000 - val_loss: 0.1926 - val_accuracy: 0.9535\n",
            "Epoch 12/15\n",
            "47/47 [==============================] - 1s 32ms/step - loss: 0.0014 - accuracy: 1.0000 - val_loss: 0.1944 - val_accuracy: 0.9539\n",
            "Epoch 13/15\n",
            "47/47 [==============================] - 1s 31ms/step - loss: 0.0012 - accuracy: 1.0000 - val_loss: 0.1969 - val_accuracy: 0.9539\n",
            "Epoch 14/15\n",
            "47/47 [==============================] - 1s 23ms/step - loss: 0.0010 - accuracy: 1.0000 - val_loss: 0.1997 - val_accuracy: 0.9541\n",
            "Epoch 15/15\n",
            "47/47 [==============================] - 1s 31ms/step - loss: 8.6645e-04 - accuracy: 1.0000 - val_loss: 0.2023 - val_accuracy: 0.9537\n",
            "313/313 [==============================] - 1s 2ms/step - loss: 0.1809 - accuracy: 0.9588\n",
            "0.9588000178337097\n"
          ]
        }
      ]
    }
  ]
}