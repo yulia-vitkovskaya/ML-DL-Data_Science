{
  "nbformat": 4,
  "nbformat_minor": 0,
  "metadata": {
    "colab": {
      "provenance": []
    },
    "kernelspec": {
      "name": "python3",
      "display_name": "Python 3"
    }
  },
  "cells": [
    {
      "cell_type": "markdown",
      "metadata": {
        "id": "NRUICBBzlLh2"
      },
      "source": [
        "# Домашнее задание Функции и модули\n",
        "# Light"
      ]
    },
    {
      "cell_type": "markdown",
      "metadata": {
        "id": "J_3EMvI2E3fG"
      },
      "source": [
        "**Задача 1**\n",
        "\n",
        "Определите функцию ```shut_down```, которая на вход принимает некоторый аргумент. Если на вход было подано \"ДА\", то функция возвращает \"Выключение\", если \"НЕТ\", то должна вернуть \"Выключение отклонено\". Если же ни одно из условий не соблюдено (на вход подали что-то другое), то функция возвращает \"Ошибка!\""
      ]
    },
    {
      "cell_type": "markdown",
      "metadata": {
        "id": "TAv1C6Slr2At"
      },
      "source": [
        "**Решение:**"
      ]
    },
    {
      "cell_type": "code",
      "metadata": {
        "id": "Hn8T4IUgFrce"
      },
      "source": [
        "def shut_down(word):\n",
        "  if word=='ДА':\n",
        "    return 'Выключение'\n",
        "  elif word=='НЕТ':\n",
        "    return 'Выключение отклонено'\n",
        "  else:\n",
        "    return 'Ошибка!'"
      ],
      "execution_count": null,
      "outputs": []
    },
    {
      "cell_type": "code",
      "source": [
        "print(shut_down('ДА'))\n",
        "print(shut_down('НЕТ'))\n",
        "print(shut_down('Искусственный Интеллект'))"
      ],
      "metadata": {
        "colab": {
          "base_uri": "https://localhost:8080/"
        },
        "id": "ZPLO5c8yzJ1B",
        "outputId": "48454e4c-2cc5-41b8-e095-a1732c86b38c"
      },
      "execution_count": null,
      "outputs": [
        {
          "output_type": "stream",
          "name": "stdout",
          "text": [
            "Выключение\n",
            "Выключение отклонено\n",
            "Ошибка!\n"
          ]
        }
      ]
    },
    {
      "cell_type": "markdown",
      "metadata": {
        "id": "y9HKW0zfFrx5"
      },
      "source": [
        "**Задача 2**\n",
        "\n",
        "Напишите функцию, которая возвращает сумму всех четных элементов списка."
      ]
    },
    {
      "cell_type": "markdown",
      "metadata": {
        "id": "iySoBodZr751"
      },
      "source": [
        "**Решение:**"
      ]
    },
    {
      "cell_type": "code",
      "metadata": {
        "id": "4EarzKMgF-3S"
      },
      "source": [
        "def summa(my_list):\n",
        "  sum = 0\n",
        "  new_list = my_list[::2]\n",
        "  for el in new_list:\n",
        "    sum += el\n",
        "  return sum"
      ],
      "execution_count": null,
      "outputs": []
    },
    {
      "cell_type": "code",
      "source": [
        "my_list = [1, 2, 3, 4, 5]\n",
        "print(summa(my_list))"
      ],
      "metadata": {
        "colab": {
          "base_uri": "https://localhost:8080/"
        },
        "id": "cX6HR8C_zmqB",
        "outputId": "bb6ad4ea-76dc-4a82-b4fd-f0790496db52"
      },
      "execution_count": null,
      "outputs": [
        {
          "output_type": "stream",
          "name": "stdout",
          "text": [
            "9\n"
          ]
        }
      ]
    },
    {
      "cell_type": "markdown",
      "metadata": {
        "id": "wmWxT1ibGfpN"
      },
      "source": [
        "**Задача 3**\n",
        "\n",
        "Импортируйте модуль ```math``` и воспользуйтесь оттуда функцией ```sqrt``` для нахождения квадратного корня каждого числа из списка (из задачи № 2).\n"
      ]
    },
    {
      "cell_type": "markdown",
      "metadata": {
        "id": "A0ErhyPBr-XG"
      },
      "source": [
        "**Решение:**"
      ]
    },
    {
      "cell_type": "code",
      "metadata": {
        "id": "zrsGIkgmG-AT",
        "colab": {
          "base_uri": "https://localhost:8080/"
        },
        "outputId": "99f6933e-01cf-44ce-b477-ad5843b885ae"
      },
      "source": [
        "from math import sqrt\n",
        "\n",
        "my_generator = (sqrt(x) for x in my_list)\n",
        "for el in my_generator:\n",
        "  print(el)"
      ],
      "execution_count": null,
      "outputs": [
        {
          "output_type": "stream",
          "name": "stdout",
          "text": [
            "1.0\n",
            "1.4142135623730951\n",
            "1.7320508075688772\n",
            "2.0\n",
            "2.23606797749979\n"
          ]
        }
      ]
    },
    {
      "cell_type": "markdown",
      "metadata": {
        "id": "JQvwHuGsG9Of"
      },
      "source": [
        "**Задача 4**\n",
        "\n",
        "Напишите функцию, которая рассчитает примерное время выполнения этого домашнего задания. На вход она принимает количество минут, потраченное на каждое задание. Выведите посчитанное время на экран."
      ]
    },
    {
      "cell_type": "markdown",
      "metadata": {
        "id": "qC8Ts9yesAB_"
      },
      "source": [
        "**Решение:**"
      ]
    },
    {
      "cell_type": "code",
      "metadata": {
        "id": "68KXmNplpTt5"
      },
      "source": [
        "def time(time_list):\n",
        "  sum = 0\n",
        "  for el in time_list:\n",
        "    sum += el\n",
        "  return sum"
      ],
      "execution_count": null,
      "outputs": []
    },
    {
      "cell_type": "code",
      "source": [
        "time_list = [2, 3, 4, 8, 10]\n",
        "\n",
        "print(time(time_list))"
      ],
      "metadata": {
        "colab": {
          "base_uri": "https://localhost:8080/"
        },
        "id": "BQ-d9Y4h2XjM",
        "outputId": "45e5d9d3-5f4e-421b-a613-6f5c1a8a38c0"
      },
      "execution_count": null,
      "outputs": [
        {
          "output_type": "stream",
          "name": "stdout",
          "text": [
            "27\n"
          ]
        }
      ]
    },
    {
      "cell_type": "markdown",
      "metadata": {
        "id": "uG25f7M3HZbU"
      },
      "source": [
        "**Задача 5**\n",
        "\n",
        "Напишите функцию, которая возвращает перевернутую строку наоборот.\n",
        "Пример: начальная строка11 -> 11акортс яаньлачан"
      ]
    },
    {
      "cell_type": "code",
      "metadata": {
        "id": "gP4TQuZJILE_"
      },
      "source": [
        "stroka = 'пароль от Wi-Fi: bOTOt0s@ni123'"
      ],
      "execution_count": null,
      "outputs": []
    },
    {
      "cell_type": "markdown",
      "metadata": {
        "id": "rJDo-zTPsFa4"
      },
      "source": [
        "**Решение:**"
      ]
    },
    {
      "cell_type": "code",
      "metadata": {
        "id": "rgx6PA44mb6p"
      },
      "source": [
        "def reverse(stroka):\n",
        "  return stroka[::-1]"
      ],
      "execution_count": null,
      "outputs": []
    },
    {
      "cell_type": "code",
      "source": [
        "print(reverse(stroka))"
      ],
      "metadata": {
        "id": "g7P1xZEA2rfn",
        "outputId": "41031169-4cc0-4e3e-9a9e-0c0c3453527e",
        "colab": {
          "base_uri": "https://localhost:8080/"
        }
      },
      "execution_count": null,
      "outputs": [
        {
          "output_type": "stream",
          "name": "stdout",
          "text": [
            "321in@s0tOTOb :iF-iW то ьлорап\n"
          ]
        }
      ]
    }
  ]
}