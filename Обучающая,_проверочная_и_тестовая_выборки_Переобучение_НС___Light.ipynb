{
  "nbformat": 4,
  "nbformat_minor": 0,
  "metadata": {
    "colab": {
      "provenance": []
    },
    "kernelspec": {
      "name": "python3",
      "display_name": "Python 3"
    },
    "language_info": {
      "name": "python"
    },
    "accelerator": "GPU"
  },
  "cells": [
    {
      "cell_type": "markdown",
      "metadata": {
        "id": "_0527B7Z6fN3"
      },
      "source": [
        "#Задание"
      ]
    },
    {
      "cell_type": "markdown",
      "metadata": {
        "id": "tyt7Xg5G4nVe"
      },
      "source": [
        "Используя шаблон ноутбука для распознавания видов одежды и аксессуаров из набора **fashion_mnist**, выполните следующие действия:\n",
        "\n",
        "1. Создайте **9** моделей нейронной сети с различными архитектурами и сравните в них значения точности на проверочной выборке (на последней эпохе) и на тестовой выборке.  Используйте следующее деление: обучающая выборка - **50000** примеров, проверочная выборка - **10000** примеров, тестовая выборка - **10000** примеров.\n",
        "\n",
        "2. Создайте сравнительную таблицу в конце ноутбука, напишите свои выводы по результатам проведенных тестов."
      ]
    },
    {
      "cell_type": "markdown",
      "metadata": {
        "id": "MYbDjFwh6w5f"
      },
      "source": [
        "# Шаблон ноутбука"
      ]
    },
    {
      "cell_type": "markdown",
      "metadata": {
        "id": "iKVf4kq5_LkZ"
      },
      "source": [
        "##Импорт библиотек"
      ]
    },
    {
      "cell_type": "code",
      "metadata": {
        "id": "b2-CygQC2DMy"
      },
      "source": [
        "# Последовательная модель НС\n",
        "from tensorflow.keras.models import Sequential\n",
        "\n",
        "# Основные слои\n",
        "from tensorflow.keras.layers import Dense, Activation, Dropout, BatchNormalization\n",
        "\n",
        "# Утилиты для to_categorical()\n",
        "from tensorflow.keras import utils\n",
        "\n",
        "# Алгоритмы оптимизации для обучения модели\n",
        "from tensorflow.keras.optimizers import Adam, Adadelta\n",
        "\n",
        "# Библиотека для работы с массивами\n",
        "import numpy as np\n",
        "\n",
        "# Библиотека для работы с таблицами\n",
        "import pandas as pd\n",
        "\n",
        "# Отрисовка графиков\n",
        "import matplotlib.pyplot as plt\n",
        "\n",
        "# Связь с google-диском\n",
        "from google.colab import files\n",
        "\n",
        "# Предварительная обработка данных\n",
        "from sklearn import preprocessing\n",
        "\n",
        "# Разделение данных на выборки\n",
        "from sklearn.model_selection import train_test_split\n",
        "\n",
        "# Для загрузки датасета\n",
        "from keras.datasets import fashion_mnist\n",
        "\n",
        "# Отрисовывать изображения в ноутбуке, а не в консоль или файл\n",
        "%matplotlib inline"
      ],
      "execution_count": null,
      "outputs": []
    },
    {
      "cell_type": "markdown",
      "metadata": {
        "id": "CgHbBuEU_Ied"
      },
      "source": [
        "##Описание базы"
      ]
    },
    {
      "cell_type": "markdown",
      "metadata": {
        "id": "Ts1x7caq8MAO"
      },
      "source": [
        "###База: одежда, обувь и аксессуары\n",
        "- Датасет состоит из набора изображений одежды, обуви, аксессуаров и их классов.\n",
        "- Изображения одного вида хранятся в numpy-массиве **(28, 28)** - **x_train, x_test**.\n",
        "- База содержит **10** классов: (Футболка, Брюки, Пуловер, Платье, Пальто, Сандалии/Босоножки, Рубашка, Кроссовки, Сумочка, Ботильоны) - **y_train, y_test**.\n",
        "- Примеров: train - **60000**, test - **10000**."
      ]
    },
    {
      "cell_type": "markdown",
      "metadata": {
        "id": "f7nIQfV8_FSt"
      },
      "source": [
        "###Вывод примеров"
      ]
    },
    {
      "cell_type": "code",
      "metadata": {
        "colab": {
          "base_uri": "https://localhost:8080/"
        },
        "id": "yHTW8aud4FV4",
        "outputId": "fa659a74-15bb-4639-d2b3-478c4037cc45"
      },
      "source": [
        "(x_train, y_train), (x_test, y_test) = fashion_mnist.load_data()\n",
        "\n",
        "\n",
        "print('Размер x_train:',x_train.shape)\n",
        "print('Размер y_train:',y_train.shape)\n",
        "print('Размер x_test:',x_test.shape)\n",
        "print('Размер y_test:',y_test.shape)"
      ],
      "execution_count": null,
      "outputs": [
        {
          "output_type": "stream",
          "name": "stdout",
          "text": [
            "Downloading data from https://storage.googleapis.com/tensorflow/tf-keras-datasets/train-labels-idx1-ubyte.gz\n",
            "29515/29515 [==============================] - 0s 0us/step\n",
            "Downloading data from https://storage.googleapis.com/tensorflow/tf-keras-datasets/train-images-idx3-ubyte.gz\n",
            "26421880/26421880 [==============================] - 0s 0us/step\n",
            "Downloading data from https://storage.googleapis.com/tensorflow/tf-keras-datasets/t10k-labels-idx1-ubyte.gz\n",
            "5148/5148 [==============================] - 0s 0us/step\n",
            "Downloading data from https://storage.googleapis.com/tensorflow/tf-keras-datasets/t10k-images-idx3-ubyte.gz\n",
            "4422102/4422102 [==============================] - 0s 0us/step\n",
            "Размер x_train: (60000, 28, 28)\n",
            "Размер y_train: (60000,)\n",
            "Размер x_test: (10000, 28, 28)\n",
            "Размер y_test: (10000,)\n"
          ]
        }
      ]
    },
    {
      "cell_type": "code",
      "metadata": {
        "colab": {
          "base_uri": "https://localhost:8080/",
          "height": 269
        },
        "id": "VKM4z51g3sSX",
        "outputId": "34252a68-a4e2-4ca8-acf2-840ead92d6e8"
      },
      "source": [
        "imgs = np.array([x_train[y_train==i][0] for i in range(10)])\n",
        "\n",
        "imgs = np.concatenate(imgs, axis=1)\n",
        "\n",
        "plt.figure(figsize=(30, 6))\n",
        "\n",
        "plt.imshow(imgs, cmap='Greys_r')\n",
        "\n",
        "plt.grid(False)\n",
        "\n",
        "plt.axis('off')\n",
        "\n",
        "plt.show()"
      ],
      "execution_count": null,
      "outputs": [
        {
          "output_type": "display_data",
          "data": {
            "text/plain": [
              "<Figure size 3000x600 with 1 Axes>"
            ],
            "image/png": "[encoded data removed]"
          },
          "metadata": {}
        }
      ]
    },
    {
      "cell_type": "markdown",
      "source": [
        "### **Нормализация данных**"
      ],
      "metadata": {
        "id": "J_DpA5A9tyzM"
      }
    },
    {
      "cell_type": "code",
      "source": [
        "x_train = x_train.reshape(60000, 784)\n",
        "x_test = x_test.reshape(10000, 784)\n",
        "print(x_train.shape)\n",
        "print(x_test.shape)"
      ],
      "metadata": {
        "colab": {
          "base_uri": "https://localhost:8080/"
        },
        "id": "ZWhESfajtyg3",
        "outputId": "19d35432-ce3e-4a7f-c959-cac45f66f70f"
      },
      "execution_count": null,
      "outputs": [
        {
          "output_type": "stream",
          "name": "stdout",
          "text": [
            "(60000, 784)\n",
            "(10000, 784)\n"
          ]
        }
      ]
    },
    {
      "cell_type": "code",
      "source": [
        "x_train = x_train.astype('float32') / 255\n",
        "x_test = x_test.astype('float32') / 255"
      ],
      "metadata": {
        "id": "HzEkyOtyuHVA"
      },
      "execution_count": null,
      "outputs": []
    },
    {
      "cell_type": "code",
      "source": [
        "y_train = utils.to_categorical(y_train, 10)\n",
        "y_test = utils.to_categorical(y_test, 10)"
      ],
      "metadata": {
        "id": "cvbJHEpauMAi"
      },
      "execution_count": null,
      "outputs": []
    },
    {
      "cell_type": "markdown",
      "source": [
        "### **Создание нейронных сетей**"
      ],
      "metadata": {
        "id": "zFBq_3SZuRz5"
      }
    },
    {
      "cell_type": "code",
      "source": [
        "def model(neuron, is_dropout, drops, results):\n",
        "  model = Sequential()\n",
        "  model.add(Dense(neuron, activation = 'relu', input_dim=784))\n",
        "  if is_dropout == True: model.add(Dropout(drops))\n",
        "  model.add(Dense(neuron // 2, activation='relu'))\n",
        "  if is_dropout == True: model.add(Dropout(drops))\n",
        "  model.add(Dense(10, activation='softmax'))\n",
        "\n",
        "  model.compile(loss='categorical_crossentropy',\n",
        "              optimizer=Adam(learning_rate=0.001),\n",
        "              metrics=['accuracy'])\n",
        "  model.fit(x_train, y_train, batch_size = 128, epochs=10, validation_split=0.2, verbose=1, shuffle=True)\n",
        "  acc_test = model.evaluate(x_test, y_test)\n",
        "  results.append(('Number of neurons:', neuron, 'Accuracy:', acc_test[1], 'Dropout: ', is_dropout, 'indicator of dropout: ', drops))"
      ],
      "metadata": {
        "id": "-5pkMeiQslJR"
      },
      "execution_count": null,
      "outputs": []
    },
    {
      "cell_type": "code",
      "source": [
        "results = []\n",
        "model1 = model(600, False, 0, results)\n",
        "model2 = model(600, True, 0.1, results)\n",
        "model3 = model(600, True, 0.3, results)\n",
        "model4 = model(600, True, 0.5, results)\n",
        "model5 = model(600, True, 0.7, results)\n",
        "model6 = model(300, False, 0, results)\n",
        "model7 = model(300, True, 0.1, results)\n",
        "model8 = model(300, True, 0.3, results)\n",
        "model9 = model(300, True, 0.5, results)\n",
        "model10 = model(300, True, 0.7, results)"
      ],
      "metadata": {
        "id": "ZUV7eltE5gQC",
        "colab": {
          "base_uri": "https://localhost:8080/"
        },
        "outputId": "21ad04e2-92dd-4e57-ac60-cf55dab6fb04"
      },
      "execution_count": null,
      "outputs": [
        {
          "output_type": "stream",
          "name": "stdout",
          "text": [
            "Epoch 1/10\n",
            "375/375 [==============================] - 8s 6ms/step - loss: 0.5006 - accuracy: 0.8224 - val_loss: 0.4066 - val_accuracy: 0.8528\n",
            "Epoch 2/10\n",
            "375/375 [==============================] - 1s 4ms/step - loss: 0.3624 - accuracy: 0.8678 - val_loss: 0.3729 - val_accuracy: 0.8618\n",
            "Epoch 3/10\n",
            "375/375 [==============================] - 1s 4ms/step - loss: 0.3217 - accuracy: 0.8807 - val_loss: 0.3408 - val_accuracy: 0.8751\n",
            "Epoch 4/10\n",
            "375/375 [==============================] - 1s 4ms/step - loss: 0.2974 - accuracy: 0.8906 - val_loss: 0.3451 - val_accuracy: 0.8740\n",
            "Epoch 5/10\n",
            "375/375 [==============================] - 1s 4ms/step - loss: 0.2757 - accuracy: 0.8970 - val_loss: 0.3128 - val_accuracy: 0.8869\n",
            "Epoch 6/10\n",
            "375/375 [==============================] - 1s 4ms/step - loss: 0.2630 - accuracy: 0.9010 - val_loss: 0.3116 - val_accuracy: 0.8877\n",
            "Epoch 7/10\n",
            "375/375 [==============================] - 1s 4ms/step - loss: 0.2509 - accuracy: 0.9057 - val_loss: 0.3206 - val_accuracy: 0.8827\n",
            "Epoch 8/10\n",
            "375/375 [==============================] - 1s 4ms/step - loss: 0.2338 - accuracy: 0.9114 - val_loss: 0.3073 - val_accuracy: 0.8908\n",
            "Epoch 9/10\n",
            "375/375 [==============================] - 2s 5ms/step - loss: 0.2285 - accuracy: 0.9133 - val_loss: 0.3469 - val_accuracy: 0.8813\n",
            "Epoch 10/10\n",
            "375/375 [==============================] - 2s 4ms/step - loss: 0.2169 - accuracy: 0.9180 - val_loss: 0.3022 - val_accuracy: 0.8923\n",
            "313/313 [==============================] - 1s 2ms/step - loss: 0.3358 - accuracy: 0.8849\n",
            "Epoch 1/10\n",
            "375/375 [==============================] - 3s 6ms/step - loss: 0.5168 - accuracy: 0.8142 - val_loss: 0.3959 - val_accuracy: 0.8541\n",
            "Epoch 2/10\n",
            "375/375 [==============================] - 2s 4ms/step - loss: 0.3770 - accuracy: 0.8625 - val_loss: 0.3500 - val_accuracy: 0.8729\n",
            "Epoch 3/10\n",
            "375/375 [==============================] - 1s 4ms/step - loss: 0.3418 - accuracy: 0.8744 - val_loss: 0.3436 - val_accuracy: 0.8768\n",
            "Epoch 4/10\n",
            "375/375 [==============================] - 1s 4ms/step - loss: 0.3130 - accuracy: 0.8836 - val_loss: 0.3378 - val_accuracy: 0.8747\n",
            "Epoch 5/10\n",
            "375/375 [==============================] - 2s 6ms/step - loss: 0.2951 - accuracy: 0.8897 - val_loss: 0.3157 - val_accuracy: 0.8834\n",
            "Epoch 6/10\n",
            "375/375 [==============================] - 1s 4ms/step - loss: 0.2827 - accuracy: 0.8956 - val_loss: 0.3281 - val_accuracy: 0.8798\n",
            "Epoch 7/10\n",
            "375/375 [==============================] - 1s 4ms/step - loss: 0.2713 - accuracy: 0.8981 - val_loss: 0.3305 - val_accuracy: 0.8779\n",
            "Epoch 8/10\n",
            "375/375 [==============================] - 1s 4ms/step - loss: 0.2598 - accuracy: 0.9019 - val_loss: 0.3159 - val_accuracy: 0.8862\n",
            "Epoch 9/10\n",
            "375/375 [==============================] - 1s 4ms/step - loss: 0.2505 - accuracy: 0.9055 - val_loss: 0.3133 - val_accuracy: 0.8876\n",
            "Epoch 10/10\n",
            "375/375 [==============================] - 1s 4ms/step - loss: 0.2415 - accuracy: 0.9080 - val_loss: 0.3252 - val_accuracy: 0.8863\n",
            "313/313 [==============================] - 1s 3ms/step - loss: 0.3575 - accuracy: 0.8783\n",
            "Epoch 1/10\n",
            "375/375 [==============================] - 3s 4ms/step - loss: 0.5724 - accuracy: 0.7956 - val_loss: 0.4243 - val_accuracy: 0.8473\n",
            "Epoch 2/10\n",
            "375/375 [==============================] - 1s 4ms/step - loss: 0.4147 - accuracy: 0.8488 - val_loss: 0.3752 - val_accuracy: 0.8597\n",
            "Epoch 3/10\n",
            "375/375 [==============================] - 2s 5ms/step - loss: 0.3791 - accuracy: 0.8615 - val_loss: 0.3688 - val_accuracy: 0.8664\n",
            "Epoch 4/10\n",
            "375/375 [==============================] - 1s 4ms/step - loss: 0.3549 - accuracy: 0.8687 - val_loss: 0.3367 - val_accuracy: 0.8814\n",
            "Epoch 5/10\n",
            "375/375 [==============================] - 1s 4ms/step - loss: 0.3373 - accuracy: 0.8772 - val_loss: 0.3280 - val_accuracy: 0.8802\n",
            "Epoch 6/10\n",
            "375/375 [==============================] - 2s 5ms/step - loss: 0.3242 - accuracy: 0.8814 - val_loss: 0.3207 - val_accuracy: 0.8836\n",
            "Epoch 7/10\n",
            "375/375 [==============================] - 2s 4ms/step - loss: 0.3149 - accuracy: 0.8845 - val_loss: 0.3152 - val_accuracy: 0.8855\n",
            "Epoch 8/10\n",
            "375/375 [==============================] - 1s 4ms/step - loss: 0.3040 - accuracy: 0.8860 - val_loss: 0.3147 - val_accuracy: 0.8848\n",
            "Epoch 9/10\n",
            "375/375 [==============================] - 1s 4ms/step - loss: 0.2934 - accuracy: 0.8914 - val_loss: 0.3118 - val_accuracy: 0.8856\n",
            "Epoch 10/10\n",
            "375/375 [==============================] - 1s 4ms/step - loss: 0.2889 - accuracy: 0.8914 - val_loss: 0.3192 - val_accuracy: 0.8828\n",
            "313/313 [==============================] - 1s 3ms/step - loss: 0.3405 - accuracy: 0.8746\n",
            "Epoch 1/10\n",
            "375/375 [==============================] - 3s 4ms/step - loss: 0.6662 - accuracy: 0.7616 - val_loss: 0.4314 - val_accuracy: 0.8438\n",
            "Epoch 2/10\n",
            "375/375 [==============================] - 1s 4ms/step - loss: 0.4792 - accuracy: 0.8270 - val_loss: 0.4001 - val_accuracy: 0.8543\n",
            "Epoch 3/10\n",
            "375/375 [==============================] - 2s 4ms/step - loss: 0.4410 - accuracy: 0.8400 - val_loss: 0.3859 - val_accuracy: 0.8588\n",
            "Epoch 4/10\n",
            "375/375 [==============================] - 2s 4ms/step - loss: 0.4116 - accuracy: 0.8498 - val_loss: 0.3533 - val_accuracy: 0.8728\n",
            "Epoch 5/10\n",
            "375/375 [==============================] - 1s 4ms/step - loss: 0.3959 - accuracy: 0.8570 - val_loss: 0.3650 - val_accuracy: 0.8577\n",
            "Epoch 6/10\n",
            "375/375 [==============================] - 1s 4ms/step - loss: 0.3797 - accuracy: 0.8606 - val_loss: 0.3427 - val_accuracy: 0.8729\n",
            "Epoch 7/10\n",
            "375/375 [==============================] - 1s 4ms/step - loss: 0.3701 - accuracy: 0.8636 - val_loss: 0.3499 - val_accuracy: 0.8733\n",
            "Epoch 8/10\n",
            "375/375 [==============================] - 2s 5ms/step - loss: 0.3635 - accuracy: 0.8657 - val_loss: 0.3312 - val_accuracy: 0.8827\n",
            "Epoch 9/10\n",
            "375/375 [==============================] - 1s 4ms/step - loss: 0.3552 - accuracy: 0.8690 - val_loss: 0.3276 - val_accuracy: 0.8800\n",
            "Epoch 10/10\n",
            "375/375 [==============================] - 1s 4ms/step - loss: 0.3473 - accuracy: 0.8728 - val_loss: 0.3260 - val_accuracy: 0.8826\n",
            "313/313 [==============================] - 1s 2ms/step - loss: 0.3499 - accuracy: 0.8735\n",
            "Epoch 1/10\n",
            "375/375 [==============================] - 3s 6ms/step - loss: 0.8692 - accuracy: 0.6861 - val_loss: 0.4938 - val_accuracy: 0.8192\n",
            "Epoch 2/10\n",
            "375/375 [==============================] - 1s 4ms/step - loss: 0.5999 - accuracy: 0.7844 - val_loss: 0.4549 - val_accuracy: 0.8406\n",
            "Epoch 3/10\n",
            "375/375 [==============================] - 1s 4ms/step - loss: 0.5465 - accuracy: 0.8058 - val_loss: 0.4236 - val_accuracy: 0.8454\n",
            "Epoch 4/10\n",
            "375/375 [==============================] - 2s 5ms/step - loss: 0.5151 - accuracy: 0.8174 - val_loss: 0.4003 - val_accuracy: 0.8495\n",
            "Epoch 5/10\n",
            "375/375 [==============================] - 2s 4ms/step - loss: 0.4982 - accuracy: 0.8225 - val_loss: 0.3916 - val_accuracy: 0.8582\n",
            "Epoch 6/10\n",
            "375/375 [==============================] - 1s 4ms/step - loss: 0.4810 - accuracy: 0.8285 - val_loss: 0.3968 - val_accuracy: 0.8611\n",
            "Epoch 7/10\n",
            "375/375 [==============================] - 1s 4ms/step - loss: 0.4716 - accuracy: 0.8299 - val_loss: 0.3876 - val_accuracy: 0.8588\n",
            "Epoch 8/10\n",
            "375/375 [==============================] - 2s 5ms/step - loss: 0.4592 - accuracy: 0.8356 - val_loss: 0.3789 - val_accuracy: 0.8622\n",
            "Epoch 9/10\n",
            "375/375 [==============================] - 2s 5ms/step - loss: 0.4561 - accuracy: 0.8366 - val_loss: 0.3722 - val_accuracy: 0.8639\n",
            "Epoch 10/10\n",
            "375/375 [==============================] - 2s 4ms/step - loss: 0.4493 - accuracy: 0.8376 - val_loss: 0.3715 - val_accuracy: 0.8675\n",
            "313/313 [==============================] - 1s 2ms/step - loss: 0.3957 - accuracy: 0.8609\n",
            "Epoch 1/10\n",
            "375/375 [==============================] - 3s 4ms/step - loss: 0.5347 - accuracy: 0.8126 - val_loss: 0.4118 - val_accuracy: 0.8502\n",
            "Epoch 2/10\n",
            "375/375 [==============================] - 2s 5ms/step - loss: 0.3807 - accuracy: 0.8629 - val_loss: 0.3691 - val_accuracy: 0.8659\n",
            "Epoch 3/10\n",
            "375/375 [==============================] - 2s 5ms/step - loss: 0.3338 - accuracy: 0.8770 - val_loss: 0.3479 - val_accuracy: 0.8733\n",
            "Epoch 4/10\n",
            "375/375 [==============================] - 2s 5ms/step - loss: 0.3113 - accuracy: 0.8854 - val_loss: 0.3538 - val_accuracy: 0.8730\n",
            "Epoch 5/10\n",
            "375/375 [==============================] - 1s 4ms/step - loss: 0.2892 - accuracy: 0.8919 - val_loss: 0.3218 - val_accuracy: 0.8838\n",
            "Epoch 6/10\n",
            "375/375 [==============================] - 2s 4ms/step - loss: 0.2752 - accuracy: 0.8975 - val_loss: 0.3179 - val_accuracy: 0.8848\n",
            "Epoch 7/10\n",
            "375/375 [==============================] - 1s 4ms/step - loss: 0.2557 - accuracy: 0.9055 - val_loss: 0.3321 - val_accuracy: 0.8812\n",
            "Epoch 8/10\n",
            "375/375 [==============================] - 1s 4ms/step - loss: 0.2485 - accuracy: 0.9070 - val_loss: 0.3433 - val_accuracy: 0.8779\n",
            "Epoch 9/10\n",
            "375/375 [==============================] - 1s 4ms/step - loss: 0.2394 - accuracy: 0.9104 - val_loss: 0.3146 - val_accuracy: 0.8855\n",
            "Epoch 10/10\n",
            "375/375 [==============================] - 2s 6ms/step - loss: 0.2283 - accuracy: 0.9142 - val_loss: 0.3326 - val_accuracy: 0.8823\n",
            "313/313 [==============================] - 1s 3ms/step - loss: 0.3639 - accuracy: 0.8710\n",
            "Epoch 1/10\n",
            "375/375 [==============================] - 3s 4ms/step - loss: 0.5599 - accuracy: 0.8027 - val_loss: 0.4078 - val_accuracy: 0.8542\n",
            "Epoch 2/10\n",
            "375/375 [==============================] - 2s 4ms/step - loss: 0.3910 - accuracy: 0.8572 - val_loss: 0.3795 - val_accuracy: 0.8655\n",
            "Epoch 3/10\n",
            "375/375 [==============================] - 1s 4ms/step - loss: 0.3548 - accuracy: 0.8708 - val_loss: 0.3699 - val_accuracy: 0.8684\n",
            "Epoch 4/10\n",
            "375/375 [==============================] - 2s 4ms/step - loss: 0.3263 - accuracy: 0.8783 - val_loss: 0.3469 - val_accuracy: 0.8756\n",
            "Epoch 5/10\n",
            "375/375 [==============================] - 1s 4ms/step - loss: 0.3099 - accuracy: 0.8845 - val_loss: 0.3527 - val_accuracy: 0.8639\n",
            "Epoch 6/10\n",
            "375/375 [==============================] - 2s 5ms/step - loss: 0.2944 - accuracy: 0.8922 - val_loss: 0.3191 - val_accuracy: 0.8830\n",
            "Epoch 7/10\n",
            "375/375 [==============================] - 2s 4ms/step - loss: 0.2813 - accuracy: 0.8944 - val_loss: 0.3193 - val_accuracy: 0.8832\n",
            "Epoch 8/10\n",
            "375/375 [==============================] - 2s 4ms/step - loss: 0.2708 - accuracy: 0.8974 - val_loss: 0.3157 - val_accuracy: 0.8851\n",
            "Epoch 9/10\n",
            "375/375 [==============================] - 2s 4ms/step - loss: 0.2605 - accuracy: 0.9018 - val_loss: 0.3159 - val_accuracy: 0.8862\n",
            "Epoch 10/10\n",
            "375/375 [==============================] - 2s 4ms/step - loss: 0.2543 - accuracy: 0.9049 - val_loss: 0.3145 - val_accuracy: 0.8882\n",
            "313/313 [==============================] - 1s 3ms/step - loss: 0.3399 - accuracy: 0.8805\n",
            "Epoch 1/10\n",
            "375/375 [==============================] - 3s 5ms/step - loss: 0.6396 - accuracy: 0.7740 - val_loss: 0.4381 - val_accuracy: 0.8427\n",
            "Epoch 2/10\n",
            "375/375 [==============================] - 2s 4ms/step - loss: 0.4411 - accuracy: 0.8415 - val_loss: 0.3812 - val_accuracy: 0.8590\n",
            "Epoch 3/10\n",
            "375/375 [==============================] - 2s 4ms/step - loss: 0.3995 - accuracy: 0.8558 - val_loss: 0.3643 - val_accuracy: 0.8683\n",
            "Epoch 4/10\n",
            "375/375 [==============================] - 2s 4ms/step - loss: 0.3746 - accuracy: 0.8630 - val_loss: 0.3502 - val_accuracy: 0.8726\n",
            "Epoch 5/10\n",
            "375/375 [==============================] - 1s 4ms/step - loss: 0.3590 - accuracy: 0.8683 - val_loss: 0.3430 - val_accuracy: 0.8766\n",
            "Epoch 6/10\n",
            "375/375 [==============================] - 2s 4ms/step - loss: 0.3417 - accuracy: 0.8730 - val_loss: 0.3362 - val_accuracy: 0.8786\n",
            "Epoch 7/10\n",
            "375/375 [==============================] - 2s 6ms/step - loss: 0.3312 - accuracy: 0.8783 - val_loss: 0.3316 - val_accuracy: 0.8771\n",
            "Epoch 8/10\n",
            "375/375 [==============================] - 1s 4ms/step - loss: 0.3198 - accuracy: 0.8837 - val_loss: 0.3262 - val_accuracy: 0.8822\n",
            "Epoch 9/10\n",
            "375/375 [==============================] - 1s 4ms/step - loss: 0.3150 - accuracy: 0.8838 - val_loss: 0.3132 - val_accuracy: 0.8903\n",
            "Epoch 10/10\n",
            "375/375 [==============================] - 2s 4ms/step - loss: 0.3074 - accuracy: 0.8864 - val_loss: 0.3252 - val_accuracy: 0.8797\n",
            "313/313 [==============================] - 1s 3ms/step - loss: 0.3459 - accuracy: 0.8758\n",
            "Epoch 1/10\n",
            "375/375 [==============================] - 4s 6ms/step - loss: 0.7578 - accuracy: 0.7292 - val_loss: 0.4560 - val_accuracy: 0.8371\n",
            "Epoch 2/10\n",
            "375/375 [==============================] - 1s 4ms/step - loss: 0.5124 - accuracy: 0.8178 - val_loss: 0.3972 - val_accuracy: 0.8537\n",
            "Epoch 3/10\n",
            "375/375 [==============================] - 2s 4ms/step - loss: 0.4668 - accuracy: 0.8333 - val_loss: 0.3959 - val_accuracy: 0.8543\n",
            "Epoch 4/10\n",
            "375/375 [==============================] - 1s 4ms/step - loss: 0.4413 - accuracy: 0.8415 - val_loss: 0.3707 - val_accuracy: 0.8624\n",
            "Epoch 5/10\n",
            "375/375 [==============================] - 2s 4ms/step - loss: 0.4184 - accuracy: 0.8490 - val_loss: 0.3576 - val_accuracy: 0.8706\n",
            "Epoch 6/10\n",
            "375/375 [==============================] - 2s 4ms/step - loss: 0.4039 - accuracy: 0.8538 - val_loss: 0.3600 - val_accuracy: 0.8702\n",
            "Epoch 7/10\n",
            "375/375 [==============================] - 1s 4ms/step - loss: 0.3935 - accuracy: 0.8579 - val_loss: 0.3508 - val_accuracy: 0.8756\n",
            "Epoch 8/10\n",
            "375/375 [==============================] - 2s 5ms/step - loss: 0.3817 - accuracy: 0.8604 - val_loss: 0.3454 - val_accuracy: 0.8742\n",
            "Epoch 9/10\n",
            "375/375 [==============================] - 2s 5ms/step - loss: 0.3749 - accuracy: 0.8643 - val_loss: 0.3300 - val_accuracy: 0.8806\n",
            "Epoch 10/10\n",
            "375/375 [==============================] - 2s 4ms/step - loss: 0.3686 - accuracy: 0.8644 - val_loss: 0.3356 - val_accuracy: 0.8786\n",
            "313/313 [==============================] - 1s 3ms/step - loss: 0.3662 - accuracy: 0.8706\n",
            "Epoch 1/10\n",
            "375/375 [==============================] - 3s 5ms/step - loss: 1.0954 - accuracy: 0.6092 - val_loss: 0.5540 - val_accuracy: 0.7918\n",
            "Epoch 2/10\n",
            "375/375 [==============================] - 2s 5ms/step - loss: 0.6972 - accuracy: 0.7489 - val_loss: 0.4918 - val_accuracy: 0.8227\n",
            "Epoch 3/10\n",
            "375/375 [==============================] - 2s 5ms/step - loss: 0.6251 - accuracy: 0.7783 - val_loss: 0.4518 - val_accuracy: 0.8358\n",
            "Epoch 4/10\n",
            "375/375 [==============================] - 1s 4ms/step - loss: 0.5880 - accuracy: 0.7910 - val_loss: 0.4383 - val_accuracy: 0.8431\n",
            "Epoch 5/10\n",
            "375/375 [==============================] - 1s 4ms/step - loss: 0.5681 - accuracy: 0.7983 - val_loss: 0.4243 - val_accuracy: 0.8465\n",
            "Epoch 6/10\n",
            "375/375 [==============================] - 2s 4ms/step - loss: 0.5425 - accuracy: 0.8107 - val_loss: 0.4151 - val_accuracy: 0.8511\n",
            "Epoch 7/10\n",
            "375/375 [==============================] - 1s 4ms/step - loss: 0.5278 - accuracy: 0.8150 - val_loss: 0.4069 - val_accuracy: 0.8498\n",
            "Epoch 8/10\n",
            "375/375 [==============================] - 1s 4ms/step - loss: 0.5216 - accuracy: 0.8150 - val_loss: 0.4036 - val_accuracy: 0.8575\n",
            "Epoch 9/10\n",
            "375/375 [==============================] - 1s 4ms/step - loss: 0.5144 - accuracy: 0.8198 - val_loss: 0.4055 - val_accuracy: 0.8606\n",
            "Epoch 10/10\n",
            "375/375 [==============================] - 2s 5ms/step - loss: 0.5023 - accuracy: 0.8239 - val_loss: 0.3882 - val_accuracy: 0.8616\n",
            "313/313 [==============================] - 1s 4ms/step - loss: 0.4112 - accuracy: 0.8518\n"
          ]
        }
      ]
    },
    {
      "cell_type": "code",
      "source": [
        "for i in results:\n",
        "  print(i)"
      ],
      "metadata": {
        "colab": {
          "base_uri": "https://localhost:8080/"
        },
        "id": "8-qcJhPc3jmo",
        "outputId": "6b9c3278-3e17-4304-9c48-2f52f20757b8"
      },
      "execution_count": null,
      "outputs": [
        {
          "output_type": "stream",
          "name": "stdout",
          "text": [
            "('Кол-во нейронов:', 600, 'Точность:', 0.8848999738693237, 'Dropout: ', False, 'Показатель dropout: ', 0)\n",
            "('Кол-во нейронов:', 600, 'Точность:', 0.8783000111579895, 'Dropout: ', True, 'Показатель dropout: ', 0.1)\n",
            "('Кол-во нейронов:', 600, 'Точность:', 0.8745999932289124, 'Dropout: ', True, 'Показатель dropout: ', 0.3)\n",
            "('Кол-во нейронов:', 600, 'Точность:', 0.8734999895095825, 'Dropout: ', True, 'Показатель dropout: ', 0.5)\n",
            "('Кол-во нейронов:', 600, 'Точность:', 0.8608999848365784, 'Dropout: ', True, 'Показатель dropout: ', 0.7)\n",
            "('Кол-во нейронов:', 300, 'Точность:', 0.8709999918937683, 'Dropout: ', False, 'Показатель dropout: ', 0)\n",
            "('Кол-во нейронов:', 300, 'Точность:', 0.8805000185966492, 'Dropout: ', True, 'Показатель dropout: ', 0.1)\n",
            "('Кол-во нейронов:', 300, 'Точность:', 0.8758000135421753, 'Dropout: ', True, 'Показатель dropout: ', 0.3)\n",
            "('Кол-во нейронов:', 300, 'Точность:', 0.8705999851226807, 'Dropout: ', True, 'Показатель dropout: ', 0.5)\n",
            "('Кол-во нейронов:', 300, 'Точность:', 0.8518000245094299, 'Dropout: ', True, 'Показатель dropout: ', 0.7)\n"
          ]
        }
      ]
    }
  ]
}