{
  "nbformat": 4,
  "nbformat_minor": 0,
  "metadata": {
    "colab": {
      "provenance": []
    },
    "kernelspec": {
      "name": "python3",
      "display_name": "Python 3"
    }
  },
  "cells": [
    {
      "cell_type": "markdown",
      "metadata": {
        "id": "B3PcJ7EzvzUY"
      },
      "source": [
        "Домашнее задание. Теория вероятностей. Часть 1. Ultra Pro"
      ]
    },
    {
      "cell_type": "markdown",
      "metadata": {
        "id": "p12o2tAZv0UB"
      },
      "source": [
        "Задача 1\n",
        "\n",
        "Вероятность поражения цели первым стрелком при одном выстреле равна 0,6. Вероятность того, что цель не поражена после выполнения первым и вторым стрелками по одному выстрелу равна 0,06. Какова вероятность поражения цели вторым стрелком при одном выстреле?"
      ]
    },
    {
      "cell_type": "code",
      "metadata": {
        "id": "EVro93sVv0v7",
        "colab": {
          "base_uri": "https://localhost:8080/"
        },
        "outputId": "aa205435-11de-49f4-8089-29543fcd6092"
      },
      "source": [
        "# вероятность промаха первым стрелком равна 1-0,6=0,4\n",
        "# вероятность промаха вторым стрелком равна 0,06/0,4 = 0,15\n",
        "# тогда вероятность попадания вторым стрелком равна 1-0,15 = 0,85\n",
        "print(0.85)"
      ],
      "execution_count": null,
      "outputs": [
        {
          "output_type": "stream",
          "name": "stdout",
          "text": [
            "0.85\n"
          ]
        }
      ]
    },
    {
      "cell_type": "markdown",
      "metadata": {
        "id": "caIvnv6kwY-1"
      },
      "source": [
        "Задача 2\n",
        "\n",
        "В коробке находится 60 лотерейных билетов, среди которых 16 выигрышных, причем 2 из них выигрывают по 1200 рублей, а остальные по 150. Составьте закон распределения случайной величины размера выигрыша, если из коробки наугад извлекается один билет."
      ]
    },
    {
      "cell_type": "code",
      "metadata": {
        "id": "_0COBHOXxuK_",
        "colab": {
          "base_uri": "https://localhost:8080/"
        },
        "outputId": "9fb6ef82-a2d3-495c-ec92-5a0915e2d218"
      },
      "source": [
        "x1 = 1200\n",
        "x2 = 150\n",
        "x3 = 0\n",
        "p1 = 2/60\n",
        "p2 = 14/60\n",
        "p3 = 44/60\n",
        "print(f'{x1} | {x2} | {x3}')\n",
        "print('--------------------')\n",
        "print(f'{round(p1, 2)} | {round(p2, 2)} | {round(p3, 2)}')"
      ],
      "execution_count": null,
      "outputs": [
        {
          "output_type": "stream",
          "name": "stdout",
          "text": [
            "1200 | 150 | 0\n",
            "--------------------\n",
            "0.03 | 0.23 | 0.73\n"
          ]
        }
      ]
    },
    {
      "cell_type": "markdown",
      "metadata": {
        "id": "Wu9tDnZLxuVc"
      },
      "source": [
        "Задача 3\n",
        "\n",
        "Дискретная случайная величина задана своим законом распределения:"
      ]
    },
    {
      "cell_type": "code",
      "metadata": {
        "id": "2cG64N4szDdK"
      },
      "source": [
        "W = {-2:0.4, 0:0.1, 3:0.3, 7:0.2}"
      ],
      "execution_count": null,
      "outputs": []
    },
    {
      "cell_type": "markdown",
      "metadata": {
        "id": "MHKIHwypzFg4"
      },
      "source": [
        "Найти её математическое ожидание, дисперсию и среднеквадратическое отклонение."
      ]
    },
    {
      "cell_type": "code",
      "metadata": {
        "id": "K7k6ZHRgzdI8",
        "colab": {
          "base_uri": "https://localhost:8080/"
        },
        "outputId": "9517bb75-b1cf-43c4-8ffe-d9bd3ad09bb0"
      },
      "source": [
        "x1 = sum([ key * W[key] for key in W.keys()])\n",
        "x2 = sum([(key**2) * W[key] for key in W.keys()])\n",
        "print(x1)\n",
        "print(x3 := x2- x1**2)\n",
        "print(x3 ** (0.5))"
      ],
      "execution_count": null,
      "outputs": [
        {
          "output_type": "stream",
          "name": "stdout",
          "text": [
            "1.5\n",
            "11.850000000000001\n",
            "3.4423828956117015\n"
          ]
        }
      ]
    },
    {
      "cell_type": "markdown",
      "metadata": {
        "id": "JxAARcunzdir"
      },
      "source": [
        "Задача 4\n",
        "\n",
        "Интревал движения трамвая с остановки N 15 минут, а интервал движения автобуса 7 минут. Вы подошли к остановке в произвольный момент времени.\n",
        "\n",
        "* Какова вероятность прождать автобус не более 3 минут?\n",
        "* Какова вероятность уехать с остановки ожидая транспорт не более 1 минуты?"
      ]
    },
    {
      "cell_type": "code",
      "metadata": {
        "id": "SbnyiYIK0gMO",
        "colab": {
          "base_uri": "https://localhost:8080/"
        },
        "outputId": "cbf14693-6a97-424d-f4a5-da07cfdab0c3"
      },
      "source": [
        "p1 = 1/7\n",
        "p2 = 1/15\n",
        "print(3*p1)\n",
        "print(p1+p2-p1*p2)"
      ],
      "execution_count": null,
      "outputs": [
        {
          "output_type": "stream",
          "name": "stdout",
          "text": [
            "0.42857142857142855\n",
            "0.19999999999999998\n"
          ]
        }
      ]
    },
    {
      "cell_type": "markdown",
      "metadata": {
        "id": "gnS2LpRg0gf5"
      },
      "source": [
        "Задача 5\n",
        "\n",
        "На восьмиместную круглую скамейку случайным образом рассаживается 8 человек.\n",
        "\n",
        "Какова вероятность того, что два определённых человека окажутся рядом?"
      ]
    },
    {
      "cell_type": "code",
      "metadata": {
        "id": "X7Zs5MCq2tNh",
        "colab": {
          "base_uri": "https://localhost:8080/"
        },
        "outputId": "db9214aa-ef9a-48ab-a2d2-f477f830dd2c"
      },
      "source": [
        "print(2/7)"
      ],
      "execution_count": null,
      "outputs": [
        {
          "output_type": "stream",
          "name": "stdout",
          "text": [
            "0.2857142857142857\n"
          ]
        }
      ]
    }
  ]
}